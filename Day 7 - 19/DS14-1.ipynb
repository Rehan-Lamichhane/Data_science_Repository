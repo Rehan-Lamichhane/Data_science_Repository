{
 "cells": [
  {
   "cell_type": "code",
   "execution_count": 1,
   "id": "2c8a2004",
   "metadata": {},
   "outputs": [],
   "source": [
    "import numpy as np\n",
    "import joblib"
   ]
  },
  {
   "cell_type": "code",
   "execution_count": 2,
   "id": "0950e994",
   "metadata": {},
   "outputs": [],
   "source": [
    "model = joblib.load('./KNN_California_Housing.pkl')"
   ]
  },
  {
   "cell_type": "code",
   "execution_count": 3,
   "id": "49e10396",
   "metadata": {},
   "outputs": [],
   "source": [
    "scaler = joblib.load('./Standard_Scaler.pkl')"
   ]
  },
  {
   "cell_type": "code",
   "execution_count": 13,
   "id": "8f2d6081",
   "metadata": {},
   "outputs": [],
   "source": [
    "val = [[ 1.57390000e+00,  1.60000000e+01,  5.91457286e+00,\n",
    "         1.20603015e+00,  5.19000000e+02,  2.60804020e+00,\n",
    "         3.88700000e+01, -1.22640000e+02,  ],\n",
    "       [ 3.06700000e+00,  2.80000000e+01,  3.96666667e+00,\n",
    "         1.09523810e+00,  3.49000000e+02,  1.66190476e+00,\n",
    "         3.40800000e+01, -1.18390000e+02,  ],\n",
    "       [ 2.12500000e+00,  5.00000000e+01,  4.24242424e+00,\n",
    "         1.07196970e+00,  6.97000000e+02,  2.64015152e+00,\n",
    "         3.78500000e+01, -1.22260000e+02,  ],\n",
    "        [ 3.96130000e+00,  3.50000000e+01,  5.17312661e+00,\n",
    "         9.76744186e-01,  1.72600000e+03,  4.45994832e+00,\n",
    "         3.37700000e+01, -1.17900000e+02,  ],\n",
    "       [ 6.22750000e+00,  3.40000000e+01,  6.21530249e+00,\n",
    "         9.75088968e-01,  2.86500000e+03,  2.54893238e+00,\n",
    "         3.78800000e+01, -1.22140000e+02, ]\n",
    "      ]"
   ]
  },
  {
   "cell_type": "code",
   "execution_count": 14,
   "id": "1431014a",
   "metadata": {},
   "outputs": [],
   "source": [
    "val = np.array(val)"
   ]
  },
  {
   "cell_type": "code",
   "execution_count": 15,
   "id": "61ea58df",
   "metadata": {},
   "outputs": [
    {
     "name": "stderr",
     "output_type": "stream",
     "text": [
      "/Users/shilalamichhane/Desktop/anaconda3/lib/python3.11/site-packages/sklearn/base.py:464: UserWarning: X does not have valid feature names, but StandardScaler was fitted with feature names\n",
      "  warnings.warn(\n"
     ]
    }
   ],
   "source": [
    "val = scaler.transform(val)"
   ]
  },
  {
   "cell_type": "code",
   "execution_count": 16,
   "id": "f089d2e2",
   "metadata": {},
   "outputs": [
    {
     "data": {
      "text/plain": [
       "array([0.80842857, 2.72642857, 1.38585714, 1.87042857, 3.31214286])"
      ]
     },
     "execution_count": 16,
     "metadata": {},
     "output_type": "execute_result"
    }
   ],
   "source": [
    "model.predict(val)"
   ]
  },
  {
   "cell_type": "code",
   "execution_count": null,
   "id": "f9f96d2f",
   "metadata": {},
   "outputs": [],
   "source": []
  }
 ],
 "metadata": {
  "kernelspec": {
   "display_name": "Python 3 (ipykernel)",
   "language": "python",
   "name": "python3"
  },
  "language_info": {
   "codemirror_mode": {
    "name": "ipython",
    "version": 3
   },
   "file_extension": ".py",
   "mimetype": "text/x-python",
   "name": "python",
   "nbconvert_exporter": "python",
   "pygments_lexer": "ipython3",
   "version": "3.11.4"
  }
 },
 "nbformat": 4,
 "nbformat_minor": 5
}
