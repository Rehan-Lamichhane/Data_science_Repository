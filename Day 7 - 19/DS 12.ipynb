{
 "cells": [
  {
   "cell_type": "code",
   "execution_count": 1,
   "id": "d693748a",
   "metadata": {},
   "outputs": [],
   "source": [
    "import numpy as np\n",
    "import pandas as pd\n",
    "import matplotlib.pyplot as plt"
   ]
  },
  {
   "cell_type": "code",
   "execution_count": 2,
   "id": "d741240b",
   "metadata": {},
   "outputs": [],
   "source": [
    "from sklearn.linear_model import LinearRegression\n",
    "from scipy.stats import linregress"
   ]
  },
  {
   "cell_type": "code",
   "execution_count": 3,
   "id": "0f617002",
   "metadata": {},
   "outputs": [],
   "source": [
    "from sklearn.metrics import mean_absolute_error , mean_squared_error , r2_score "
   ]
  },
  {
   "cell_type": "markdown",
   "id": "08a6dd88",
   "metadata": {},
   "source": [
    "* Mean Absolute Error (MAE) = $\\frac{\\sum|y_{actual} - y_{predicated}|}{N}$\n",
    "\n",
    "*  Mean Square Error (MSE) = $\\frac{\\sum(y_{actual} - y_{predicated})^2}{N}$\n",
    "\n",
    "* R2 = $1 - \\frac{\\sum (y_{actual} - y_{prediacated})^2}{\\sum(y_{actual} - y_{mean})^2}$"
   ]
  },
  {
   "cell_type": "code",
   "execution_count": 4,
   "id": "4f94fc65",
   "metadata": {},
   "outputs": [],
   "source": [
    "X = np.random.normal(10 , 2 , 120)\n",
    "y = X + np.random.normal(3 , 0.5 , 120)"
   ]
  },
  {
   "cell_type": "code",
   "execution_count": 5,
   "id": "afea1d4f",
   "metadata": {},
   "outputs": [
    {
     "data": {
      "text/plain": [
       "array([ 9.67780328,  7.87086888,  9.92295085,  8.89189947, 12.9564403 ])"
      ]
     },
     "execution_count": 5,
     "metadata": {},
     "output_type": "execute_result"
    }
   ],
   "source": [
    "X[:5]"
   ]
  },
  {
   "cell_type": "code",
   "execution_count": 6,
   "id": "299e7b39",
   "metadata": {},
   "outputs": [
    {
     "data": {
      "text/plain": [
       "array([12.95681782, 10.87660751, 12.7426962 , 12.06881302, 15.08754136])"
      ]
     },
     "execution_count": 6,
     "metadata": {},
     "output_type": "execute_result"
    }
   ],
   "source": [
    "y[:5]"
   ]
  },
  {
   "cell_type": "code",
   "execution_count": 7,
   "id": "fe353bbb",
   "metadata": {},
   "outputs": [],
   "source": [
    "from sklearn.model_selection import train_test_split"
   ]
  },
  {
   "cell_type": "code",
   "execution_count": 8,
   "id": "a75f427b",
   "metadata": {},
   "outputs": [
    {
     "data": {
      "text/plain": [
       "[array([ 9.07215835,  8.85155343, 10.51063485, 12.16439836,  8.48916958,\n",
       "        12.0822769 ,  9.21159074, 12.99097468,  9.45353758,  8.36446072,\n",
       "         8.41825458,  8.26559401, 11.98551817, 10.55637934,  9.88009182,\n",
       "         6.77005079, 12.22180629, 13.61145116,  8.29496109,  7.11597968,\n",
       "         8.89189947,  9.43033251,  8.2347137 ,  6.46415168, 10.81051905,\n",
       "        10.67642548,  9.09187231, 10.49941843, 12.88832944, 11.32607815,\n",
       "         6.95171369,  7.44764729, 13.0250357 ,  9.58397095,  9.68220339,\n",
       "        11.42625204, 11.04450132,  7.40048821,  8.99026484,  6.13634206,\n",
       "        12.30746817, 12.9564403 ,  6.61737968, 10.4992955 ,  8.96620921,\n",
       "        12.87800401, 10.16900536, 13.08218071, 10.97095547, 14.12333204,\n",
       "         7.80600657,  5.37865942, 11.98507289,  9.92295085,  9.70677751,\n",
       "         9.29119672,  9.67780328,  8.89063746,  5.70071361,  9.14512238,\n",
       "        12.86790241,  9.47898957,  9.81198583,  8.42384229, 10.41256656,\n",
       "        10.47856708,  8.15174325, 12.36597487,  9.99696345,  9.44468022,\n",
       "        12.1124446 , 13.26704451,  9.44292152, 10.01902943, 10.88634433,\n",
       "         9.60760874,  9.82038616, 14.69610617,  9.23680809, 12.15691232,\n",
       "         8.99438952, 11.61284178,  7.610905  , 11.0074121 ,  9.86537502,\n",
       "        10.82456396, 11.67398788,  9.90154297,  5.35247078,  7.08039682,\n",
       "         8.22416997,  9.30758387,  9.83580824,  8.23082522, 14.20973346,\n",
       "         6.52960734]),\n",
       " array([ 7.87086888,  6.45965531, 11.74430479, 12.86194037,  7.47221414,\n",
       "        13.21628852,  9.58741217,  9.01029965,  9.51309064, 13.06743657,\n",
       "         6.84127174, 12.4265624 ,  9.59661655, 12.38473036, 12.3574496 ,\n",
       "        10.556851  , 11.8050565 , 11.31373079,  7.81576583,  9.80556398,\n",
       "        10.10891022, 10.86257338, 14.15975561, 10.13608006]),\n",
       " array([11.73898492, 12.88609522, 14.77749418, 15.82169095, 10.89388416,\n",
       "        14.91261079, 12.07929352, 15.44762893, 12.30906527, 11.60323809,\n",
       "        11.10548779, 10.66282237, 15.38406865, 13.88738724, 12.75674646,\n",
       "         9.50549577, 15.4869866 , 16.50784819, 10.55361993, 10.14443981,\n",
       "        12.06881302, 12.49281614, 12.35474682,  9.87123861, 13.70154989,\n",
       "        14.34081474, 11.6569802 , 14.05924381, 16.80894774, 14.48505853,\n",
       "         9.65732509, 10.92942324, 15.82747619, 12.7583464 , 13.11727696,\n",
       "        13.62313774, 13.1599088 , 10.03815841, 12.09844946,  8.14586882,\n",
       "        14.67935304, 15.08754136,  8.56506436, 14.39307822, 11.70995939,\n",
       "        15.61539429, 13.16602406, 16.68950671, 13.99392875, 16.92509761,\n",
       "        10.19373036,  8.4640247 , 13.87634938, 12.7426962 , 12.72074513,\n",
       "        12.37643891, 12.95681782, 12.00356725,  8.63042516, 12.29322921,\n",
       "        16.08018059, 12.9395006 , 13.0887178 , 11.6863152 , 13.36875676,\n",
       "        13.55483686, 10.72528723, 15.36482742, 12.76746619, 11.9172317 ,\n",
       "        14.90366266, 16.10910301, 12.99072854, 12.29233194, 13.32867211,\n",
       "        13.33756284, 12.556084  , 17.48096243, 12.58202042, 15.07676813,\n",
       "        11.22030418, 15.03749277,  9.54924207, 14.22416101, 13.28318385,\n",
       "        13.50903319, 15.47478174, 12.46924929,  8.48240137,  9.63602717,\n",
       "        11.43220403, 12.97353236, 12.30462178, 11.53630398, 16.79887983,\n",
       "        10.00429507]),\n",
       " array([10.87660751,  9.3139301 , 14.97987534, 16.5378669 , 10.406219  ,\n",
       "        16.174829  , 13.03851819, 12.5610602 , 11.70819245, 16.5993648 ,\n",
       "         9.99083533, 15.44817946, 12.34858934, 14.94075601, 15.50045966,\n",
       "        13.29559555, 15.54706885, 14.4284727 , 10.62139041, 12.1099168 ,\n",
       "        12.6046754 , 13.94038076, 16.98951608, 13.27472508])]"
      ]
     },
     "execution_count": 8,
     "metadata": {},
     "output_type": "execute_result"
    }
   ],
   "source": [
    "train_test_split(X , y , \n",
    "                 test_size=0.2 , \n",
    "                 random_state=777 , \n",
    "                 shuffle=True ,)"
   ]
  },
  {
   "cell_type": "code",
   "execution_count": 9,
   "id": "988b418c",
   "metadata": {},
   "outputs": [],
   "source": [
    "X_train, X_test, y_train, y_test = train_test_split(X, y, \n",
    "                                                    test_size=0.33,\n",
    "                                                    random_state=42,\n",
    "                                                    shuffle = True\n",
    "                                                   )"
   ]
  },
  {
   "cell_type": "code",
   "execution_count": 10,
   "id": "3967a388",
   "metadata": {},
   "outputs": [
    {
     "data": {
      "image/png": "[encoded data removed]",
      "text/plain": [
       "<Figure size 640x480 with 1 Axes>"
      ]
     },
     "metadata": {},
     "output_type": "display_data"
    }
   ],
   "source": [
    "plt.scatter(X_train , y_train , c = 'b' , label = 'Training Data')\n",
    "plt.scatter(X_test , y_test , c = 'r' , label = 'Testing Data')\n",
    "plt.legend()\n",
    "plt.xlabel('X')\n",
    "plt.ylabel('Y')\n",
    "plt.show()"
   ]
  },
  {
   "cell_type": "code",
   "execution_count": 11,
   "id": "0addde92",
   "metadata": {},
   "outputs": [],
   "source": [
    "m , c , r2 , _ , err = linregress(X_train , y_train , )"
   ]
  },
  {
   "cell_type": "code",
   "execution_count": 12,
   "id": "d9afe5bb",
   "metadata": {},
   "outputs": [
    {
     "data": {
      "text/plain": [
       "1.017685189537405"
      ]
     },
     "execution_count": 12,
     "metadata": {},
     "output_type": "execute_result"
    }
   ],
   "source": [
    "m"
   ]
  },
  {
   "cell_type": "code",
   "execution_count": 13,
   "id": "4ce51197",
   "metadata": {},
   "outputs": [
    {
     "data": {
      "text/plain": [
       "2.7884848312285424"
      ]
     },
     "execution_count": 13,
     "metadata": {},
     "output_type": "execute_result"
    }
   ],
   "source": [
    "c"
   ]
  },
  {
   "cell_type": "code",
   "execution_count": 14,
   "id": "08744f7f",
   "metadata": {},
   "outputs": [
    {
     "data": {
      "text/plain": [
       "0.9746242624346987"
      ]
     },
     "execution_count": 14,
     "metadata": {},
     "output_type": "execute_result"
    }
   ],
   "source": [
    "r2"
   ]
  },
  {
   "cell_type": "code",
   "execution_count": 15,
   "id": "a8b92bff",
   "metadata": {},
   "outputs": [
    {
     "data": {
      "text/plain": [
       "0.02646552453248196"
      ]
     },
     "execution_count": 15,
     "metadata": {},
     "output_type": "execute_result"
    }
   ],
   "source": [
    "err"
   ]
  },
  {
   "cell_type": "code",
   "execution_count": 16,
   "id": "994e1111",
   "metadata": {},
   "outputs": [],
   "source": [
    "reg_line_train = m * X_train + c"
   ]
  },
  {
   "cell_type": "code",
   "execution_count": 44,
   "id": "c9ebf1b6",
   "metadata": {},
   "outputs": [
    {
     "data": {
      "image/png": "[encoded data removed]",
      "text/plain": [
       "<Figure size 640x480 with 1 Axes>"
      ]
     },
     "metadata": {},
     "output_type": "display_data"
    }
   ],
   "source": [
    "plt.scatter(X_train , y_train)\n",
    "plt.plot(X_train , reg_line_train , c = 'r')\n",
    "plt.show()"
   ]
  },
  {
   "cell_type": "code",
   "execution_count": 18,
   "id": "564e121d",
   "metadata": {},
   "outputs": [],
   "source": [
    "reg_line_test = m * X_test + c"
   ]
  },
  {
   "cell_type": "code",
   "execution_count": 19,
   "id": "fefe00c6",
   "metadata": {},
   "outputs": [
    {
     "data": {
      "image/png": "[encoded data removed]",
      "text/plain": [
       "<Figure size 640x480 with 1 Axes>"
      ]
     },
     "metadata": {},
     "output_type": "display_data"
    }
   ],
   "source": [
    "plt.scatter(X_test , y_test)\n",
    "plt.plot(X_test , reg_line_test , c = 'r')\n",
    "plt.show()"
   ]
  },
  {
   "cell_type": "code",
   "execution_count": 20,
   "id": "27b326e3",
   "metadata": {},
   "outputs": [],
   "source": [
    "def Predict(X_new):\n",
    "    return m * X_new + c"
   ]
  },
  {
   "cell_type": "code",
   "execution_count": 21,
   "id": "06eceeed",
   "metadata": {},
   "outputs": [
    {
     "data": {
      "text/plain": [
       "12.965336726602592"
      ]
     },
     "execution_count": 21,
     "metadata": {},
     "output_type": "execute_result"
    }
   ],
   "source": [
    "Predict(10)"
   ]
  },
  {
   "cell_type": "code",
   "execution_count": 22,
   "id": "e4d90b0a",
   "metadata": {},
   "outputs": [
    {
     "data": {
      "text/plain": [
       "23.142188621976644"
      ]
     },
     "execution_count": 22,
     "metadata": {},
     "output_type": "execute_result"
    }
   ],
   "source": [
    "Predict(20)"
   ]
  },
  {
   "cell_type": "code",
   "execution_count": 23,
   "id": "2dafb15f",
   "metadata": {},
   "outputs": [
    {
     "data": {
      "text/plain": [
       "-2.2999411164584824"
      ]
     },
     "execution_count": 23,
     "metadata": {},
     "output_type": "execute_result"
    }
   ],
   "source": [
    "Predict(-5)"
   ]
  },
  {
   "cell_type": "code",
   "execution_count": 24,
   "id": "3a666932",
   "metadata": {},
   "outputs": [
    {
     "data": {
      "text/plain": [
       "5.984016326375994"
      ]
     },
     "execution_count": 24,
     "metadata": {},
     "output_type": "execute_result"
    }
   ],
   "source": [
    "Predict(3.14)"
   ]
  },
  {
   "cell_type": "code",
   "execution_count": 25,
   "id": "fc299440",
   "metadata": {},
   "outputs": [],
   "source": [
    "lin_reg = LinearRegression(n_jobs = -1 , )"
   ]
  },
  {
   "cell_type": "code",
   "execution_count": 26,
   "id": "813618b2",
   "metadata": {},
   "outputs": [
    {
     "data": {
      "text/html": [
       "<style>#sk-container-id-1 {color: black;}#sk-container-id-1 pre{padding: 0;}#sk-container-id-1 div.sk-toggleable {background-color: white;}#sk-container-id-1 label.sk-toggleable__label {cursor: pointer;display: block;width: 100%;margin-bottom: 0;padding: 0.3em;box-sizing: border-box;text-align: center;}#sk-container-id-1 label.sk-toggleable__label-arrow:before {content: \"▸\";float: left;margin-right: 0.25em;color: #696969;}#sk-container-id-1 label.sk-toggleable__label-arrow:hover:before {color: black;}#sk-container-id-1 div.sk-estimator:hover label.sk-toggleable__label-arrow:before {color: black;}#sk-container-id-1 div.sk-toggleable__content {max-height: 0;max-width: 0;overflow: hidden;text-align: left;background-color: #f0f8ff;}#sk-container-id-1 div.sk-toggleable__content pre {margin: 0.2em;color: black;border-radius: 0.25em;background-color: #f0f8ff;}#sk-container-id-1 input.sk-toggleable__control:checked~div.sk-toggleable__content {max-height: 200px;max-width: 100%;overflow: auto;}#sk-container-id-1 input.sk-toggleable__control:checked~label.sk-toggleable__label-arrow:before {content: \"▾\";}#sk-container-id-1 div.sk-estimator input.sk-toggleable__control:checked~label.sk-toggleable__label {background-color: #d4ebff;}#sk-container-id-1 div.sk-label input.sk-toggleable__control:checked~label.sk-toggleable__label {background-color: #d4ebff;}#sk-container-id-1 input.sk-hidden--visually {border: 0;clip: rect(1px 1px 1px 1px);clip: rect(1px, 1px, 1px, 1px);height: 1px;margin: -1px;overflow: hidden;padding: 0;position: absolute;width: 1px;}#sk-container-id-1 div.sk-estimator {font-family: monospace;background-color: #f0f8ff;border: 1px dotted black;border-radius: 0.25em;box-sizing: border-box;margin-bottom: 0.5em;}#sk-container-id-1 div.sk-estimator:hover {background-color: #d4ebff;}#sk-container-id-1 div.sk-parallel-item::after {content: \"\";width: 100%;border-bottom: 1px solid gray;flex-grow: 1;}#sk-container-id-1 div.sk-label:hover label.sk-toggleable__label {background-color: #d4ebff;}#sk-container-id-1 div.sk-serial::before {content: \"\";position: absolute;border-left: 1px solid gray;box-sizing: border-box;top: 0;bottom: 0;left: 50%;z-index: 0;}#sk-container-id-1 div.sk-serial {display: flex;flex-direction: column;align-items: center;background-color: white;padding-right: 0.2em;padding-left: 0.2em;position: relative;}#sk-container-id-1 div.sk-item {position: relative;z-index: 1;}#sk-container-id-1 div.sk-parallel {display: flex;align-items: stretch;justify-content: center;background-color: white;position: relative;}#sk-container-id-1 div.sk-item::before, #sk-container-id-1 div.sk-parallel-item::before {content: \"\";position: absolute;border-left: 1px solid gray;box-sizing: border-box;top: 0;bottom: 0;left: 50%;z-index: -1;}#sk-container-id-1 div.sk-parallel-item {display: flex;flex-direction: column;z-index: 1;position: relative;background-color: white;}#sk-container-id-1 div.sk-parallel-item:first-child::after {align-self: flex-end;width: 50%;}#sk-container-id-1 div.sk-parallel-item:last-child::after {align-self: flex-start;width: 50%;}#sk-container-id-1 div.sk-parallel-item:only-child::after {width: 0;}#sk-container-id-1 div.sk-dashed-wrapped {border: 1px dashed gray;margin: 0 0.4em 0.5em 0.4em;box-sizing: border-box;padding-bottom: 0.4em;background-color: white;}#sk-container-id-1 div.sk-label label {font-family: monospace;font-weight: bold;display: inline-block;line-height: 1.2em;}#sk-container-id-1 div.sk-label-container {text-align: center;}#sk-container-id-1 div.sk-container {/* jupyter's `normalize.less` sets `[hidden] { display: none; }` but bootstrap.min.css set `[hidden] { display: none !important; }` so we also need the `!important` here to be able to override the default hidden behavior on the sphinx rendered scikit-learn.org. See: https://github.com/scikit-learn/scikit-learn/issues/21755 */display: inline-block !important;position: relative;}#sk-container-id-1 div.sk-text-repr-fallback {display: none;}</style><div id=\"sk-container-id-1\" class=\"sk-top-container\"><div class=\"sk-text-repr-fallback\"><pre>LinearRegression(n_jobs=-1)</pre><b>In a Jupyter environment, please rerun this cell to show the HTML representation or trust the notebook. <br />On GitHub, the HTML representation is unable to render, please try loading this page with nbviewer.org.</b></div><div class=\"sk-container\" hidden><div class=\"sk-item\"><div class=\"sk-estimator sk-toggleable\"><input class=\"sk-toggleable__control sk-hidden--visually\" id=\"sk-estimator-id-1\" type=\"checkbox\" checked><label for=\"sk-estimator-id-1\" class=\"sk-toggleable__label sk-toggleable__label-arrow\">LinearRegression</label><div class=\"sk-toggleable__content\"><pre>LinearRegression(n_jobs=-1)</pre></div></div></div></div></div>"
      ],
      "text/plain": [
       "LinearRegression(n_jobs=-1)"
      ]
     },
     "execution_count": 26,
     "metadata": {},
     "output_type": "execute_result"
    }
   ],
   "source": [
    "lin_reg.fit(X_train.reshape(-1 , 1) , y_train)"
   ]
  },
  {
   "cell_type": "code",
   "execution_count": 27,
   "id": "b6485344",
   "metadata": {},
   "outputs": [
    {
     "data": {
      "text/plain": [
       "2.788484831228537"
      ]
     },
     "execution_count": 27,
     "metadata": {},
     "output_type": "execute_result"
    }
   ],
   "source": [
    "lin_reg.intercept_"
   ]
  },
  {
   "cell_type": "code",
   "execution_count": 28,
   "id": "7a729ed6",
   "metadata": {},
   "outputs": [
    {
     "data": {
      "text/plain": [
       "2.7884848312285424"
      ]
     },
     "execution_count": 28,
     "metadata": {},
     "output_type": "execute_result"
    }
   ],
   "source": [
    "c"
   ]
  },
  {
   "cell_type": "code",
   "execution_count": 29,
   "id": "cb23ec4a",
   "metadata": {},
   "outputs": [
    {
     "data": {
      "text/plain": [
       "array([1.01768519])"
      ]
     },
     "execution_count": 29,
     "metadata": {},
     "output_type": "execute_result"
    }
   ],
   "source": [
    "lin_reg.coef_"
   ]
  },
  {
   "cell_type": "code",
   "execution_count": 30,
   "id": "c4553bf3",
   "metadata": {},
   "outputs": [
    {
     "data": {
      "text/plain": [
       "1.017685189537405"
      ]
     },
     "execution_count": 30,
     "metadata": {},
     "output_type": "execute_result"
    }
   ],
   "source": [
    "m"
   ]
  },
  {
   "cell_type": "code",
   "execution_count": 31,
   "id": "65a9135f",
   "metadata": {},
   "outputs": [],
   "source": [
    "y_pred = lin_reg.predict(X_test.reshape(-1 , 1))"
   ]
  },
  {
   "cell_type": "code",
   "execution_count": 32,
   "id": "2992d722",
   "metadata": {},
   "outputs": [
    {
     "data": {
      "text/plain": [
       "array([12.04114863, 17.24952012, 15.97406224, 12.64191983, 15.36447827])"
      ]
     },
     "execution_count": 32,
     "metadata": {},
     "output_type": "execute_result"
    }
   ],
   "source": [
    "y_pred[:5]"
   ]
  },
  {
   "cell_type": "code",
   "execution_count": 33,
   "id": "e8929a6a",
   "metadata": {},
   "outputs": [],
   "source": [
    "y_pred_scipy = Predict(X_test)"
   ]
  },
  {
   "cell_type": "code",
   "execution_count": 34,
   "id": "8fbfdd48",
   "metadata": {},
   "outputs": [
    {
     "data": {
      "text/plain": [
       "array([12.04114863, 17.24952012, 15.97406224, 12.64191983, 15.36447827])"
      ]
     },
     "execution_count": 34,
     "metadata": {},
     "output_type": "execute_result"
    }
   ],
   "source": [
    "y_pred_scipy[:5]"
   ]
  },
  {
   "cell_type": "code",
   "execution_count": 35,
   "id": "7d9ee248",
   "metadata": {},
   "outputs": [
    {
     "data": {
      "text/plain": [
       "0.41798908015723574"
      ]
     },
     "execution_count": 35,
     "metadata": {},
     "output_type": "execute_result"
    }
   ],
   "source": [
    "mean_absolute_error(y_test , y_pred)"
   ]
  },
  {
   "cell_type": "code",
   "execution_count": 36,
   "id": "6802b7da",
   "metadata": {},
   "outputs": [
    {
     "data": {
      "text/plain": [
       "0.26344775823796557"
      ]
     },
     "execution_count": 36,
     "metadata": {},
     "output_type": "execute_result"
    }
   ],
   "source": [
    "mean_squared_error(y_test , y_pred)"
   ]
  },
  {
   "cell_type": "code",
   "execution_count": 37,
   "id": "21a2e733",
   "metadata": {},
   "outputs": [
    {
     "data": {
      "text/plain": [
       "0.513271622280022"
      ]
     },
     "execution_count": 37,
     "metadata": {},
     "output_type": "execute_result"
    }
   ],
   "source": [
    "mean_squared_error(y_test , y_pred) ** 0.5 #root mean square error"
   ]
  },
  {
   "cell_type": "code",
   "execution_count": 38,
   "id": "07af6fd1",
   "metadata": {},
   "outputs": [
    {
     "data": {
      "text/plain": [
       "array([-0.26457074])"
      ]
     },
     "execution_count": 38,
     "metadata": {},
     "output_type": "execute_result"
    }
   ],
   "source": [
    "lin_reg.predict([[-3]])"
   ]
  },
  {
   "cell_type": "code",
   "execution_count": 39,
   "id": "7813bc14",
   "metadata": {},
   "outputs": [],
   "source": [
    "from sklearn.tree import DecisionTreeRegressor\n",
    "from sklearn.ensemble import RandomForestRegressor "
   ]
  },
  {
   "cell_type": "code",
   "execution_count": 40,
   "id": "e10623b9",
   "metadata": {},
   "outputs": [],
   "source": [
    "dtree = DecisionTreeRegressor()\n",
    "rand_forest = RandomForestRegressor(n_jobs=-1)"
   ]
  },
  {
   "cell_type": "code",
   "execution_count": 41,
   "id": "23328d8d",
   "metadata": {},
   "outputs": [
    {
     "data": {
      "text/html": [
       "<style>#sk-container-id-2 {color: black;}#sk-container-id-2 pre{padding: 0;}#sk-container-id-2 div.sk-toggleable {background-color: white;}#sk-container-id-2 label.sk-toggleable__label {cursor: pointer;display: block;width: 100%;margin-bottom: 0;padding: 0.3em;box-sizing: border-box;text-align: center;}#sk-container-id-2 label.sk-toggleable__label-arrow:before {content: \"▸\";float: left;margin-right: 0.25em;color: #696969;}#sk-container-id-2 label.sk-toggleable__label-arrow:hover:before {color: black;}#sk-container-id-2 div.sk-estimator:hover label.sk-toggleable__label-arrow:before {color: black;}#sk-container-id-2 div.sk-toggleable__content {max-height: 0;max-width: 0;overflow: hidden;text-align: left;background-color: #f0f8ff;}#sk-container-id-2 div.sk-toggleable__content pre {margin: 0.2em;color: black;border-radius: 0.25em;background-color: #f0f8ff;}#sk-container-id-2 input.sk-toggleable__control:checked~div.sk-toggleable__content {max-height: 200px;max-width: 100%;overflow: auto;}#sk-container-id-2 input.sk-toggleable__control:checked~label.sk-toggleable__label-arrow:before {content: \"▾\";}#sk-container-id-2 div.sk-estimator input.sk-toggleable__control:checked~label.sk-toggleable__label {background-color: #d4ebff;}#sk-container-id-2 div.sk-label input.sk-toggleable__control:checked~label.sk-toggleable__label {background-color: #d4ebff;}#sk-container-id-2 input.sk-hidden--visually {border: 0;clip: rect(1px 1px 1px 1px);clip: rect(1px, 1px, 1px, 1px);height: 1px;margin: -1px;overflow: hidden;padding: 0;position: absolute;width: 1px;}#sk-container-id-2 div.sk-estimator {font-family: monospace;background-color: #f0f8ff;border: 1px dotted black;border-radius: 0.25em;box-sizing: border-box;margin-bottom: 0.5em;}#sk-container-id-2 div.sk-estimator:hover {background-color: #d4ebff;}#sk-container-id-2 div.sk-parallel-item::after {content: \"\";width: 100%;border-bottom: 1px solid gray;flex-grow: 1;}#sk-container-id-2 div.sk-label:hover label.sk-toggleable__label {background-color: #d4ebff;}#sk-container-id-2 div.sk-serial::before {content: \"\";position: absolute;border-left: 1px solid gray;box-sizing: border-box;top: 0;bottom: 0;left: 50%;z-index: 0;}#sk-container-id-2 div.sk-serial {display: flex;flex-direction: column;align-items: center;background-color: white;padding-right: 0.2em;padding-left: 0.2em;position: relative;}#sk-container-id-2 div.sk-item {position: relative;z-index: 1;}#sk-container-id-2 div.sk-parallel {display: flex;align-items: stretch;justify-content: center;background-color: white;position: relative;}#sk-container-id-2 div.sk-item::before, #sk-container-id-2 div.sk-parallel-item::before {content: \"\";position: absolute;border-left: 1px solid gray;box-sizing: border-box;top: 0;bottom: 0;left: 50%;z-index: -1;}#sk-container-id-2 div.sk-parallel-item {display: flex;flex-direction: column;z-index: 1;position: relative;background-color: white;}#sk-container-id-2 div.sk-parallel-item:first-child::after {align-self: flex-end;width: 50%;}#sk-container-id-2 div.sk-parallel-item:last-child::after {align-self: flex-start;width: 50%;}#sk-container-id-2 div.sk-parallel-item:only-child::after {width: 0;}#sk-container-id-2 div.sk-dashed-wrapped {border: 1px dashed gray;margin: 0 0.4em 0.5em 0.4em;box-sizing: border-box;padding-bottom: 0.4em;background-color: white;}#sk-container-id-2 div.sk-label label {font-family: monospace;font-weight: bold;display: inline-block;line-height: 1.2em;}#sk-container-id-2 div.sk-label-container {text-align: center;}#sk-container-id-2 div.sk-container {/* jupyter's `normalize.less` sets `[hidden] { display: none; }` but bootstrap.min.css set `[hidden] { display: none !important; }` so we also need the `!important` here to be able to override the default hidden behavior on the sphinx rendered scikit-learn.org. See: https://github.com/scikit-learn/scikit-learn/issues/21755 */display: inline-block !important;position: relative;}#sk-container-id-2 div.sk-text-repr-fallback {display: none;}</style><div id=\"sk-container-id-2\" class=\"sk-top-container\"><div class=\"sk-text-repr-fallback\"><pre>RandomForestRegressor(n_jobs=-1)</pre><b>In a Jupyter environment, please rerun this cell to show the HTML representation or trust the notebook. <br />On GitHub, the HTML representation is unable to render, please try loading this page with nbviewer.org.</b></div><div class=\"sk-container\" hidden><div class=\"sk-item\"><div class=\"sk-estimator sk-toggleable\"><input class=\"sk-toggleable__control sk-hidden--visually\" id=\"sk-estimator-id-2\" type=\"checkbox\" checked><label for=\"sk-estimator-id-2\" class=\"sk-toggleable__label sk-toggleable__label-arrow\">RandomForestRegressor</label><div class=\"sk-toggleable__content\"><pre>RandomForestRegressor(n_jobs=-1)</pre></div></div></div></div></div>"
      ],
      "text/plain": [
       "RandomForestRegressor(n_jobs=-1)"
      ]
     },
     "execution_count": 41,
     "metadata": {},
     "output_type": "execute_result"
    }
   ],
   "source": [
    "rand_forest.fit(X_train.reshape(-1 , 1) , y_train)"
   ]
  },
  {
   "cell_type": "code",
   "execution_count": 42,
   "id": "824305b9",
   "metadata": {},
   "outputs": [
    {
     "data": {
      "text/html": [
       "<style>#sk-container-id-3 {color: black;}#sk-container-id-3 pre{padding: 0;}#sk-container-id-3 div.sk-toggleable {background-color: white;}#sk-container-id-3 label.sk-toggleable__label {cursor: pointer;display: block;width: 100%;margin-bottom: 0;padding: 0.3em;box-sizing: border-box;text-align: center;}#sk-container-id-3 label.sk-toggleable__label-arrow:before {content: \"▸\";float: left;margin-right: 0.25em;color: #696969;}#sk-container-id-3 label.sk-toggleable__label-arrow:hover:before {color: black;}#sk-container-id-3 div.sk-estimator:hover label.sk-toggleable__label-arrow:before {color: black;}#sk-container-id-3 div.sk-toggleable__content {max-height: 0;max-width: 0;overflow: hidden;text-align: left;background-color: #f0f8ff;}#sk-container-id-3 div.sk-toggleable__content pre {margin: 0.2em;color: black;border-radius: 0.25em;background-color: #f0f8ff;}#sk-container-id-3 input.sk-toggleable__control:checked~div.sk-toggleable__content {max-height: 200px;max-width: 100%;overflow: auto;}#sk-container-id-3 input.sk-toggleable__control:checked~label.sk-toggleable__label-arrow:before {content: \"▾\";}#sk-container-id-3 div.sk-estimator input.sk-toggleable__control:checked~label.sk-toggleable__label {background-color: #d4ebff;}#sk-container-id-3 div.sk-label input.sk-toggleable__control:checked~label.sk-toggleable__label {background-color: #d4ebff;}#sk-container-id-3 input.sk-hidden--visually {border: 0;clip: rect(1px 1px 1px 1px);clip: rect(1px, 1px, 1px, 1px);height: 1px;margin: -1px;overflow: hidden;padding: 0;position: absolute;width: 1px;}#sk-container-id-3 div.sk-estimator {font-family: monospace;background-color: #f0f8ff;border: 1px dotted black;border-radius: 0.25em;box-sizing: border-box;margin-bottom: 0.5em;}#sk-container-id-3 div.sk-estimator:hover {background-color: #d4ebff;}#sk-container-id-3 div.sk-parallel-item::after {content: \"\";width: 100%;border-bottom: 1px solid gray;flex-grow: 1;}#sk-container-id-3 div.sk-label:hover label.sk-toggleable__label {background-color: #d4ebff;}#sk-container-id-3 div.sk-serial::before {content: \"\";position: absolute;border-left: 1px solid gray;box-sizing: border-box;top: 0;bottom: 0;left: 50%;z-index: 0;}#sk-container-id-3 div.sk-serial {display: flex;flex-direction: column;align-items: center;background-color: white;padding-right: 0.2em;padding-left: 0.2em;position: relative;}#sk-container-id-3 div.sk-item {position: relative;z-index: 1;}#sk-container-id-3 div.sk-parallel {display: flex;align-items: stretch;justify-content: center;background-color: white;position: relative;}#sk-container-id-3 div.sk-item::before, #sk-container-id-3 div.sk-parallel-item::before {content: \"\";position: absolute;border-left: 1px solid gray;box-sizing: border-box;top: 0;bottom: 0;left: 50%;z-index: -1;}#sk-container-id-3 div.sk-parallel-item {display: flex;flex-direction: column;z-index: 1;position: relative;background-color: white;}#sk-container-id-3 div.sk-parallel-item:first-child::after {align-self: flex-end;width: 50%;}#sk-container-id-3 div.sk-parallel-item:last-child::after {align-self: flex-start;width: 50%;}#sk-container-id-3 div.sk-parallel-item:only-child::after {width: 0;}#sk-container-id-3 div.sk-dashed-wrapped {border: 1px dashed gray;margin: 0 0.4em 0.5em 0.4em;box-sizing: border-box;padding-bottom: 0.4em;background-color: white;}#sk-container-id-3 div.sk-label label {font-family: monospace;font-weight: bold;display: inline-block;line-height: 1.2em;}#sk-container-id-3 div.sk-label-container {text-align: center;}#sk-container-id-3 div.sk-container {/* jupyter's `normalize.less` sets `[hidden] { display: none; }` but bootstrap.min.css set `[hidden] { display: none !important; }` so we also need the `!important` here to be able to override the default hidden behavior on the sphinx rendered scikit-learn.org. See: https://github.com/scikit-learn/scikit-learn/issues/21755 */display: inline-block !important;position: relative;}#sk-container-id-3 div.sk-text-repr-fallback {display: none;}</style><div id=\"sk-container-id-3\" class=\"sk-top-container\"><div class=\"sk-text-repr-fallback\"><pre>DecisionTreeRegressor()</pre><b>In a Jupyter environment, please rerun this cell to show the HTML representation or trust the notebook. <br />On GitHub, the HTML representation is unable to render, please try loading this page with nbviewer.org.</b></div><div class=\"sk-container\" hidden><div class=\"sk-item\"><div class=\"sk-estimator sk-toggleable\"><input class=\"sk-toggleable__control sk-hidden--visually\" id=\"sk-estimator-id-3\" type=\"checkbox\" checked><label for=\"sk-estimator-id-3\" class=\"sk-toggleable__label sk-toggleable__label-arrow\">DecisionTreeRegressor</label><div class=\"sk-toggleable__content\"><pre>DecisionTreeRegressor()</pre></div></div></div></div></div>"
      ],
      "text/plain": [
       "DecisionTreeRegressor()"
      ]
     },
     "execution_count": 42,
     "metadata": {},
     "output_type": "execute_result"
    }
   ],
   "source": [
    "dtree.fit(X_train.reshape(-1 , 1) , y_train)"
   ]
  },
  {
   "cell_type": "code",
   "execution_count": null,
   "id": "fbaa9df0",
   "metadata": {},
   "outputs": [],
   "source": []
  }
 ],
 "metadata": {
  "kernelspec": {
   "display_name": "Python 3 (ipykernel)",
   "language": "python",
   "name": "python3"
  },
  "language_info": {
   "codemirror_mode": {
    "name": "ipython",
    "version": 3
   },
   "file_extension": ".py",
   "mimetype": "text/x-python",
   "name": "python",
   "nbconvert_exporter": "python",
   "pygments_lexer": "ipython3",
   "version": "3.11.4"
  }
 },
 "nbformat": 4,
 "nbformat_minor": 5
}
