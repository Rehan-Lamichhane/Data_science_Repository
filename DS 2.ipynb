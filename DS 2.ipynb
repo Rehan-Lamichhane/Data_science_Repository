{
 "cells": [
  {
   "cell_type": "code",
   "execution_count": 1,
   "id": "eb1f20df",
   "metadata": {},
   "outputs": [],
   "source": [
    "import numpy as np\n",
    "import pandas as pd"
   ]
  },
  {
   "cell_type": "code",
   "execution_count": 2,
   "id": "0334d3b1",
   "metadata": {},
   "outputs": [],
   "source": [
    "arr = np.arange(1 , 13)"
   ]
  },
  {
   "cell_type": "code",
   "execution_count": 3,
   "id": "09c5b329",
   "metadata": {},
   "outputs": [
    {
     "data": {
      "text/plain": [
       "array([[ 1,  2,  3,  4],\n",
       "       [ 5,  6,  7,  8],\n",
       "       [ 9, 10, 11, 12]])"
      ]
     },
     "execution_count": 3,
     "metadata": {},
     "output_type": "execute_result"
    }
   ],
   "source": [
    "arr = arr.reshape(3 , 4)\n",
    "arr"
   ]
  },
  {
   "cell_type": "code",
   "execution_count": 4,
   "id": "bde7194c",
   "metadata": {},
   "outputs": [],
   "source": [
    "arr_2 = np.arange(1 , 13)"
   ]
  },
  {
   "cell_type": "code",
   "execution_count": 5,
   "id": "e815f6fb",
   "metadata": {},
   "outputs": [],
   "source": [
    "arr_2 = arr_2.reshape(4 , 3)"
   ]
  },
  {
   "cell_type": "code",
   "execution_count": 6,
   "id": "abda384a",
   "metadata": {},
   "outputs": [
    {
     "data": {
      "text/plain": [
       "array([[ 70,  80,  90],\n",
       "       [158, 184, 210],\n",
       "       [246, 288, 330]])"
      ]
     },
     "execution_count": 6,
     "metadata": {},
     "output_type": "execute_result"
    }
   ],
   "source": [
    "np.dot(arr , arr_2)"
   ]
  },
  {
   "cell_type": "code",
   "execution_count": 11,
   "id": "b2e1436a",
   "metadata": {},
   "outputs": [
    {
     "data": {
      "text/plain": [
       "array([[ 70,  80,  90],\n",
       "       [158, 184, 210],\n",
       "       [246, 288, 330]])"
      ]
     },
     "execution_count": 11,
     "metadata": {},
     "output_type": "execute_result"
    }
   ],
   "source": [
    "arr.dot(arr_2)"
   ]
  },
  {
   "cell_type": "code",
   "execution_count": 13,
   "id": "5bb3bef8",
   "metadata": {},
   "outputs": [],
   "source": [
    "mat = arr.dot(arr_2)"
   ]
  },
  {
   "cell_type": "code",
   "execution_count": 14,
   "id": "bbd0b106",
   "metadata": {},
   "outputs": [
    {
     "data": {
      "text/plain": [
       "array([[-2.32144311e+13,  4.64288621e+13, -2.32144311e+13],\n",
       "       [ 4.64288621e+13, -9.28577243e+13,  4.64288621e+13],\n",
       "       [-2.32144311e+13,  4.64288621e+13, -2.32144311e+13]])"
      ]
     },
     "execution_count": 14,
     "metadata": {},
     "output_type": "execute_result"
    }
   ],
   "source": [
    "np.linalg.inv(mat) #linalg = linear algebra"
   ]
  },
  {
   "cell_type": "code",
   "execution_count": 15,
   "id": "a353c50a",
   "metadata": {},
   "outputs": [
    {
     "data": {
      "text/plain": [
       "array([[ 70,  80,  90],\n",
       "       [158, 184, 210],\n",
       "       [246, 288, 330]])"
      ]
     },
     "execution_count": 15,
     "metadata": {},
     "output_type": "execute_result"
    }
   ],
   "source": [
    "mat # Multi dimensional array"
   ]
  },
  {
   "cell_type": "code",
   "execution_count": 16,
   "id": "4f461b81",
   "metadata": {},
   "outputs": [
    {
     "data": {
      "text/plain": [
       "array([ 70,  80,  90, 158, 184, 210, 246, 288, 330])"
      ]
     },
     "execution_count": 16,
     "metadata": {},
     "output_type": "execute_result"
    }
   ],
   "source": [
    "mat.flatten() #Single dimension array"
   ]
  },
  {
   "cell_type": "code",
   "execution_count": 17,
   "id": "17800a1c",
   "metadata": {},
   "outputs": [
    {
     "data": {
      "text/plain": [
       "array([ 70,  80,  90, 158, 184, 210, 246, 288, 330])"
      ]
     },
     "execution_count": 17,
     "metadata": {},
     "output_type": "execute_result"
    }
   ],
   "source": [
    "mat.ravel() # Single dimension array"
   ]
  },
  {
   "cell_type": "code",
   "execution_count": 19,
   "id": "c8682d2c",
   "metadata": {},
   "outputs": [
    {
     "data": {
      "text/plain": [
       "array([ 70,  80,  90, 158, 184, 210, 246, 288, 330])"
      ]
     },
     "execution_count": 19,
     "metadata": {},
     "output_type": "execute_result"
    }
   ],
   "source": [
    "mat.reshape(9,)"
   ]
  },
  {
   "cell_type": "markdown",
   "id": "22cc1215",
   "metadata": {},
   "source": [
    "****"
   ]
  },
  {
   "cell_type": "code",
   "execution_count": 20,
   "id": "1d3def1f",
   "metadata": {},
   "outputs": [],
   "source": [
    "import time"
   ]
  },
  {
   "cell_type": "code",
   "execution_count": 24,
   "id": "67b3ddd7",
   "metadata": {},
   "outputs": [
    {
     "name": "stdout",
     "output_type": "stream",
     "text": [
      "Time taken: 0.3628268241882324\n"
     ]
    }
   ],
   "source": [
    "#Without using numpy\n",
    "now = time.time()\n",
    "list(range(100_000_00))\n",
    "print(f'Time taken: {time.time()-now}')"
   ]
  },
  {
   "cell_type": "code",
   "execution_count": 23,
   "id": "e08f2edc",
   "metadata": {},
   "outputs": [
    {
     "name": "stdout",
     "output_type": "stream",
     "text": [
      "Time taken: 0.16751718521118164\n"
     ]
    }
   ],
   "source": [
    "#Using numpy\n",
    "now = time.time()\n",
    "np.arange(100_000_000)\n",
    "print(f'Time taken: {time.time()-now}')"
   ]
  },
  {
   "cell_type": "code",
   "execution_count": 25,
   "id": "f883c40f",
   "metadata": {},
   "outputs": [
    {
     "data": {
      "text/plain": [
       "2.1659080752280424"
      ]
     },
     "execution_count": 25,
     "metadata": {},
     "output_type": "execute_result"
    }
   ],
   "source": [
    "0.3628268241882324 / 0.167517185211118164"
   ]
  },
  {
   "cell_type": "code",
   "execution_count": 26,
   "id": "3870b432",
   "metadata": {},
   "outputs": [],
   "source": [
    "import matplotlib.pyplot as plt"
   ]
  },
  {
   "cell_type": "code",
   "execution_count": 27,
   "id": "3cf43839",
   "metadata": {},
   "outputs": [],
   "source": [
    "#!pip install package_name"
   ]
  },
  {
   "cell_type": "code",
   "execution_count": 28,
   "id": "09ada756",
   "metadata": {},
   "outputs": [],
   "source": [
    "np.random.seed(666)"
   ]
  },
  {
   "cell_type": "code",
   "execution_count": 29,
   "id": "639d7248",
   "metadata": {},
   "outputs": [],
   "source": [
    "uniform = np.random.uniform(1  ,100 , 1000) #uniform(low=0.0, high=1.0, size=None)"
   ]
  },
  {
   "cell_type": "code",
   "execution_count": 30,
   "id": "926eeef4",
   "metadata": {},
   "outputs": [
    {
     "data": {
      "text/plain": [
       "array([70.34327506, 84.57447764, 67.97491926, 73.05794767, 95.19433779,\n",
       "        2.25761651, 41.94518218,  5.83246659, 10.89292757, 51.29856427,\n",
       "       20.82450639, 74.67126271, 20.0963083 , 70.38363046, 30.02958248,\n",
       "       77.67346597,  1.50577504, 12.17290771, 11.98441353, 25.51915464,\n",
       "        3.30039362, 73.00479427, 34.66345925, 20.55281248, 91.00877969,\n",
       "       97.85635152, 53.74745187, 26.65405309, 58.79744926, 33.24337464,\n",
       "       89.00103206, 63.01404815, 82.06849537, 55.18719662, 42.25448859,\n",
       "       74.56167198, 37.59004171,  8.44148785, 77.74410487, 22.7215152 ,\n",
       "        8.85487056, 49.19127163, 16.2137163 , 83.01804819, 19.94548823,\n",
       "       27.77048642, 56.54240769, 90.3356586 , 85.32704583, 42.3901141 ,\n",
       "       39.95415059,  2.60583082, 30.62212381, 36.02404365, 89.45676387,\n",
       "       78.82752037, 77.36730564, 42.58543087, 77.82648866, 46.96650621,\n",
       "       18.99524641, 88.51853487, 72.16043452, 67.51624871, 26.39979963,\n",
       "       43.64938042,  2.62890407, 24.26438885, 51.60595981, 29.9089148 ,\n",
       "       50.6874573 , 50.32903986, 11.27338089, 45.19786843, 96.94972767,\n",
       "       74.10864104, 72.23551017, 89.41129526, 96.30479344, 20.50797256,\n",
       "       71.74440646, 17.03046999, 86.7592224 , 62.75820448, 95.98605723,\n",
       "       52.89006218,  4.60685494, 72.96028628,  1.38707454,  5.97910612,\n",
       "       99.20723927, 22.01349253, 94.78969582, 45.70251433, 99.8806726 ,\n",
       "       65.10264743, 70.52183028, 43.52859478, 17.60970122, 12.69517625,\n",
       "       93.85037956, 91.18874694, 40.40136015, 92.60502334, 74.8044225 ,\n",
       "       79.19281008, 64.13314326, 99.28139529, 48.13444815, 11.1093044 ,\n",
       "       87.38376916, 75.85657734, 30.62068481, 19.43939542, 49.94099791,\n",
       "        5.04865444, 48.35687593, 31.59002975, 92.13744599, 91.87662279,\n",
       "       47.3804042 , 24.19699524,  9.89266941, 68.26095386, 65.9369039 ,\n",
       "        1.39049553,  7.58759258,  1.11098803, 66.94229787, 39.17946482,\n",
       "       10.3117691 , 46.39818973, 64.78983111, 59.90477616, 79.26970431,\n",
       "       80.19693785, 68.29009398, 44.43643336, 26.97353038, 24.41566647,\n",
       "       84.06120557, 37.50559056, 62.29964979, 47.18986852, 49.75756246,\n",
       "       72.14358925, 65.76172254, 96.68366797, 39.56766108, 97.04704701,\n",
       "       36.69738093, 56.6223915 ,  4.10222222, 31.17522752,  8.19677043,\n",
       "       47.25477263, 41.93161869, 42.80598852, 79.69612057,  6.59533631,\n",
       "       89.82101912, 32.55094117, 37.03469159, 70.84331621, 23.87246201,\n",
       "       55.2787727 , 32.63645976, 73.29091878, 94.31466023, 77.66782975,\n",
       "       86.51528583, 83.07457904, 81.5658502 , 63.5345715 , 69.12232136,\n",
       "       10.41048631, 87.76089833, 83.44770322, 42.64667521, 77.80673247,\n",
       "       49.60681436, 53.07740929, 71.66791628, 13.1940646 , 45.82705609,\n",
       "       14.99468278, 34.66752614, 24.12100271, 51.23698321, 43.31405657,\n",
       "       54.11076401, 87.0393357 , 84.4915361 ,  5.09470609,  8.67616249,\n",
       "       37.43250284, 74.68701861, 39.45584448, 15.48874076, 38.35557977,\n",
       "       37.77481526, 93.33076385, 87.99222425, 63.90488617,  8.23807038,\n",
       "       84.8837259 , 85.21259653, 34.39294551, 64.80514664, 83.46958364,\n",
       "       53.91007682, 66.44714898, 59.4891624 , 41.39873229, 23.73815542,\n",
       "       69.22625145, 97.95036833, 86.26357674, 85.61598016, 55.65078137,\n",
       "       42.94127543, 19.14252975, 42.5984196 , 68.23145742, 32.96982608,\n",
       "       87.53597131, 83.35613712,  9.06446512, 60.58310256, 86.69701065,\n",
       "       71.79696469,  9.86224019, 95.6975132 ,  1.96082337, 82.50508703,\n",
       "       52.42888534, 12.66434612, 53.33517075, 67.36574459, 24.12170303,\n",
       "       66.34060715, 12.53483163, 38.91894003, 62.80710067, 30.15617759,\n",
       "       15.6817109 , 24.32787171, 56.84610124, 92.17596876, 72.59460024,\n",
       "       95.40413672, 26.34386154, 64.72854199, 36.692341  , 42.67707507,\n",
       "       42.494653  , 33.06402626, 82.18762583, 50.09017556, 93.90218813,\n",
       "       26.84294607, 47.02644659, 91.4620592 , 10.81343211, 64.97754064,\n",
       "       42.67191208, 57.22643592, 84.79927289, 17.96649317, 64.63541875,\n",
       "        6.75829676, 18.21854843, 80.28519513, 97.54917752, 91.84654307,\n",
       "       93.07830062, 89.53109426, 27.08961859, 50.42378902, 46.65045618,\n",
       "       28.93461795, 62.51480918,  2.68300086, 88.3709124 , 15.51327822,\n",
       "       40.62492651, 61.99965485, 59.23001767,  6.350372  , 75.59536123,\n",
       "       55.358475  , 56.48491208, 76.94344482, 21.8681082 , 97.39387469,\n",
       "       51.26421724, 49.60690969, 85.07071281, 32.33777846, 80.02116907,\n",
       "       21.68595172,  1.82000955, 65.27896879, 78.50455216, 11.4944885 ,\n",
       "       44.52912748, 10.07529851, 22.02344902, 65.18923972, 60.57788433,\n",
       "       47.3736095 , 13.83014378, 25.35537499, 77.86813502, 94.79986126,\n",
       "       19.64335649, 95.25505986, 97.47582799, 60.22034649, 59.56104717,\n",
       "       25.15929056, 33.84863759, 44.18856494, 43.91985421, 33.28536502,\n",
       "        5.89031335, 86.10454616, 79.4134215 , 52.3758093 , 22.72432202,\n",
       "       65.11370043, 81.27251289, 38.21782936, 16.67776856, 74.68453555,\n",
       "       59.71232152, 11.74191957, 23.72757827, 42.5688813 , 93.86348884,\n",
       "       68.68044838,  5.0238722 , 17.77850472, 52.47984529, 76.98867774,\n",
       "       26.33658804, 48.63317804, 10.99614445, 95.45761657,  3.88234383,\n",
       "       72.51927005, 51.09008764, 68.30544777,  4.63445711, 16.41180096,\n",
       "       14.70619613,  5.54191212, 92.75083302, 16.65926078, 24.2445979 ,\n",
       "       22.60636981, 50.33568308, 86.77183229, 39.34069982,  7.86375608,\n",
       "        6.66686335,  4.58585055, 57.51610288, 41.8219968 , 36.05682914,\n",
       "       44.60329499, 24.51339668, 30.2732708 , 16.71532856, 68.9654243 ,\n",
       "       85.5729735 , 71.03512191, 56.73895462, 34.31690624, 91.19997126,\n",
       "       65.79530826, 20.90106078, 21.39321524, 41.67718823, 43.19178216,\n",
       "       89.80733865, 55.8825752 , 69.16075311, 87.64659351, 22.01450458,\n",
       "       98.95858175, 95.34747547, 88.22585084,  2.97419559, 46.52175394,\n",
       "       36.74081075, 14.20248225, 49.67852581, 95.43877096, 75.97482794,\n",
       "       44.96405281, 51.58374631, 15.55915236, 98.65102491,  2.44228611,\n",
       "       99.93198691, 33.48633366, 97.39315399, 38.2895278 , 69.00864465,\n",
       "       13.00621816,  3.44637905, 35.58038322, 58.49464768, 38.95498018,\n",
       "       26.74920405, 24.60600916, 84.86256422, 13.0737313 , 52.02553222,\n",
       "        5.06295472,  6.95283854, 84.53451562, 48.91070402, 80.34516635,\n",
       "       44.45732232, 12.6351492 , 35.86461511, 10.16261994, 19.42618432,\n",
       "       49.93718114, 91.69485426, 20.84710946, 82.12486667, 38.46981894,\n",
       "       91.10547824, 41.22756469, 59.79949034, 89.5120486 , 90.53604053,\n",
       "       75.77126559, 94.27871808,  9.53383535, 87.55640878, 53.23163195,\n",
       "       80.91490013, 42.2692822 , 69.25779135, 66.8995429 , 79.07541567,\n",
       "       86.96799485, 17.92569173, 69.91156056, 30.331865  , 32.09071373,\n",
       "       80.52564275, 29.8879663 , 53.99452653, 72.74248263, 56.53214065,\n",
       "       56.37969751, 33.14883696,  9.84515908,  9.67672957, 84.96837221,\n",
       "       29.30096359, 67.4232681 , 80.18665297, 31.37548166, 43.14652247,\n",
       "       30.00358367, 52.71462921, 93.86692039,  7.77148772,  5.06664011,\n",
       "        7.57891873,  5.09715145, 73.24400572, 64.43869063, 20.73739971,\n",
       "       51.55999625, 99.4822421 , 70.34920478,  3.0454853 , 18.64924715,\n",
       "       66.88536251, 31.19806889, 95.01757852, 49.09676262, 17.75132037,\n",
       "       79.49232885, 31.08136464, 41.69010512, 92.08870762, 51.83439564,\n",
       "       57.50111877, 96.56179911, 58.21271491, 72.19983589, 80.42552131,\n",
       "        1.62768562, 91.14498296, 24.46125299, 10.55005351, 35.29722441,\n",
       "       64.17645797, 62.42527005, 27.5215037 , 39.70998037,  8.98070492,\n",
       "       41.79577022, 74.40309567, 14.39959052, 28.06797938,  4.50717322,\n",
       "       42.9890939 , 14.15704851, 82.65402013, 18.67925928, 44.50033761,\n",
       "        7.57918805, 25.41692781, 79.69888426, 52.96606876, 34.70484795,\n",
       "       54.25966916, 76.21576533, 31.45830935, 44.26215738, 71.09946586,\n",
       "       90.12331879, 86.44363483,  9.32123601, 57.71878624, 41.13046371,\n",
       "       54.68338459,  3.05550153, 92.77157224, 43.13541851,  2.60536872,\n",
       "       30.11094991, 67.71160208, 39.82057321, 86.4947513 , 84.33631003,\n",
       "       62.94700547, 39.99854958, 95.27467689, 92.32599759, 10.49427545,\n",
       "       41.13946641, 10.65712668, 58.38118458, 44.94018484, 16.44575819,\n",
       "       55.79997008, 35.2599459 , 74.72974212, 24.44883648, 43.99564084,\n",
       "       73.75760716, 31.89203054, 48.66517512, 79.24704455, 32.01404857,\n",
       "       67.32164393, 12.26103685, 27.51845463, 67.92563417, 89.99772122,\n",
       "       93.17948892, 36.55744294, 95.41980439, 56.82767943, 87.89605246,\n",
       "       20.01039185, 52.7767569 , 62.52908336,  7.01871352,  2.85122709,\n",
       "       30.50645523, 50.96868467, 30.66194162, 44.84056678, 39.03446108,\n",
       "        7.48376189, 33.63081999, 73.21336626, 55.95486747, 53.35512051,\n",
       "       21.1044592 , 97.680588  , 16.26275578, 37.71806079, 23.04935155,\n",
       "       36.67958183, 49.01320601, 25.69938833, 98.15867933, 94.39624382,\n",
       "       79.27712854, 68.2522195 , 10.58581231, 27.01749749, 99.37336612,\n",
       "       71.32212875, 39.62070197, 57.15042162,  9.86150326, 44.6331798 ,\n",
       "       11.39077813, 68.50194449, 31.83878062, 67.25051013, 98.85297493,\n",
       "       39.90905927, 29.93406785, 47.28871388, 29.74133514, 85.06961641,\n",
       "       71.50413723, 35.58064253, 45.75594757, 43.44879319, 61.24157366,\n",
       "       73.87320537, 35.90108776, 36.24538123, 59.54533662, 82.48930055,\n",
       "       65.43686499, 58.0317509 , 50.80744821, 10.8254722 , 27.99139191,\n",
       "        4.31112315, 70.89884883, 65.22146678, 41.62721074,  1.76607814,\n",
       "       58.68384343, 74.75684816, 92.49492359, 10.7170723 ,  4.2041825 ,\n",
       "       11.57537757, 18.73471997, 18.3429858 , 21.37299606, 33.38650396,\n",
       "       49.6418878 , 49.20069858, 50.82248247, 29.52777504, 47.98392275,\n",
       "        7.36697179, 33.75391206, 49.13705484, 30.23369855, 38.44002124,\n",
       "       54.63356675, 40.61044013, 76.47854548, 48.47571152, 16.7030065 ,\n",
       "       13.94920335, 48.69100019, 25.39588763, 92.32689737, 57.88682784,\n",
       "        8.38678545, 37.89697396, 20.55103219, 63.59360719, 94.17328404,\n",
       "       82.20287699, 27.04407739, 87.12111208, 40.34471201, 88.92359391,\n",
       "       72.13700651, 66.34221321, 97.27668609, 10.3466961 , 31.16038855,\n",
       "        8.54608666, 78.97404088, 65.02380009, 96.30466744, 95.63677097,\n",
       "       86.23764169, 95.31028626,  5.36324799, 77.98237462, 57.80281736,\n",
       "       71.85394869, 16.46215167, 53.52253997, 35.44688371, 15.10426332,\n",
       "       83.84688848, 39.92476925, 81.25061695, 62.0140346 , 64.26814366,\n",
       "       13.13054306, 36.18344474,  5.38568496, 16.20885364, 19.93085764,\n",
       "       83.07461839, 96.88602238, 44.04700315, 32.44971819, 77.25086681,\n",
       "       28.96228454, 39.08325684, 23.35138282, 60.24094411, 93.10874253,\n",
       "       14.02686087, 31.98960109, 37.56696532, 86.31374105, 28.2755251 ,\n",
       "       88.34506665, 51.61691605, 77.8274428 ,  6.01467081,  2.06805276,\n",
       "       37.5961345 , 56.55590428, 30.21986661, 41.4459635 , 23.48120668,\n",
       "        8.3910865 , 89.77628515, 66.16512541, 58.71705705, 35.48726718,\n",
       "       66.3262783 , 33.33390943, 69.47458113, 22.48866833, 71.37471786,\n",
       "       50.0002347 , 85.91705575, 60.28581065, 70.98716524, 25.17687749,\n",
       "       51.76760849, 13.46260527, 47.56772572, 40.10450217, 17.46235243,\n",
       "       49.4006727 , 66.81487748, 34.62961074, 32.48193438, 23.74058752,\n",
       "        6.28500271, 66.53339471, 12.2338882 , 17.68002648, 91.16114121,\n",
       "       34.85165286, 47.384407  ,  7.48429121, 94.93302566, 45.84518946,\n",
       "       53.39464832, 50.15603648, 46.04520941, 60.32929113, 26.91460043,\n",
       "       86.47854854, 41.47826941, 52.73078465, 53.33433363,  3.50079095,\n",
       "       70.23486594, 44.2355447 ,  7.4010656 , 31.18416807, 12.80207553,\n",
       "       41.57256319, 87.96636369, 37.15628315, 78.12703921, 72.46926556,\n",
       "       74.29742484, 39.53702823, 39.1927374 , 52.25186996, 74.53044226,\n",
       "       46.71164108, 64.06160705, 92.14215229, 59.2083786 , 71.7615723 ,\n",
       "       17.73821404, 61.69860074, 32.00513626, 13.19322145, 61.41358773,\n",
       "       73.56544347, 64.86718982, 48.8025772 , 59.02750762,  9.76849797,\n",
       "       71.58340187, 69.33410981, 11.2606744 , 82.01844295, 19.56014545,\n",
       "       80.06886168, 84.66408495,  5.79536742, 46.46560515, 66.8264721 ,\n",
       "        8.28063686, 51.38525386,  3.28084518, 63.20228196, 73.76174757,\n",
       "       97.20917165, 96.21665471, 24.51219332, 95.39088585, 79.42308601,\n",
       "       34.84585604, 83.67678156,  5.12318882, 59.56850639, 38.57655387,\n",
       "       83.43328687, 29.90158749, 81.67542812, 30.3696438 , 38.75264403,\n",
       "        5.24702748, 90.36941433, 38.08556434, 98.91072085, 64.86356084,\n",
       "       83.10531026, 19.51291901, 67.1856112 , 90.31399851, 24.61224248,\n",
       "       88.71324832, 34.44512637, 67.36366377, 73.91038561, 10.08348654,\n",
       "       27.71230302, 28.89280369, 99.86037032, 67.52805816, 68.23073691,\n",
       "        6.67574702, 36.24339861, 95.94365741, 95.50959859, 32.02978643,\n",
       "        9.53174298, 20.04346968,  1.2444216 , 98.12939695, 84.32273692,\n",
       "       24.46430041, 96.57392171, 30.92913147, 20.07597061, 19.0114669 ,\n",
       "       17.06369555,  5.46060907, 21.16550715, 12.45624724, 65.23467103,\n",
       "       78.13432563, 20.22086264, 27.40572697, 85.26728272, 69.82887288,\n",
       "       46.9705529 , 74.83220367, 49.1978601 , 56.17518002, 78.21330397,\n",
       "       16.63109933, 70.46004854, 25.73003222, 67.56046834, 14.28071877,\n",
       "       86.57255918, 48.22148477, 93.83623634, 47.37818752, 29.87263645,\n",
       "       82.15774882, 42.82204091, 62.47770879,  3.54106251, 96.10337811,\n",
       "       46.67684014, 77.81286855, 94.31591638, 27.37761644, 70.17596288,\n",
       "       92.28634776, 72.18925053, 99.4117148 , 67.52842716, 89.22143084,\n",
       "       95.30588888,  8.21930491, 52.53932362, 20.66459026, 19.90554586,\n",
       "       30.89355891, 30.13173859, 67.9737125 , 53.73760141, 39.26418827,\n",
       "       16.16428397, 54.17614779, 15.14598537, 62.0555965 , 66.06578203,\n",
       "       18.42826269, 60.1441855 , 48.324694  , 20.14244922,  2.72871945,\n",
       "       50.43175541, 68.92040295, 34.31087652, 41.40571054, 36.92218267,\n",
       "       22.33875163, 78.52728545, 91.78236388,  7.64100837, 74.14886684,\n",
       "       66.98498246, 93.26282476, 20.35150574, 31.94184478, 85.11912517,\n",
       "       74.1761629 , 82.55926314, 90.74441903, 65.38394079,  7.12161915,\n",
       "       47.46147513, 40.38645456, 38.37663232, 24.07438288, 14.56311566,\n",
       "       89.73728813, 58.0094597 , 91.49055386, 25.11725604, 94.99963919,\n",
       "       39.25906348, 62.74562558, 70.20831794, 64.13121073, 75.13218857,\n",
       "       37.17378522, 72.62327644, 57.18191766, 84.32412698, 84.65196865,\n",
       "       25.75302866, 72.65439502, 27.29587633, 16.54827628, 62.26868289,\n",
       "       79.34195904, 15.06078388, 73.0263615 ,  2.30294377, 13.62215288,\n",
       "       68.43084586, 30.81239266, 28.29153635, 55.8075714 , 19.98800954,\n",
       "       89.65089434, 97.67228132, 94.55961112, 14.39941193,  3.20920819,\n",
       "       73.26504779, 37.91246563, 87.8723843 , 75.92829413, 28.46981384])"
      ]
     },
     "execution_count": 30,
     "metadata": {},
     "output_type": "execute_result"
    }
   ],
   "source": [
    "uniform"
   ]
  },
  {
   "cell_type": "code",
   "execution_count": 39,
   "id": "04902cbe",
   "metadata": {},
   "outputs": [
    {
     "data": {
      "image/png": "[encoded data removed]",
      "text/plain": [
       "<Figure size 640x480 with 1 Axes>"
      ]
     },
     "metadata": {},
     "output_type": "display_data"
    }
   ],
   "source": [
    "plt.hist(x = uniform , bins = 20  , color = 'green')\n",
    "plt.show()"
   ]
  },
  {
   "cell_type": "code",
   "execution_count": 36,
   "id": "a8625888",
   "metadata": {},
   "outputs": [
    {
     "data": {
      "text/plain": [
       "array([ 3.60636534e+00,  6.86684942e+00, -2.47370106e+00,  3.07286210e+00,\n",
       "        7.56291293e+00,  4.16244981e-01,  3.44133541e+00,  2.91473590e+00,\n",
       "        2.26063351e+00, -5.10227492e-01,  1.78987753e+00,  1.16379560e+00,\n",
       "       -2.89812343e+00, -2.10170889e+00,  8.32439309e-01,  6.30680405e+00,\n",
       "        2.83809182e+00,  3.43155266e+00,  2.34091629e+00,  2.75561870e+00,\n",
       "        3.80584963e+00,  2.58991250e+00,  4.98598914e+00,  4.39030638e+00,\n",
       "        4.37945395e+00,  3.09685827e+00, -1.45628649e+00, -5.42414777e-01,\n",
       "        6.71592512e+00,  9.40964165e-01,  1.29711509e+00,  4.95052659e-01,\n",
       "        2.61181848e-01, -3.17283642e+00,  1.41350086e+00,  4.10913629e+00,\n",
       "        4.58869670e+00, -6.44641785e+00,  2.31544565e+00, -1.38632318e-01,\n",
       "        9.14003037e+00,  4.58114008e-01,  3.51229546e-01,  4.45682813e-01,\n",
       "        6.40858690e+00, -1.99191324e+00,  2.92449433e+00, -3.30052162e+00,\n",
       "        3.75903553e+00,  4.57263939e+00,  3.91555308e+00,  2.22704875e+00,\n",
       "        1.07031013e+00,  6.04960699e+00,  4.12778720e+00, -2.20498149e+00,\n",
       "        3.43001465e+00, -3.35460380e+00,  1.35228216e+00,  2.53950176e+00,\n",
       "        9.52250632e-01,  8.91049779e-01,  1.40201022e+00, -1.59066895e+00,\n",
       "        1.52814004e+00,  1.62953747e+00,  4.34755747e+00,  5.11338455e+00,\n",
       "        3.06686143e+00, -1.60487856e+00, -1.24567994e+00, -9.99992089e-01,\n",
       "        6.11601952e+00, -3.84607647e+00,  2.55912902e+00, -1.24796703e+00,\n",
       "        1.10652531e+00,  4.67212190e+00, -6.65784334e-02,  4.75967019e+00,\n",
       "       -5.46559011e+00,  5.33738147e-01, -1.54723978e+00,  3.58508805e+00,\n",
       "        2.54678162e+00,  3.19553278e+00,  6.61730808e-01,  2.53149126e+00,\n",
       "        1.14640680e-01,  3.35967091e+00,  4.70333515e+00,  2.25076528e-01,\n",
       "        2.63687982e+00, -3.15019174e+00, -1.82634634e+00,  1.87314388e+00,\n",
       "        6.23784319e+00, -4.17049476e+00, -1.03945716e+00, -8.05377196e-01,\n",
       "        2.75778350e+00,  1.42762654e-01, -6.24571626e+00, -3.77953657e+00,\n",
       "        1.54298890e+00,  3.70976977e+00, -1.83252340e+00,  1.01121833e+00,\n",
       "       -4.20933784e+00, -1.99376473e+00,  3.00614893e+00,  3.96070948e+00,\n",
       "       -4.33564786e+00,  4.18331516e+00, -1.25212807e-01,  1.01414857e+00,\n",
       "        5.05315250e+00, -6.92918071e+00, -7.24086871e-01,  1.01897205e-01,\n",
       "       -7.85463412e-01,  4.47538085e-01,  2.10319701e+00, -4.63104112e+00,\n",
       "       -1.20325580e+00, -2.49993783e-01,  1.66430637e+00,  2.16132026e+00,\n",
       "       -1.42900526e+00, -2.99764838e+00, -4.65935786e-01, -3.79153070e+00,\n",
       "        3.52387818e+00,  1.53442378e+00,  4.14674979e+00,  2.00230356e+00,\n",
       "        1.26907274e+00,  7.43331230e-01, -1.98222075e+00,  7.45371730e+00,\n",
       "       -1.59498857e+00,  3.26917585e+00,  1.08817377e+00,  1.44745188e-01,\n",
       "       -3.33449304e+00,  1.41661801e+00,  2.94383961e+00,  4.97783467e-01,\n",
       "       -4.10018271e-01,  5.03211073e+00, -2.89544209e+00, -1.20809679e+00,\n",
       "       -1.84939315e+00,  5.46563463e+00, -2.00215449e+00,  2.33528990e+00,\n",
       "        1.10244647e+00,  2.15676627e+00,  6.51776552e+00,  3.35954219e+00,\n",
       "        1.60138365e+00, -1.96096649e+00, -4.78545981e+00, -5.07121897e-01,\n",
       "        7.53486352e-02,  3.89749543e+00, -2.33239485e-01,  2.45102257e+00,\n",
       "       -1.21424114e+00,  1.16299043e-01, -2.55394152e+00, -4.56339273e+00,\n",
       "        2.68753688e+00,  5.60068993e+00, -2.13528264e+00, -2.22977750e+00,\n",
       "        2.18131110e+00,  6.93544301e+00, -8.32543630e-01, -1.21129983e-01,\n",
       "        3.03232063e+00,  5.41547454e-02,  9.20963060e+00, -2.24051349e+00,\n",
       "        4.78618072e-01,  3.08526849e+00,  2.74852797e+00,  2.41460490e+00,\n",
       "       -2.99201418e+00, -1.48591633e+00,  1.15625147e-02,  1.91368164e+00,\n",
       "        1.36669146e-01,  1.03975792e+00,  6.20888118e+00,  7.23317276e-01,\n",
       "        7.70432183e-01, -9.30718724e-01, -2.39404860e+00,  8.74766658e-01,\n",
       "        4.04314475e+00, -8.21511967e-01, -2.55443172e+00,  7.53764819e-01,\n",
       "       -4.28908946e+00, -1.50682821e+00, -2.76067898e-01,  1.75866333e+00,\n",
       "        4.52500816e+00, -1.89011987e+00,  3.16477786e+00,  9.25955042e-01,\n",
       "       -1.43980408e+00, -6.43685040e+00,  2.49160906e+00, -4.44011598e-01,\n",
       "        3.01799081e+00, -3.30091512e+00, -3.25591943e-01,  9.20655289e-01,\n",
       "       -6.23024269e-01,  6.07168702e-01, -5.32057211e-01,  2.80733518e+00,\n",
       "        2.04421762e+00,  2.32646888e-01,  3.73409557e+00, -5.40271562e+00,\n",
       "        6.67904342e-01, -1.31720848e+00, -2.40565077e+00,  5.07156977e-02,\n",
       "       -3.64154271e+00, -1.76444138e+00, -6.39699471e+00,  6.19887089e+00,\n",
       "       -2.02570928e+00,  4.16462204e+00,  4.85620209e+00, -4.09390712e+00,\n",
       "        4.76744236e+00,  3.32873090e+00,  9.02346079e-01, -4.22501428e+00,\n",
       "       -2.56157867e+00,  1.99969165e+00,  2.98496433e+00, -7.04357939e-01,\n",
       "       -6.77002968e-01,  7.37970432e-01, -4.05285500e+00, -6.95853003e+00,\n",
       "        3.97412206e+00,  2.33209673e+00,  6.15073987e-01,  1.91370068e+00,\n",
       "        5.80559720e+00,  1.30012708e+00,  3.62113251e+00,  7.76542853e+00,\n",
       "        3.55513385e+00,  8.71835455e-01,  1.01363901e+00,  5.68077296e+00,\n",
       "        3.92300205e-01,  4.72030639e+00,  2.26206818e+00,  2.68306273e+00,\n",
       "        4.95074535e-02,  7.48478792e+00, -9.77943067e-01,  2.91987518e-01,\n",
       "       -1.51209446e-01, -3.13167481e+00,  2.25653016e+00, -1.28478544e+00,\n",
       "       -1.84929791e-01, -2.55378293e+00,  2.36579469e+00,  1.50872214e+00,\n",
       "        2.38568323e-01, -1.99319608e-02,  6.82456874e+00,  6.36906859e-01,\n",
       "        3.17370670e+00,  4.94303168e+00, -2.73036112e-01,  2.32713732e+00,\n",
       "        4.50537412e+00, -5.56140417e-01, -1.72715549e-01,  5.54698271e+00,\n",
       "       -2.90336961e+00, -1.64703394e+00,  1.80576443e+00,  4.30376655e+00,\n",
       "        2.22508993e+00,  5.10180721e+00,  4.09333803e+00, -6.41513327e+00,\n",
       "       -1.82060011e+00,  9.05655139e-01,  1.16568244e+00, -1.15571115e+00,\n",
       "        1.52847447e+00,  4.43260601e+00, -4.73559395e-01, -4.35964324e-01,\n",
       "       -5.69542912e-01,  2.46872559e+00,  1.85207990e+00,  2.63839368e-01,\n",
       "        6.49210055e+00,  1.60716653e+00,  5.20627516e+00,  2.79404216e+00,\n",
       "       -3.29337892e+00, -2.80102933e+00,  3.74179818e+00,  3.64196283e+00,\n",
       "        2.11963903e+00,  4.95279574e+00,  3.24778053e+00, -7.48106284e+00,\n",
       "        1.02306107e-01, -9.56232119e-01, -1.41880107e+00,  3.37350949e+00,\n",
       "        3.04656318e+00,  2.70803486e+00, -1.95193304e+00, -4.96178437e-02,\n",
       "       -3.43420411e+00, -1.31387369e+00,  1.25510471e+00, -9.46738376e-01,\n",
       "       -3.95644988e-01, -3.15674968e-01, -2.83437253e+00, -1.58099364e+00,\n",
       "       -3.22331327e+00,  3.67355981e+00, -1.12358848e+00,  4.44019734e+00,\n",
       "       -2.01020009e+00,  1.62837944e+00,  2.51223973e+00,  2.26583340e+00,\n",
       "        1.11044062e+00,  1.37750108e+00, -8.30963053e-01, -8.68637948e-01,\n",
       "       -1.27361457e+00, -2.96047314e+00,  2.81717058e+00, -2.74222797e+00,\n",
       "        1.13923969e-01, -4.30758748e+00, -1.77931271e-01,  8.07072760e-01,\n",
       "        8.20230215e+00, -8.02479355e-01, -1.27334550e+00,  4.06484325e-01,\n",
       "        4.02347941e+00, -1.17677742e+00, -3.68135019e+00,  8.76111679e-01,\n",
       "        4.49834036e+00,  5.49426834e-01,  2.90027760e+00, -8.01899333e-03,\n",
       "        1.02489594e+00, -1.79596643e+00,  4.94157290e+00,  6.86103958e-01,\n",
       "        4.10828174e+00,  3.48266458e+00,  1.57391436e+00,  4.97531554e+00,\n",
       "        5.56584485e+00,  1.08873499e+00,  2.00774938e-01,  6.49553176e+00,\n",
       "        4.36104308e+00, -1.45907074e+00,  1.68222283e+00, -4.53444409e+00,\n",
       "       -2.34299732e+00, -2.42170505e+00,  4.24156382e-01, -1.72201025e+00,\n",
       "       -1.16722866e-01, -7.10684531e-01,  3.10810177e+00, -7.62966455e-01,\n",
       "        5.80437286e+00, -8.68723393e-01, -4.92135906e+00, -1.63755128e-01,\n",
       "       -1.19553883e-01, -2.09493079e+00, -6.70738869e-01, -8.68713939e-01,\n",
       "        1.32300688e+00,  2.40939822e+00, -6.29989134e-01,  4.26162566e+00,\n",
       "        2.32490444e+00,  3.32257332e+00,  9.91925880e-01,  2.01106316e+00,\n",
       "        2.06493180e+00,  1.93084281e+00, -3.43866150e-01,  6.67985143e-01,\n",
       "        2.91592818e+00,  6.81569888e+00, -1.04547869e+00, -5.38514415e-01,\n",
       "        7.03370892e-01,  2.52604447e+00, -3.30934285e+00, -2.14137462e+00,\n",
       "       -1.09628939e+00,  3.89518424e+00,  8.14125591e-01,  3.74289310e+00,\n",
       "       -2.10578152e+00, -5.94608404e+00,  3.80638881e+00,  1.56670697e+00,\n",
       "        4.84920172e+00,  2.47355807e+00,  5.99810713e+00,  4.45057894e+00,\n",
       "        3.03633844e+00, -7.38942084e-01,  7.46365973e+00, -8.50143474e-01,\n",
       "        3.52979157e+00, -1.20677657e+00,  2.12735253e+00, -3.38767223e-01,\n",
       "        7.05596734e-01,  3.52881655e+00,  4.27850757e+00,  6.96504374e+00,\n",
       "       -2.65428354e+00,  1.09472399e+00, -4.76725660e+00, -5.50933119e+00,\n",
       "        1.61061592e+00,  4.49581138e-02,  3.20330050e+00,  9.20028200e-01,\n",
       "       -1.78051286e+00,  6.18372284e+00, -8.83549955e-02,  3.19907222e+00,\n",
       "        1.21500863e+00,  3.42321350e+00,  4.11150029e-01, -2.81249833e+00,\n",
       "        3.34571621e+00,  7.43436413e+00, -1.24541642e+00, -2.29259801e-01,\n",
       "       -2.03781296e+00,  1.45652352e+00, -5.51131675e+00,  1.26088174e+00,\n",
       "        2.27116530e+00,  1.55905175e+00,  5.39840394e-01,  2.59142573e-01,\n",
       "       -1.82983470e+00,  2.22057245e+00,  2.20322299e-02, -2.01294008e+00,\n",
       "        4.68092055e-01,  5.27932640e+00,  3.04177728e+00,  6.89590740e-01,\n",
       "        2.09714328e+00, -2.47784805e+00, -1.59078339e+00,  1.68621609e+00,\n",
       "       -1.48927056e+00,  7.39456209e+00, -6.29222795e-01,  2.71831717e+00,\n",
       "        4.82806707e+00,  1.14742493e+00,  3.59322204e+00, -1.01241885e+00,\n",
       "        6.00988289e+00,  1.15763063e+00,  2.29329278e+00, -5.81483156e-01,\n",
       "        2.28881142e+00,  4.42812978e-01,  2.40027558e+00,  3.26545578e+00,\n",
       "       -3.87970513e+00, -2.30456163e+00,  7.86781765e-01,  3.77494961e+00,\n",
       "        4.25561639e+00,  8.98613947e-01,  4.55208986e-01, -2.85817453e+00,\n",
       "        5.85461456e-01, -1.69049303e-01,  2.87588059e+00,  3.37748961e-01,\n",
       "       -6.40033119e-01,  1.33975983e+00, -5.28540685e+00,  3.35255386e+00,\n",
       "        2.00560084e+00,  1.49275117e+00,  4.51149276e-01,  1.16996507e+00,\n",
       "        1.96261749e+00, -1.64599272e-01, -5.44796882e-01, -1.77760430e-01,\n",
       "        3.30989329e-01, -4.57304563e+00,  5.43217174e+00, -2.30569314e+00,\n",
       "        5.01212249e+00,  2.62680323e+00,  3.05108954e+00, -2.26380442e-01,\n",
       "       -9.31613119e+00,  4.77563984e+00, -1.10981823e+00,  1.70994806e+00,\n",
       "        4.11255283e+00,  1.20625960e+00,  3.99662899e+00,  2.98014084e+00,\n",
       "        1.72959841e+00,  7.12032043e+00,  1.67250009e-01,  3.09245620e-02,\n",
       "        7.01925375e-01, -5.42654048e-01, -5.42735197e+00,  1.38484302e+00,\n",
       "       -1.82106500e+00,  6.49015717e-01, -2.33473777e+00,  3.92027770e+00,\n",
       "       -8.47490954e-02,  6.73489143e+00,  2.46232871e+00,  1.04770718e-02,\n",
       "        1.95803867e+00, -2.27951067e+00,  4.23026595e+00,  9.23243065e+00,\n",
       "        5.37067389e+00,  1.28800716e+00, -4.98795601e+00,  8.42176071e-01,\n",
       "       -2.32947265e-01,  2.36088270e+00, -7.66387229e-01,  2.18012544e+00,\n",
       "        3.42051313e+00, -3.97634923e+00,  2.83676766e+00, -1.83164664e+00,\n",
       "        2.69318748e+00,  4.22617264e+00, -3.48638801e-02,  2.10479843e+00,\n",
       "        2.86666547e+00,  4.18207031e+00,  2.06576390e-01, -2.52390214e+00,\n",
       "        2.08263092e+00,  3.12207254e+00,  5.67374076e-01,  6.62177408e-01,\n",
       "       -1.86659358e+00,  1.11014827e-01,  5.06638978e+00, -2.00697150e+00,\n",
       "        1.03272982e+00, -1.66309387e+00,  1.69116120e+00, -6.72982685e-01,\n",
       "        1.19577516e+00, -2.41292653e+00, -4.02476637e+00,  1.82079598e+00,\n",
       "        1.49200582e+00,  4.86116860e+00,  6.34680431e-01,  4.18246982e-01,\n",
       "        3.58956261e+00,  1.10862641e+00,  8.90295636e-01, -3.90846872e+00,\n",
       "        3.35288420e+00,  4.74351772e+00, -1.74907513e+00,  3.06587528e+00,\n",
       "        2.07624574e+00, -4.23077565e+00,  6.28026919e+00, -1.60126488e+00,\n",
       "       -1.94505441e+00,  1.88525805e+00, -2.14563398e-01, -3.41991193e+00,\n",
       "        7.52203800e-01,  4.61111786e+00,  4.09874554e+00,  3.83067156e+00,\n",
       "        2.47180022e+00,  6.07350128e-01, -1.49016223e+00,  2.08769906e+00,\n",
       "        1.11766283e+00, -1.92249982e+00,  4.62149826e-01,  4.44117222e+00,\n",
       "       -7.66618398e-01,  9.31037768e-01,  5.64315974e+00, -9.60864328e-01,\n",
       "       -2.75084093e+00,  1.41490160e+00, -7.50385197e-01,  8.15482810e-01,\n",
       "        1.85401526e+00, -4.17538375e+00,  5.83240056e-01, -2.78409019e+00,\n",
       "        6.64380627e-01,  2.56698367e-01, -1.13238764e+00,  4.59545750e+00,\n",
       "        5.11329640e+00,  3.18535010e+00,  2.65816009e-01,  5.49348876e-01,\n",
       "        4.76209026e+00, -5.88234313e-01,  2.58960029e+00,  5.23248109e+00,\n",
       "        3.74176877e+00,  2.51418536e+00, -5.16085157e-01, -2.85784240e+00,\n",
       "        1.49983257e+00, -8.28285557e-02,  4.25871330e+00,  3.26152637e+00,\n",
       "       -6.18157439e-01,  2.75578426e+00, -2.39940941e+00, -7.23362562e+00,\n",
       "       -5.27473479e+00,  1.87245353e+00, -2.92325530e-01, -5.82149691e-01,\n",
       "        6.85158125e-01,  1.40698153e+00, -2.05004306e+00,  4.83471393e+00,\n",
       "        6.19433525e+00,  4.79559767e+00,  7.82521271e-01, -3.15770543e+00,\n",
       "       -1.10249035e+00, -3.80729494e+00, -1.29892843e+00,  3.84033939e+00,\n",
       "        1.37282041e+00,  1.17732450e+00, -1.64584199e-01,  3.82895548e+00,\n",
       "       -4.07940273e+00,  2.95214252e+00,  1.52871327e+00, -3.79378378e+00,\n",
       "        1.80403185e+00,  2.85966187e+00,  1.64183641e+00,  4.19823329e+00,\n",
       "        3.65310249e+00,  3.07218390e+00,  3.34946385e+00,  2.56444136e+00,\n",
       "        5.39848479e+00,  9.91634559e-01, -2.33680353e+00,  1.70071992e+00,\n",
       "        9.32202528e-01,  3.24398132e+00, -2.31056405e+00, -9.29610131e-01,\n",
       "        8.75675191e-01,  4.85675821e+00,  2.33473498e+00,  3.49955207e+00,\n",
       "       -9.67472360e-01, -1.11261297e-01,  3.27547225e+00, -4.91267766e+00,\n",
       "        4.83388598e-02, -3.36713954e-01,  4.79877625e+00, -7.32008952e+00,\n",
       "        1.58445363e+00,  4.22982084e+00,  4.08694966e+00,  2.75022480e+00,\n",
       "       -6.71880814e+00, -1.60132216e+00, -7.57463200e-01, -1.13054685e+00,\n",
       "        3.70441410e+00, -1.63809542e+00,  6.25230070e-01,  4.43824588e-01,\n",
       "       -4.67031962e+00, -2.37470770e+00,  8.44036421e-01, -4.74136030e-01,\n",
       "       -1.76594266e+00,  2.78581172e+00,  3.24915978e+00, -5.92748514e-01,\n",
       "        2.37377341e+00, -3.28366493e+00,  2.28832105e+00,  3.68739764e+00,\n",
       "        2.54974848e+00,  7.31865024e+00, -6.13738292e+00, -1.88323760e+00,\n",
       "        3.06765868e+00, -4.37074609e-01,  4.20163641e+00,  4.35881381e+00,\n",
       "        1.92006757e+00,  4.94514832e+00,  3.71303601e+00,  3.34934273e+00,\n",
       "        3.54994169e-01,  3.62812555e+00,  3.58080991e+00,  4.96141194e+00,\n",
       "       -3.47610096e+00, -5.32827088e-01,  4.00215089e+00,  5.43993301e+00,\n",
       "        1.17317001e+00, -8.31475133e-02,  7.41538230e-01,  1.77568331e+00,\n",
       "        2.40674805e+00,  4.10991624e+00,  2.13617143e+00,  1.71679595e+00,\n",
       "       -1.21047141e+00, -1.20950213e-01, -1.65037128e+00, -3.06591356e-01,\n",
       "       -6.55363214e-01,  3.25440893e+00,  4.39671164e-02,  4.88347103e+00,\n",
       "        2.95830113e+00, -4.14004902e+00, -6.22542027e-01,  6.35170611e+00,\n",
       "        2.85104773e+00, -1.65239087e+00,  5.40404293e+00,  2.43062332e+00,\n",
       "       -1.53499958e+00,  2.97677024e+00,  2.89840270e+00,  2.59705159e+00,\n",
       "       -3.00090707e+00,  3.82704075e+00,  9.57226786e-01,  2.94945637e-02,\n",
       "       -1.58943961e+00, -1.68296598e+00,  3.66025801e+00, -3.73256083e+00,\n",
       "        8.13323067e-01, -3.03453278e-01, -4.79628646e+00,  3.02179531e+00,\n",
       "       -2.72170973e+00,  1.38108791e+00,  1.00183364e+01, -1.20773778e+00,\n",
       "       -1.60244500e+00,  2.14006078e+00,  3.34961952e+00,  1.90963669e+00,\n",
       "       -1.54404334e+00, -3.94861704e-01,  1.44993902e+00,  1.20362030e+00,\n",
       "        8.81945488e-01, -5.63256681e+00, -3.09932242e-01,  8.97118996e+00,\n",
       "       -7.58637311e-01,  3.25522645e+00,  6.29420971e+00, -1.42436150e+00,\n",
       "        5.38745394e-01,  2.32623105e+00, -3.42047423e-01, -7.53196429e-01,\n",
       "        2.83437013e+00,  8.58511776e-01,  4.40370760e+00, -1.91098798e+00,\n",
       "        3.43869876e+00,  4.96583738e+00,  8.58324060e-01,  1.08971249e+00,\n",
       "        3.98132463e-01, -6.10612399e-01,  2.40758393e+00,  3.75649217e+00,\n",
       "        2.75612213e+00,  2.40529466e+00, -1.55696475e+00,  1.28990905e+00,\n",
       "        3.13760493e+00, -2.61305575e-01,  2.96733663e+00,  3.19699680e+00,\n",
       "        2.19840320e+00, -3.19151218e+00,  6.54778831e+00,  4.11298383e+00,\n",
       "        2.58279810e+00,  4.83538537e+00, -3.52849517e+00,  2.03017972e-01,\n",
       "        1.99251229e+00,  2.70907173e+00,  1.14775105e+00,  8.84870964e-01,\n",
       "        6.68332005e-01,  3.12514461e+00,  2.40551238e+00, -1.38533949e+00,\n",
       "       -3.21070981e+00,  6.62006437e-01,  7.84640753e+00,  2.71463269e+00,\n",
       "        2.39843606e+00,  2.05749365e+00, -2.33206456e-01, -2.71853395e+00,\n",
       "        2.37504322e+00, -5.08331708e-01, -4.82498808e+00,  1.34937962e+00,\n",
       "        5.68160301e+00,  3.03762112e+00, -2.01730638e+00, -5.54160266e+00,\n",
       "        1.21203824e+00,  3.23718553e+00,  1.70697027e+00,  8.01316210e-01,\n",
       "        7.57715280e-01,  2.50436302e+00, -3.40362019e+00, -5.58708810e+00,\n",
       "        4.00578733e-01,  4.72359804e+00,  3.79537999e+00, -3.83727035e+00,\n",
       "        5.77685346e+00,  2.93113310e+00,  1.16277282e+00,  1.19050926e+00,\n",
       "        3.10906278e+00, -6.55669507e-01, -2.99753446e+00,  2.17639989e+00,\n",
       "        1.02378715e+00,  1.40281615e+00,  1.03369003e+00,  3.02051324e+00,\n",
       "        1.79281511e+00,  2.57895384e-01,  3.27976423e+00,  1.60818828e+00,\n",
       "        2.88252853e+00, -1.32421067e+00,  1.31225890e+00,  5.71015831e+00,\n",
       "       -7.11777196e-01,  3.50458315e-01,  5.50776320e+00,  1.02762323e+00,\n",
       "        3.58881694e+00,  2.22651054e-01, -2.29149608e+00, -7.96247105e-01,\n",
       "       -4.11418045e+00,  2.13465753e-02, -5.60697048e+00,  1.31174742e+00,\n",
       "        6.08912141e+00,  1.84780833e+00, -1.67147134e+00,  4.37147748e+00,\n",
       "        7.41755571e-01, -5.32748177e-01, -1.38269662e+00, -4.74516974e+00,\n",
       "       -2.07509934e+00,  2.49718112e+00,  5.00286141e+00,  4.12754034e+00,\n",
       "       -8.60317193e-01,  1.33233997e-01,  3.08294647e+00,  1.27186044e+00,\n",
       "        6.09415760e-01, -8.21111961e-01, -1.89722552e+00,  1.54908368e+00,\n",
       "        3.20369948e+00,  1.55368145e+00,  1.90956091e+00,  1.66842557e+00,\n",
       "       -9.66683874e-01, -1.91321825e-01,  4.62433263e+00,  1.07248600e+00,\n",
       "       -5.87912010e-01,  5.55905518e+00,  4.46493907e+00,  1.89618124e+00,\n",
       "        2.06999126e+00,  6.16403581e-01,  2.15053894e+00, -1.35607984e+00,\n",
       "        1.53163555e+00,  2.34929150e-01,  3.89514792e+00, -1.43620501e+00,\n",
       "        2.33168328e+00, -5.73228118e-01,  5.30535241e+00,  2.04297163e+00,\n",
       "       -2.77749746e+00,  1.49320232e+00,  2.23974674e+00, -1.84689855e+00,\n",
       "        4.67689179e+00, -9.69443254e-01,  1.47923220e+00,  7.95688081e+00,\n",
       "       -1.34014235e-01,  5.35352139e+00, -3.99592181e-02,  7.40276341e+00,\n",
       "       -8.99318694e-01, -1.57783340e+00, -1.34043094e+00, -1.02719211e+00,\n",
       "        1.94121461e+00, -2.88326099e+00,  1.84264698e+00,  3.66896730e+00,\n",
       "        7.24853791e-01, -2.22185897e+00,  9.46090602e-01,  1.02228142e+00,\n",
       "       -4.67189591e-01,  2.16709985e+00,  2.79321690e+00,  5.65482338e+00,\n",
       "       -1.64695607e+00,  2.57720876e+00,  3.36716259e+00,  3.31049032e+00])"
      ]
     },
     "execution_count": 36,
     "metadata": {},
     "output_type": "execute_result"
    }
   ],
   "source": [
    "meu = 1 #Mean\n",
    "sigma = 3 #Standard deviation\n",
    "\n",
    "normal = np.random.normal(meu , sigma , 1000)\n",
    "normal"
   ]
  },
  {
   "cell_type": "code",
   "execution_count": 40,
   "id": "e0d8b389",
   "metadata": {},
   "outputs": [
    {
     "data": {
      "image/png": "[encoded data removed]",
      "text/plain": [
       "<Figure size 640x480 with 1 Axes>"
      ]
     },
     "metadata": {},
     "output_type": "display_data"
    }
   ],
   "source": [
    "plt.hist(x = normal , bins = 150)\n",
    "plt.show()"
   ]
  },
  {
   "cell_type": "code",
   "execution_count": 41,
   "id": "e3ccb582",
   "metadata": {},
   "outputs": [
    {
     "data": {
      "text/plain": [
       "array([0, 1, 2, 3, 4, 5, 6, 7, 8, 9])"
      ]
     },
     "execution_count": 41,
     "metadata": {},
     "output_type": "execute_result"
    }
   ],
   "source": [
    "a = np.arange(10)\n",
    "a"
   ]
  },
  {
   "cell_type": "code",
   "execution_count": 42,
   "id": "149835fe",
   "metadata": {},
   "outputs": [
    {
     "data": {
      "text/plain": [
       "array([2, 4, 6, 8])"
      ]
     },
     "execution_count": 42,
     "metadata": {},
     "output_type": "execute_result"
    }
   ],
   "source": [
    "a[2::2]"
   ]
  },
  {
   "cell_type": "code",
   "execution_count": 44,
   "id": "f1c1dc81",
   "metadata": {},
   "outputs": [
    {
     "data": {
      "text/plain": [
       "array([-2.33284294e+00,  3.72052670e+00, -5.54914331e+00,  4.19853649e+00,\n",
       "       -2.30610293e+00, -8.49697874e-01, -5.88864025e-01, -9.68692641e+00,\n",
       "        4.59132640e+00,  2.33869963e+00, -1.57421901e+00, -3.74533445e+00,\n",
       "       -6.61309601e+00, -4.31464674e+00, -1.05282722e-01, -1.04808608e+00,\n",
       "        2.37547747e+00,  4.05705105e+00, -2.99528901e-01, -3.75841515e+00,\n",
       "        3.74184889e+00,  2.91341327e+00, -7.00572467e+00,  1.32100930e+00,\n",
       "        2.53064404e+00, -2.04713933e+00, -2.66166291e-01, -2.11181260e+00,\n",
       "        2.55476657e+00, -6.73761610e+00, -2.74115259e+00, -3.39279543e+00,\n",
       "       -1.23256010e+01,  3.09033132e+00,  2.75654388e+00,  4.42399290e+00,\n",
       "       -5.75378141e+00, -6.57130344e+00,  1.98829369e+00, -2.47192333e+00,\n",
       "       -3.91718457e+00, -5.80105446e+00, -7.85951083e+00,  3.25865847e+00,\n",
       "        3.75674324e-01,  1.05953647e+01,  3.90907663e-01, -7.48551760e+00,\n",
       "        5.02727932e+00, -5.89913073e-01,  7.05356036e+00, -2.59192009e+00,\n",
       "        1.55113315e+00,  1.54769303e+00, -4.92767096e+00, -2.40067701e+00,\n",
       "       -4.02153757e+00,  1.57992127e+01, -6.52750239e+00, -7.97745857e+00,\n",
       "        4.80423256e-01, -6.78662655e+00, -5.74558847e+00,  4.97451986e+00,\n",
       "       -6.25760633e+00, -7.25741765e+00, -3.87910033e+00, -3.23889320e+00,\n",
       "        2.64858608e+00, -7.75979217e-01, -3.37066342e+00, -7.93876808e-01,\n",
       "        1.07560554e+00, -2.56926209e+00,  9.36440331e+00,  5.55939639e-01,\n",
       "        5.37294902e+00,  1.62853644e+00, -1.90424490e-01, -9.39621830e-01,\n",
       "        4.59770677e+00, -1.24399538e-01, -1.29593097e+00, -3.18168058e+00,\n",
       "        2.98499872e+00,  1.31509828e+00,  1.39431514e+00, -3.98888023e+00,\n",
       "       -7.90332227e-02, -1.82555116e+00,  1.38429424e+00,  1.96967659e+00,\n",
       "       -2.46290159e-01, -7.54983731e+00, -5.50075287e+00,  3.87544171e+00,\n",
       "       -2.63433404e+00, -7.08209465e+00, -1.07416194e+01, -2.08247887e-01,\n",
       "        3.83314742e+00,  1.38023057e+00,  1.13957946e+01, -4.95374047e+00,\n",
       "        6.39686184e+00, -2.27566245e+00, -2.90765263e+00, -2.29522625e+00,\n",
       "       -1.45074381e+00, -4.74276763e+00, -2.24192987e+00, -3.33274082e+00,\n",
       "        3.90346056e+00, -8.67521168e-01,  3.50809322e-01, -7.63534005e+00,\n",
       "        2.34837661e+00,  6.20045213e-01,  5.79936426e+00, -2.82409649e+00,\n",
       "       -6.96124294e+00,  1.75694943e+00,  4.97417143e+00, -1.10603445e+00,\n",
       "        5.04609866e+00, -7.54372531e+00,  1.19519916e+00, -6.92880961e+00,\n",
       "        3.23898801e+00, -6.04536687e+00,  5.15439629e+00, -6.89432219e+00,\n",
       "       -1.17722950e+00, -1.44336873e-02, -4.77381288e+00,  5.10049236e+00,\n",
       "        3.38741470e+00, -4.42556493e+00,  4.74720998e+00,  2.71502364e+00,\n",
       "       -6.08503289e+00,  9.49270776e+00,  3.13197132e+00,  7.94920164e-01,\n",
       "       -9.31526794e+00,  8.05539812e+00,  6.13921278e+00, -5.43802967e-01,\n",
       "        5.60859274e+00, -4.40951007e-01, -1.40664732e+00,  2.88752422e+00,\n",
       "       -7.56145120e+00,  5.38058226e+00, -2.10204704e+00,  3.89415261e+00,\n",
       "        4.69521461e+00, -3.96442909e-01, -8.64085191e+00, -6.59456276e-01,\n",
       "        9.82783758e-01,  4.13299155e+00, -8.88999747e+00,  4.09386754e-01,\n",
       "        1.23879971e+00, -1.08250253e+01,  1.01183822e+01,  1.85242811e+00,\n",
       "       -1.95353512e-01, -3.80281786e+00, -1.97599487e+00,  2.38835679e-01,\n",
       "        3.78219430e-01,  5.18657340e+00, -9.61371787e+00, -1.11441815e+00,\n",
       "       -1.92591799e+00, -8.75604945e+00,  1.05123401e+01, -9.69443178e+00,\n",
       "       -3.80201073e+00, -2.97809749e+00,  6.54184563e+00, -1.13987433e+01,\n",
       "       -1.28458685e+00, -5.41725111e+00,  3.24601850e+00, -2.29243650e+00,\n",
       "        1.43258145e+01,  4.08212030e+00, -6.37120995e+00, -9.27459179e+00,\n",
       "        2.61617013e+00,  5.68077243e+00,  2.73208642e+00, -8.47091065e-01,\n",
       "        8.66914590e+00,  4.44732618e+00, -2.43095945e+00, -3.15223453e+00,\n",
       "        2.02378804e+00, -2.80425022e+00, -9.11126667e+00, -4.49544758e-01,\n",
       "       -3.96561481e+00,  5.14123184e+00,  1.44327574e+00,  1.10291626e+01,\n",
       "        7.17714781e+00,  5.99935480e+00,  2.77142024e+00, -7.57913316e+00,\n",
       "        3.13005361e+00, -4.18211478e+00,  8.94386426e-01,  6.15016460e-01,\n",
       "        2.75030963e+00, -4.75098704e+00, -5.40466034e+00, -3.27259490e+00,\n",
       "       -3.68085780e+00, -3.43469286e-01,  3.83584379e+00, -5.75807149e-01,\n",
       "        9.34298140e-01,  4.48227365e+00, -1.02441530e+01,  7.51812686e+00,\n",
       "       -6.07275154e+00, -4.92842112e-01,  3.39310333e+00,  6.49861123e-01,\n",
       "       -1.09151640e+01,  4.44879333e+00, -1.27326322e+01,  2.46886133e+00,\n",
       "       -3.12402947e-01, -5.27738891e-01,  2.07259680e+00,  1.13494655e+00,\n",
       "        5.71230201e+00,  4.88720523e+00, -2.54600277e+00,  3.14205022e+00,\n",
       "       -8.03435022e+00, -2.55865903e+00, -1.28539563e+00,  9.90474900e-01,\n",
       "       -5.41281806e+00, -1.06527416e+01, -6.32661585e+00, -1.12518071e+00,\n",
       "       -1.57832401e+00, -4.57545734e-01,  1.78849155e+00, -5.88458857e+00,\n",
       "       -2.84613288e+00, -1.07272072e+00,  9.80407183e+00,  2.40872501e+00,\n",
       "       -1.09380224e+00, -5.72171228e+00,  2.20028180e+00, -2.07398723e-01,\n",
       "        4.46681592e+00, -4.80393004e+00, -5.82669578e+00,  1.54700583e+00,\n",
       "        4.97934136e+00,  5.64366722e+00,  6.21119066e+00, -3.49182552e-01,\n",
       "        6.92816717e-01, -3.87005551e-01, -5.67311133e+00,  6.87467093e+00,\n",
       "        5.40872969e+00, -1.08365717e+01, -6.18404568e+00,  1.27517041e+01,\n",
       "        9.74829709e+00,  6.48942531e+00, -1.27765512e+00,  6.93197057e-01,\n",
       "       -3.84205398e+00, -3.05761968e-01, -6.50749665e+00,  6.93430780e+00,\n",
       "        1.41957091e+00,  1.50795709e+00,  2.29278434e+00, -4.95734892e+00,\n",
       "       -4.68030036e+00,  1.06979118e+01,  5.21440940e+00, -6.44681471e+00,\n",
       "       -1.11213296e+01, -1.06390898e+01, -3.39885012e+00,  7.93620365e-01,\n",
       "        3.26462165e+00,  2.18239803e+00, -9.93501728e+00, -1.82675668e+00,\n",
       "       -5.66467677e-01, -6.39157385e-01, -3.12021975e+00,  1.96389125e+00,\n",
       "        3.56952464e+00, -7.54727801e+00, -9.13409364e+00, -5.08555556e+00,\n",
       "       -7.54333952e+00,  2.86512146e-01,  4.02765219e+00,  2.17383543e+00,\n",
       "        4.76111268e-01,  3.98566160e+00, -7.94683963e+00,  2.99620707e+00,\n",
       "        6.79776543e+00, -1.91651980e+00, -5.45551915e+00,  2.39352371e+00,\n",
       "       -2.59017369e+00, -3.80327559e-01, -2.44704082e+00, -1.21827236e+00,\n",
       "       -2.33938481e+00,  9.87313976e+00,  3.00706497e+00,  2.37749799e+00,\n",
       "       -8.62028839e+00, -4.38015935e+00, -1.02840837e+00,  5.06791877e+00,\n",
       "        4.80058621e+00,  4.78774347e+00,  1.06727160e+00, -2.52264717e+00,\n",
       "       -5.37607380e+00,  3.13231006e+00, -2.42215247e+00,  8.14199735e+00,\n",
       "       -1.43692787e+00,  5.91695307e+00, -9.85170496e-01,  9.05150257e+00,\n",
       "       -2.57297065e+00, -1.16036468e+01, -3.14667739e+00,  3.22762794e+00,\n",
       "        3.85355127e-02,  1.28822459e+00, -2.22842519e+00, -1.59493314e+00,\n",
       "        4.94468627e+00,  3.30805379e+00, -2.25239550e+00,  2.38354495e+00,\n",
       "       -3.44964537e+00,  6.05139450e+00, -1.18569917e+00,  7.93028756e+00,\n",
       "       -9.00865875e+00, -7.42371451e-01,  4.38201433e-01,  1.02195149e+00,\n",
       "        3.12641022e+00,  5.47782112e+00, -7.27977537e+00, -2.75769840e+00,\n",
       "        3.68972783e-01, -1.48060449e-01,  3.34077658e+00,  3.12644495e-01,\n",
       "       -4.14121265e-01, -4.40307573e+00,  2.35980878e-01, -1.11382807e+00,\n",
       "        3.42870000e+00,  4.10524796e+00, -2.20870870e-01,  5.61143802e+00,\n",
       "        2.43808654e+00,  7.98598086e+00,  5.11123741e+00, -5.02726382e+00,\n",
       "        4.35325172e+00,  8.42957848e-01,  6.63580934e+00, -1.00614867e+01,\n",
       "       -6.45047046e+00,  4.30806788e+00,  2.63395182e+00,  8.29385313e+00,\n",
       "        8.47096868e-01, -8.45365588e-01,  4.74397891e+00, -4.54817499e+00,\n",
       "       -1.58985181e+00,  3.82023267e-01, -2.42855881e+00, -2.71427734e+00,\n",
       "        2.08925386e+00, -2.16910357e-01,  8.28538003e+00, -8.52594178e-01,\n",
       "        2.34902752e+00, -1.62173456e+00, -5.00106941e+00, -2.92216968e+00,\n",
       "        7.21495629e-02, -8.35477203e+00, -3.73431114e+00,  7.84506255e+00,\n",
       "        8.91338510e+00,  3.70301867e-01,  2.72114246e-01,  1.55687661e+00,\n",
       "       -1.93492892e+00, -1.67021235e+00, -1.46865936e-01,  1.09585949e-01,\n",
       "        2.09966138e-01, -5.73124306e+00,  2.64928388e+00, -5.75571071e+00,\n",
       "        5.99358397e-02, -6.05564073e+00, -5.18829569e+00, -8.01078414e+00,\n",
       "       -2.12875446e+00,  7.38648884e+00,  1.96994445e+00, -6.12459805e+00,\n",
       "       -8.50115350e+00, -7.64407897e+00, -5.14992088e+00, -2.32960415e+00,\n",
       "        1.90015164e+00,  1.39555347e-02,  1.07464661e+00, -2.10702595e+00,\n",
       "       -1.15503648e+00, -4.53305717e+00, -2.09874790e+00, -1.10388369e+00,\n",
       "       -5.80009048e+00, -1.60165032e+00,  8.48995532e+00,  4.96637270e-01,\n",
       "       -2.67879939e+00,  5.50932812e+00,  1.98860546e+00,  6.39866921e-01,\n",
       "        5.07639215e+00,  5.61753292e+00, -1.73969744e+00,  1.77338907e+00,\n",
       "       -4.20125114e+00,  1.18224402e+01, -2.32957012e+00,  5.57530948e+00,\n",
       "       -4.63092634e+00, -2.63474480e+00, -1.80052026e+00,  4.34344644e+00,\n",
       "        6.79533226e+00, -8.95257865e-01,  7.70047037e+00, -5.87155687e+00,\n",
       "       -4.86861041e+00,  8.95274743e-01,  6.99892644e+00, -6.21553753e+00,\n",
       "        1.01085360e+01, -3.39635780e+00, -1.41493625e-01,  6.19892727e-02,\n",
       "       -3.05322405e+00,  3.28868839e+00, -2.91028335e-01, -2.55629060e+00,\n",
       "        2.61859780e+00,  2.24501436e+00,  4.27603602e+00,  6.18316942e-01,\n",
       "       -4.41206019e+00,  8.90991359e+00,  3.22696213e+00, -2.85137365e+00,\n",
       "        6.32989900e+00, -5.91427793e+00,  2.26013698e+00, -4.44773216e-01,\n",
       "        9.23876984e+00, -2.70450866e+00, -2.48292507e+00, -5.82623142e+00,\n",
       "        7.21792397e-01,  2.72149415e+00,  6.89609419e+00, -5.88179978e+00,\n",
       "       -1.06808990e+01, -4.11229194e+00,  7.18098309e+00,  6.51536613e+00,\n",
       "       -4.62102603e+00,  2.14960965e+00, -1.55835057e+00,  7.20778504e+00,\n",
       "       -1.85010828e+00,  3.04787068e-01, -4.08134581e+00,  5.28990470e+00,\n",
       "       -2.79608963e+00,  1.73888550e+00, -5.79758225e+00,  4.33637372e+00,\n",
       "        1.06468691e+01, -5.20562177e+00, -4.80580228e+00, -3.34780217e+00,\n",
       "       -6.93557961e+00,  1.08738142e+00, -1.68042920e+00, -4.97627587e+00,\n",
       "       -1.20461635e+00, -2.77526992e+00, -1.95004577e+00,  3.87787627e+00,\n",
       "        9.92263770e+00, -2.61418669e+00, -7.00017254e+00,  3.35635008e+00,\n",
       "        4.29148414e+00, -5.18675690e+00, -3.90255876e+00, -5.28372332e+00,\n",
       "        1.70502912e+00,  8.75314397e+00,  1.84615992e+00,  9.60642974e-01,\n",
       "        1.61340399e+00, -4.38588844e-01, -8.94334677e+00,  2.15454548e+00,\n",
       "       -1.06668129e+01,  3.06732113e+00,  2.64697948e+00,  3.04287306e+00,\n",
       "        3.53433431e+00, -2.93460630e-01,  8.66639772e+00, -6.05706075e-01,\n",
       "        5.12693285e+00, -1.66141065e+01, -6.22733922e+00,  6.21043200e+00,\n",
       "       -7.56198778e+00, -4.28058892e+00,  4.40017642e+00,  8.33242647e+00,\n",
       "        4.37240270e+00,  1.06188167e+01,  1.53704873e+00,  4.59090135e+00,\n",
       "       -1.70918926e+00,  2.09806632e+00,  1.25200104e+00,  5.68880423e+00,\n",
       "        5.86585218e+00, -1.98718398e+00, -2.74448742e+00,  1.71060803e+00,\n",
       "       -7.85367740e+00, -3.27651946e+00, -4.31269432e+00, -1.99659408e+00,\n",
       "        3.56068327e-01,  2.31811388e+00,  8.57221873e+00, -1.00371686e+00,\n",
       "       -8.60689361e+00, -1.72102382e+00,  5.43010671e-01,  3.39852168e+00,\n",
       "        6.12029564e+00, -1.03293130e+01,  5.57007338e+00, -6.59206844e+00,\n",
       "       -2.68853940e+00,  4.20610186e+00, -1.21554604e+00,  3.90750684e+00,\n",
       "        1.00379425e+01, -8.62414189e+00,  9.74853016e+00,  1.69816764e+00,\n",
       "       -2.22862903e+00,  1.12153461e+01, -3.48538540e+00, -3.61554102e+00,\n",
       "       -1.43470093e-01, -3.74504725e+00,  2.60316624e+00, -4.50041232e-01,\n",
       "       -1.56393371e-01,  1.05008137e+00, -9.24805997e-01,  2.40600985e+00,\n",
       "       -4.84382214e+00, -3.43818066e+00, -2.56014073e+00, -1.96984226e+00,\n",
       "       -3.40914800e+00,  2.07266428e+00, -7.84606752e+00, -7.13394836e+00,\n",
       "       -4.58567624e+00,  4.81688683e+00, -1.05443219e+00,  1.29575527e+01,\n",
       "       -1.78783928e+00,  3.37910572e+00,  3.62126328e-01, -6.49702365e+00,\n",
       "        7.75123864e-01,  4.07996589e+00, -3.28356525e+00, -3.79460703e+00,\n",
       "       -2.79838347e+00, -4.73877343e-01, -9.45375384e+00,  3.20651056e+00,\n",
       "       -8.86405782e+00, -8.72288681e+00,  2.18414944e+00, -3.03199137e+00,\n",
       "       -2.00359355e+00, -2.59061122e+00, -9.30554709e-01, -1.32318950e-01,\n",
       "       -3.37762282e+00,  5.77376156e+00,  3.38905368e+00,  4.58675197e+00,\n",
       "        3.94419424e+00, -4.14011966e+00,  4.80839943e+00, -1.29167620e+01,\n",
       "       -4.15254721e-01,  1.76543376e+00, -3.42947037e+00, -3.21793726e+00,\n",
       "        3.77959477e+00, -4.92523360e+00, -5.69830865e+00,  4.40284068e+00,\n",
       "       -2.50246738e-01, -1.25628920e+00,  1.94762512e-01, -1.46211905e+00,\n",
       "       -4.78393997e+00,  1.14300053e+00, -9.51498411e+00, -3.96064508e+00,\n",
       "       -9.10958629e+00, -2.90470869e+00, -7.68626863e+00,  7.54918895e+00,\n",
       "       -4.78866070e-03,  2.15548034e+00, -4.48744433e+00, -5.92336770e+00,\n",
       "        3.77438187e+00, -6.76303894e-01, -1.36635971e+00,  2.88004514e+00,\n",
       "        9.21076441e-01,  1.12492733e+00, -3.73614538e+00,  5.71439606e+00,\n",
       "        5.11172957e+00, -6.06308235e+00, -3.35642230e+00, -5.54435585e+00,\n",
       "       -9.23207958e+00,  8.95158642e-01,  1.04187667e+01,  5.60966059e+00,\n",
       "       -5.52735457e+00, -4.22445843e+00,  3.50593062e+00, -2.30119565e+00,\n",
       "       -1.02495261e-01,  3.27087377e-01, -2.33939026e+00, -3.45301544e+00,\n",
       "       -1.82284186e+00,  7.55484330e+00,  2.78746256e+00,  4.09927251e+00,\n",
       "       -4.13285902e+00,  4.57168609e+00,  2.08559562e+00, -6.39594208e-01,\n",
       "       -5.47979856e+00, -3.20445618e+00, -6.40217669e+00, -2.42050049e+00,\n",
       "       -1.02008823e+01, -7.58591106e+00, -2.09503429e+00,  5.82606445e+00,\n",
       "       -4.40484409e-01,  2.72052182e-01, -7.93244698e+00,  4.73117286e+00,\n",
       "       -1.48570135e+01,  5.30947857e+00, -5.05294862e+00, -3.97335476e+00,\n",
       "       -7.87143273e+00, -8.72328002e+00,  4.82250574e+00, -1.96379616e+01,\n",
       "        7.91724774e+00,  4.89094610e+00, -8.14249608e+00,  6.91330671e-01,\n",
       "        4.54170214e+00, -7.56497881e+00, -5.43633440e+00,  2.44214209e+00,\n",
       "       -6.17547144e+00,  4.66729092e-01,  1.03564895e+00,  2.11017584e-01,\n",
       "       -2.46784756e+00,  5.05924458e+00, -5.22396734e+00,  3.30348845e+00,\n",
       "       -2.68046865e+00, -8.59900196e+00,  1.01794834e+01, -4.77648227e+00,\n",
       "       -2.45560694e+00,  1.30205835e+00, -3.72487989e+00, -3.35781123e+00,\n",
       "        5.75383830e+00, -2.24198762e+00,  1.86421689e+00, -3.89480811e+00,\n",
       "        5.14979507e+00, -6.38162296e-01, -5.46444503e+00, -3.22952396e+00,\n",
       "        5.29863289e-01, -8.38869150e-01, -2.39375175e-01, -1.27763678e+01,\n",
       "       -3.86787388e+00, -2.38998750e+00, -4.59312861e+00, -4.96382190e+00,\n",
       "       -1.61662421e+00,  5.07208586e+00, -1.54807768e+00,  2.04057149e+00,\n",
       "       -3.89556685e+00, -3.15351070e+00,  4.84624561e+00,  2.47277862e+00,\n",
       "        1.44031246e+01, -1.58225086e-01, -5.84838727e+00, -7.15203910e+00,\n",
       "        4.65048598e-01,  4.11319563e+00,  2.12335536e+00, -4.94293001e+00,\n",
       "        8.74874735e+00,  1.31776142e+01, -3.02691426e+00, -4.26933731e+00,\n",
       "        4.71561773e+00,  6.97601091e+00, -1.08955468e+01, -1.70035489e+00,\n",
       "       -5.28656803e+00,  7.46556077e+00,  1.04464028e+01,  4.59626516e+00,\n",
       "        7.08186373e+00, -1.14184783e+00,  3.91119658e+00, -6.62690147e+00,\n",
       "        5.46175113e+00, -1.46632032e+00,  1.55139398e+00,  5.91764829e+00,\n",
       "        1.42087594e+00, -3.48897432e+00, -5.22242713e+00, -7.03724941e-02,\n",
       "       -5.97120982e+00, -3.37181404e+00, -1.27382700e+00, -8.18965306e+00,\n",
       "        1.23812482e+01, -7.78678601e+00, -3.05609018e+00,  7.08798458e+00,\n",
       "       -8.29650986e-01, -1.68201502e+00, -1.13783078e+00, -6.62982597e+00,\n",
       "        1.00372857e+01, -1.01872562e+01,  1.06881878e+01, -3.70994396e+00,\n",
       "       -1.39613598e+00,  5.21516969e+00, -1.34814183e+00,  1.15062744e+01,\n",
       "       -3.05230186e+00, -8.26735397e+00, -7.96714119e-01,  1.36760675e+00,\n",
       "       -3.03612507e+00,  8.99886832e+00, -2.05575279e+01, -5.44829584e-01,\n",
       "       -5.18549567e+00,  8.20380484e+00, -3.70003290e+00, -7.29290238e+00,\n",
       "       -5.00678543e+00,  7.23689721e+00,  3.14212988e-03, -1.71468555e+00,\n",
       "        2.65890074e+00,  2.53982459e+00,  1.73239210e+00, -2.73135578e+00,\n",
       "       -1.72058279e+00,  1.49353719e+00, -5.89124211e+00, -4.47371527e+00,\n",
       "        2.86656467e+00,  9.00343547e-01,  1.30849191e+00, -1.48112152e+00,\n",
       "        2.66606153e+00, -5.10356394e+00,  3.25152844e+00, -2.10716514e-01,\n",
       "        2.05151723e-01, -4.15040238e+00,  3.96792351e+00, -6.27305862e+00,\n",
       "        1.56976850e+00, -2.80188168e+00,  5.13231149e-01,  4.81235527e+00,\n",
       "       -1.14430087e+01, -5.22160977e-01, -5.45662611e+00, -7.73818776e+00,\n",
       "        5.72377563e+00, -1.34016950e+00, -3.10433766e+00, -1.20047994e+00,\n",
       "       -4.70421247e+00, -6.39591406e+00, -2.16277682e-01, -4.86288144e+00,\n",
       "       -3.40613650e+00,  5.87339155e+00,  3.67484860e+00,  3.45610872e+00,\n",
       "        1.04214942e+01, -1.02635410e+00, -3.49842212e+00,  7.51099689e+00,\n",
       "        4.29242309e+00, -2.14930658e-01,  7.19219004e+00, -6.52377238e-01,\n",
       "       -7.41636433e+00,  5.58461416e+00,  3.70504341e+00,  1.79969541e+00,\n",
       "       -3.07207354e+00,  1.14584605e+01,  1.78416628e+00, -6.64388561e+00,\n",
       "        3.44487560e+00, -2.47653222e+00, -4.00520014e+00, -1.88164051e+00,\n",
       "       -2.00670896e+00, -1.21361521e+01, -4.92934222e+00, -6.51194430e+00,\n",
       "        1.94560970e+00,  7.36224778e+00, -7.06108224e+00, -3.40346881e+00,\n",
       "        4.69771853e+00,  7.27703570e+00,  5.31342485e-01,  3.39702000e+00,\n",
       "        5.47781910e-01, -1.68604757e+00, -2.87736270e+00,  3.34406894e+00,\n",
       "        3.04643970e-01, -1.82852726e+00, -5.62752618e+00, -8.81837592e+00,\n",
       "       -4.11362384e+00,  3.33741360e+00,  2.73601034e+00, -1.07419191e-01,\n",
       "        1.25826925e+01,  5.95580874e-01,  1.52607672e-01,  1.52641630e-01,\n",
       "        6.84249003e+00,  2.67766002e+00,  4.47451601e+00, -1.80710483e+00,\n",
       "       -1.31523674e+00,  2.18355885e+00,  3.23876938e-01, -1.24235007e+00,\n",
       "        2.15422056e+00, -4.17754848e+00, -8.32023758e-01,  1.80421891e+00,\n",
       "       -5.86106212e+00, -2.00969253e+00, -1.31086185e+00,  1.10868106e+01,\n",
       "       -1.14368408e+00,  2.35056271e+00,  3.66232878e-01, -8.08392528e-01,\n",
       "       -1.61799090e+00, -6.23608368e-01,  5.57637305e+00,  2.39416296e-01,\n",
       "        4.93447758e+00, -7.33918922e+00, -3.13009426e+00, -1.54848968e+00,\n",
       "       -6.11593147e+00, -1.02765092e+00, -8.67384465e-01,  4.89726537e+00,\n",
       "        3.83234823e+00,  3.68999239e+00, -1.57296733e+01, -2.41791335e+00,\n",
       "       -5.25922015e+00,  4.59867121e+00,  2.73899076e+00,  3.20991774e+00,\n",
       "        1.22568699e+01, -2.44599230e-01,  2.03805200e-01,  5.03413541e+00,\n",
       "       -6.01129293e+00,  4.00730067e+00, -2.88820339e+00,  3.52015811e+00,\n",
       "        9.14993391e-01,  2.20672370e+00,  5.11864059e-01, -1.98758312e+00,\n",
       "       -3.46159004e+00,  5.26151942e+00, -1.29372783e+00, -3.36944781e+00,\n",
       "        8.64252223e+00,  3.72410188e+00, -5.48669250e+00,  1.31798006e+01,\n",
       "       -7.91360118e+00, -3.13223080e+00, -7.01739384e+00,  7.67791994e-01,\n",
       "        7.83334845e+00,  1.98013451e+00, -4.14244272e+00, -5.82020325e+00])"
      ]
     },
     "execution_count": 44,
     "metadata": {},
     "output_type": "execute_result"
    }
   ],
   "source": [
    "norm = np.random.normal(0 , 5 , 1000) #meu , sigma , size\n",
    "norm"
   ]
  },
  {
   "cell_type": "code",
   "execution_count": 46,
   "id": "f2c02341",
   "metadata": {},
   "outputs": [
    {
     "data": {
      "image/png": "[encoded data removed]",
      "text/plain": [
       "<Figure size 640x480 with 1 Axes>"
      ]
     },
     "metadata": {},
     "output_type": "display_data"
    }
   ],
   "source": [
    "plt.hist(x = norm ,color = 'red' , bins = 100)\n",
    "plt.show()"
   ]
  },
  {
   "cell_type": "code",
   "execution_count": 47,
   "id": "48e12610",
   "metadata": {},
   "outputs": [
    {
     "data": {
      "text/plain": [
       "-0.34141495926531684"
      ]
     },
     "execution_count": 47,
     "metadata": {},
     "output_type": "execute_result"
    }
   ],
   "source": [
    "norm.mean()"
   ]
  },
  {
   "cell_type": "code",
   "execution_count": 48,
   "id": "8153d0c9",
   "metadata": {},
   "outputs": [
    {
     "data": {
      "text/plain": [
       "5.1557698704756545"
      ]
     },
     "execution_count": 48,
     "metadata": {},
     "output_type": "execute_result"
    }
   ],
   "source": [
    "norm.std()"
   ]
  },
  {
   "cell_type": "code",
   "execution_count": 49,
   "id": "3d8c3432",
   "metadata": {},
   "outputs": [
    {
     "data": {
      "text/plain": [
       "15.799212723335675"
      ]
     },
     "execution_count": 49,
     "metadata": {},
     "output_type": "execute_result"
    }
   ],
   "source": [
    "norm.max()"
   ]
  },
  {
   "cell_type": "code",
   "execution_count": 50,
   "id": "cd69ccd1",
   "metadata": {},
   "outputs": [
    {
     "data": {
      "text/plain": [
       "-20.55752785182658"
      ]
     },
     "execution_count": 50,
     "metadata": {},
     "output_type": "execute_result"
    }
   ],
   "source": [
    "norm.min()"
   ]
  },
  {
   "cell_type": "code",
   "execution_count": 51,
   "id": "1a8d7255",
   "metadata": {},
   "outputs": [
    {
     "data": {
      "text/plain": [
       "26.581962957304548"
      ]
     },
     "execution_count": 51,
     "metadata": {},
     "output_type": "execute_result"
    }
   ],
   "source": [
    "norm.var()"
   ]
  },
  {
   "cell_type": "code",
   "execution_count": 1,
   "id": "c916345b",
   "metadata": {},
   "outputs": [],
   "source": [
    "class StandardScalar:\n",
    "    def __init__(self, ):\n",
    "        self.mean = None\n",
    "        self.std = None\n",
    "    def fit(self , data):\n",
    "        self.mean = data.mean()\n",
    "        self.std = data.std()\n",
    "    def Transform(self , data ):\n",
    "        return (data - self.mean) / self.std\n",
    "    def fit_transfrom(self , data):\n",
    "        self.fit = data\n",
    "        return self.transform"
   ]
  },
  {
   "cell_type": "code",
   "execution_count": 56,
   "id": "384a3526",
   "metadata": {},
   "outputs": [],
   "source": [
    "scalar = StandardScalar()"
   ]
  },
  {
   "cell_type": "code",
   "execution_count": 57,
   "id": "225ebe3a",
   "metadata": {},
   "outputs": [],
   "source": [
    "scalar.fit(norm)"
   ]
  },
  {
   "cell_type": "code",
   "execution_count": 58,
   "id": "bb5a6d4a",
   "metadata": {},
   "outputs": [],
   "source": [
    "scaled_norm = scalar.Transform(norm)"
   ]
  },
  {
   "cell_type": "code",
   "execution_count": 59,
   "id": "6af95d4c",
   "metadata": {},
   "outputs": [
    {
     "data": {
      "text/plain": [
       "array([-2.33284294,  3.7205267 , -5.54914331,  4.19853649, -2.30610293,\n",
       "       -0.84969787, -0.58886403, -9.68692641,  4.5913264 ,  2.33869963])"
      ]
     },
     "execution_count": 59,
     "metadata": {},
     "output_type": "execute_result"
    }
   ],
   "source": [
    "norm[:10]"
   ]
  },
  {
   "cell_type": "code",
   "execution_count": 60,
   "id": "ae8be962",
   "metadata": {},
   "outputs": [
    {
     "data": {
      "text/plain": [
       "array([-0.3862523 ,  0.78784386, -1.01007773,  0.88055743, -0.38106588,\n",
       "       -0.09858526, -0.04799459, -1.81263161,  0.95674196,  0.5198282 ])"
      ]
     },
     "execution_count": 60,
     "metadata": {},
     "output_type": "execute_result"
    }
   ],
   "source": [
    "scaled_norm[:10]"
   ]
  },
  {
   "cell_type": "code",
   "execution_count": 61,
   "id": "c8fd0119",
   "metadata": {},
   "outputs": [
    {
     "data": {
      "image/png": "[encoded data removed]",
      "text/plain": [
       "<Figure size 640x480 with 1 Axes>"
      ]
     },
     "metadata": {},
     "output_type": "display_data"
    }
   ],
   "source": [
    "plt.hist(x = norm ,color = 'red' , bins = 100)\n",
    "plt.show()"
   ]
  },
  {
   "cell_type": "code",
   "execution_count": 64,
   "id": "42366c8f",
   "metadata": {},
   "outputs": [
    {
     "data": {
      "image/png": "[encoded data removed]",
      "text/plain": [
       "<Figure size 640x480 with 1 Axes>"
      ]
     },
     "metadata": {},
     "output_type": "display_data"
    }
   ],
   "source": [
    "plt.hist(x = scaled_norm , bins  = 100  , color = 'purple')\n",
    "plt.show()"
   ]
  },
  {
   "cell_type": "code",
   "execution_count": 66,
   "id": "155f1ec1",
   "metadata": {},
   "outputs": [],
   "source": [
    "from scipy.stats import skew , kurtosis , mode"
   ]
  },
  {
   "cell_type": "code",
   "execution_count": 67,
   "id": "a87eb845",
   "metadata": {},
   "outputs": [],
   "source": [
    "# !pip install scipy"
   ]
  },
  {
   "cell_type": "code",
   "execution_count": 68,
   "id": "e819090d",
   "metadata": {},
   "outputs": [
    {
     "data": {
      "text/plain": [
       "0.011265548260954467"
      ]
     },
     "execution_count": 68,
     "metadata": {},
     "output_type": "execute_result"
    }
   ],
   "source": [
    "skew(norm)"
   ]
  },
  {
   "cell_type": "code",
   "execution_count": 69,
   "id": "2debb3d5",
   "metadata": {},
   "outputs": [
    {
     "data": {
      "text/plain": [
       "0.011265548260954512"
      ]
     },
     "execution_count": 69,
     "metadata": {},
     "output_type": "execute_result"
    }
   ],
   "source": [
    "skew(scaled_norm)"
   ]
  },
  {
   "cell_type": "code",
   "execution_count": 70,
   "id": "720b44a4",
   "metadata": {},
   "outputs": [
    {
     "data": {
      "text/plain": [
       "0.23983776229000675"
      ]
     },
     "execution_count": 70,
     "metadata": {},
     "output_type": "execute_result"
    }
   ],
   "source": [
    "kurtosis(scaled_norm)"
   ]
  },
  {
   "cell_type": "code",
   "execution_count": 71,
   "id": "7668cf50",
   "metadata": {},
   "outputs": [
    {
     "data": {
      "text/plain": [
       "0.23983776229000853"
      ]
     },
     "execution_count": 71,
     "metadata": {},
     "output_type": "execute_result"
    }
   ],
   "source": [
    "kurtosis(norm)"
   ]
  },
  {
   "cell_type": "code",
   "execution_count": 72,
   "id": "d49e9e7c",
   "metadata": {},
   "outputs": [
    {
     "data": {
      "text/plain": [
       "5.1557698704756545"
      ]
     },
     "execution_count": 72,
     "metadata": {},
     "output_type": "execute_result"
    }
   ],
   "source": [
    "norm.std()"
   ]
  },
  {
   "cell_type": "code",
   "execution_count": 73,
   "id": "82e205df",
   "metadata": {},
   "outputs": [
    {
     "data": {
      "text/plain": [
       "1.0"
      ]
     },
     "execution_count": 73,
     "metadata": {},
     "output_type": "execute_result"
    }
   ],
   "source": [
    "scaled_norm.std()"
   ]
  },
  {
   "cell_type": "code",
   "execution_count": 75,
   "id": "811e2425",
   "metadata": {},
   "outputs": [],
   "source": [
    "meu = np.array([3 , 2]) #3 is mean for x-aixs and 2 is for y-axis\n",
    "sigma = np.array([\n",
    "    [10  ,0], # 10 is std for x-axis\n",
    "    [0 , 1] # 1 is std for y-axis\n",
    "])"
   ]
  },
  {
   "cell_type": "code",
   "execution_count": 77,
   "id": "89f43c67",
   "metadata": {},
   "outputs": [],
   "source": [
    "multi_norm = np.random.multivariate_normal(meu , sigma , 1000)"
   ]
  },
  {
   "cell_type": "code",
   "execution_count": 78,
   "id": "91a0c5e3",
   "metadata": {},
   "outputs": [
    {
     "data": {
      "text/plain": [
       "array([[ 0.04035627,  1.64700746],\n",
       "       [ 1.63486603,  3.07047536],\n",
       "       [ 6.8525177 ,  0.87296425],\n",
       "       ...,\n",
       "       [-0.17249707,  2.77778935],\n",
       "       [ 2.39380707,  1.4970997 ],\n",
       "       [ 7.1726488 ,  1.68194723]])"
      ]
     },
     "execution_count": 78,
     "metadata": {},
     "output_type": "execute_result"
    }
   ],
   "source": [
    "multi_norm"
   ]
  },
  {
   "cell_type": "code",
   "execution_count": 79,
   "id": "7454c021",
   "metadata": {},
   "outputs": [
    {
     "data": {
      "text/plain": [
       "array([4.44033164, 2.36681232])"
      ]
     },
     "execution_count": 79,
     "metadata": {},
     "output_type": "execute_result"
    }
   ],
   "source": [
    "multi_norm[220]"
   ]
  },
  {
   "cell_type": "code",
   "execution_count": 80,
   "id": "f2fd0112",
   "metadata": {},
   "outputs": [],
   "source": [
    "x = multi_norm[: , 0]\n",
    "y = multi_norm[: ,  1]"
   ]
  },
  {
   "cell_type": "code",
   "execution_count": 81,
   "id": "e13f09b4",
   "metadata": {},
   "outputs": [
    {
     "data": {
      "image/png": "[encoded data removed]",
      "text/plain": [
       "<Figure size 640x480 with 1 Axes>"
      ]
     },
     "metadata": {},
     "output_type": "display_data"
    }
   ],
   "source": [
    "plt.scatter(x , y)\n",
    "plt.show()"
   ]
  },
  {
   "cell_type": "code",
   "execution_count": null,
   "id": "79f85604",
   "metadata": {},
   "outputs": [],
   "source": []
  }
 ],
 "metadata": {
  "kernelspec": {
   "display_name": "Python 3 (ipykernel)",
   "language": "python",
   "name": "python3"
  },
  "language_info": {
   "codemirror_mode": {
    "name": "ipython",
    "version": 3
   },
   "file_extension": ".py",
   "mimetype": "text/x-python",
   "name": "python",
   "nbconvert_exporter": "python",
   "pygments_lexer": "ipython3",
   "version": "3.11.3"
  }
 },
 "nbformat": 4,
 "nbformat_minor": 5
}
