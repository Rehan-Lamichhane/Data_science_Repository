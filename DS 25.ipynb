{
 "cells": [
  {
   "cell_type": "markdown",
   "id": "042627ec-e43b-454c-b7b1-e168caf06d86",
   "metadata": {},
   "source": [
    "# Generative Adversarial Network\n",
    "(GAN)"
   ]
  },
  {
   "cell_type": "code",
   "execution_count": 1,
   "id": "3fc5a1e2-ea1e-49c8-aac3-8c309f019553",
   "metadata": {},
   "outputs": [],
   "source": [
    "import numpy as np\n",
    "import matplotlib.pyplot as plt"
   ]
  },
  {
   "cell_type": "code",
   "execution_count": 2,
   "id": "57696669-d632-4ed4-97b5-128b25502505",
   "metadata": {},
   "outputs": [],
   "source": [
    "import tqdm"
   ]
  },
  {
   "cell_type": "code",
   "execution_count": 3,
   "id": "bf2e11e8-8b37-43ce-9c00-7bef17f82486",
   "metadata": {},
   "outputs": [],
   "source": [
    "from keras.models import Sequential, Model\n",
    "from keras.layers import Dense, Input, BatchNormalization, Dropout\n",
    "from keras.layers import Conv2D, Flatten, MaxPooling2D, Reshape\n",
    "\n",
    "from keras.optimizers import Adam"
   ]
  },
  {
   "cell_type": "code",
   "execution_count": 4,
   "id": "e9124ca8-b906-493a-989c-43b0c4a98812",
   "metadata": {},
   "outputs": [],
   "source": [
    "from keras.datasets import mnist"
   ]
  },
  {
   "cell_type": "code",
   "execution_count": 5,
   "id": "c2fe0192-27ab-4647-ae82-b4ddcfedc692",
   "metadata": {},
   "outputs": [],
   "source": [
    "discriminator = Sequential()\n",
    "\n",
    "discriminator.add(Conv2D(filters=3, kernel_size=(3, 3), strides=(1, 1), activation='relu', input_shape=(28, 28, 1)))\n",
    "discriminator.add(Dropout(0.2))\n",
    "discriminator.add(MaxPooling2D())\n",
    "\n",
    "discriminator.add(Conv2D(filters=6, kernel_size=(3, 3), strides=(1, 1), activation='relu',))\n",
    "discriminator.add(Dropout(0.2))\n",
    "discriminator.add(MaxPooling2D())\n",
    "\n",
    "discriminator.add(Conv2D(filters=12, kernel_size=(3, 3), strides=(1, 1), activation='relu',))\n",
    "discriminator.add(Dropout(0.2))\n",
    "\n",
    "discriminator.add(Conv2D(filters=24, kernel_size=(3, 3), strides=(1, 1), activation='relu',))\n",
    "discriminator.add(Dropout(0.2))\n",
    "\n",
    "discriminator.add(Flatten())\n",
    "\n",
    "discriminator.add(Dense(units=64, activation='relu'))\n",
    "discriminator.add(Dropout(0.2))\n",
    "discriminator.add(Dense(units=1, activation='softmax'))\n",
    "\n",
    "discriminator.compile(loss='binary_crossentropy', optimizer=Adam(learning_rate=1e-4), metrics=['acc'])"
   ]
  },
  {
   "cell_type": "code",
   "execution_count": 6,
   "id": "15b390a9-fc98-4ea6-85e5-3f3f0a055935",
   "metadata": {},
   "outputs": [],
   "source": [
    "noise_dim = 100"
   ]
  },
  {
   "cell_type": "code",
   "execution_count": 7,
   "id": "2ef1ba07-3145-4281-9ef0-f4071d2d37ce",
   "metadata": {},
   "outputs": [
    {
     "name": "stdout",
     "output_type": "stream",
     "text": [
      "Model: \"sequential_1\"\n",
      "_________________________________________________________________\n",
      " Layer (type)                Output Shape              Param #   \n",
      "=================================================================\n",
      " dense_2 (Dense)             (None, 128)               12928     \n",
      "                                                                 \n",
      " batch_normalization (Batch  (None, 128)               512       \n",
      " Normalization)                                                  \n",
      "                                                                 \n",
      " dropout_5 (Dropout)         (None, 128)               0         \n",
      "                                                                 \n",
      " dense_3 (Dense)             (None, 256)               33024     \n",
      "                                                                 \n",
      " batch_normalization_1 (Bat  (None, 256)               1024      \n",
      " chNormalization)                                                \n",
      "                                                                 \n",
      " dropout_6 (Dropout)         (None, 256)               0         \n",
      "                                                                 \n",
      " dense_4 (Dense)             (None, 512)               131584    \n",
      "                                                                 \n",
      " batch_normalization_2 (Bat  (None, 512)               2048      \n",
      " chNormalization)                                                \n",
      "                                                                 \n",
      " dropout_7 (Dropout)         (None, 512)               0         \n",
      "                                                                 \n",
      " dense_5 (Dense)             (None, 784)               402192    \n",
      "                                                                 \n",
      "=================================================================\n",
      "Total params: 583312 (2.23 MB)\n",
      "Trainable params: 581520 (2.22 MB)\n",
      "Non-trainable params: 1792 (7.00 KB)\n",
      "_________________________________________________________________\n"
     ]
    }
   ],
   "source": [
    "generator = Sequential()\n",
    "\n",
    "generator.add(Dense(units=128, activation='relu', input_dim=noise_dim))\n",
    "generator.add(BatchNormalization())\n",
    "generator.add(Dropout(0.2))\n",
    "\n",
    "generator.add(Dense(units=256, activation='relu'))\n",
    "generator.add(BatchNormalization())\n",
    "generator.add(Dropout(0.2))\n",
    "\n",
    "generator.add(Dense(units=512, activation='relu'))\n",
    "generator.add(BatchNormalization())\n",
    "generator.add(Dropout(0.2))\n",
    "\n",
    "generator.add(Dense(units=784, activation='relu'))\n",
    "generator.compile(loss='mae', optimizer='adam')\n",
    "\n",
    "generator.summary()"
   ]
  },
  {
   "cell_type": "code",
   "execution_count": 8,
   "id": "29ec6c45-9ce0-4cad-ba60-0fd35d661755",
   "metadata": {},
   "outputs": [
    {
     "name": "stdout",
     "output_type": "stream",
     "text": [
      "Model: \"sequential\"\n",
      "_________________________________________________________________\n",
      " Layer (type)                Output Shape              Param #   \n",
      "=================================================================\n",
      " conv2d (Conv2D)             (None, 26, 26, 3)         30        \n",
      "                                                                 \n",
      " dropout (Dropout)           (None, 26, 26, 3)         0         \n",
      "                                                                 \n",
      " max_pooling2d (MaxPooling2  (None, 13, 13, 3)         0         \n",
      " D)                                                              \n",
      "                                                                 \n",
      " conv2d_1 (Conv2D)           (None, 11, 11, 6)         168       \n",
      "                                                                 \n",
      " dropout_1 (Dropout)         (None, 11, 11, 6)         0         \n",
      "                                                                 \n",
      " max_pooling2d_1 (MaxPoolin  (None, 5, 5, 6)           0         \n",
      " g2D)                                                            \n",
      "                                                                 \n",
      " conv2d_2 (Conv2D)           (None, 3, 3, 12)          660       \n",
      "                                                                 \n",
      " dropout_2 (Dropout)         (None, 3, 3, 12)          0         \n",
      "                                                                 \n",
      " conv2d_3 (Conv2D)           (None, 1, 1, 24)          2616      \n",
      "                                                                 \n",
      " dropout_3 (Dropout)         (None, 1, 1, 24)          0         \n",
      "                                                                 \n",
      " flatten (Flatten)           (None, 24)                0         \n",
      "                                                                 \n",
      " dense (Dense)               (None, 64)                1600      \n",
      "                                                                 \n",
      " dropout_4 (Dropout)         (None, 64)                0         \n",
      "                                                                 \n",
      " dense_1 (Dense)             (None, 1)                 65        \n",
      "                                                                 \n",
      "=================================================================\n",
      "Total params: 5139 (20.07 KB)\n",
      "Trainable params: 5139 (20.07 KB)\n",
      "Non-trainable params: 0 (0.00 Byte)\n",
      "_________________________________________________________________\n"
     ]
    }
   ],
   "source": [
    "discriminator.summary()"
   ]
  },
  {
   "cell_type": "code",
   "execution_count": 9,
   "id": "1f280a29-42e8-4e80-b8e7-cb6e983c0f59",
   "metadata": {},
   "outputs": [
    {
     "name": "stdout",
     "output_type": "stream",
     "text": [
      "Model: \"sequential_2\"\n",
      "_________________________________________________________________\n",
      " Layer (type)                Output Shape              Param #   \n",
      "=================================================================\n",
      " sequential_1 (Sequential)   (None, 784)               583312    \n",
      "                                                                 \n",
      " reshape (Reshape)           (None, 28, 28, 1)         0         \n",
      "                                                                 \n",
      " sequential (Sequential)     (None, 1)                 5139      \n",
      "                                                                 \n",
      "=================================================================\n",
      "Total params: 588451 (2.24 MB)\n",
      "Trainable params: 581520 (2.22 MB)\n",
      "Non-trainable params: 6931 (27.07 KB)\n",
      "_________________________________________________________________\n"
     ]
    }
   ],
   "source": [
    "discriminator.trainable = False\n",
    "gan = Sequential()\n",
    "\n",
    "gan.add(generator)\n",
    "gan.add(Reshape(target_shape=(28, 28, 1)))\n",
    "gan.add(discriminator)\n",
    "\n",
    "gan.compile(loss='binary_crossentropy', optimizer=Adam(1e-4))\n",
    "\n",
    "gan.summary()"
   ]
  },
  {
   "cell_type": "code",
   "execution_count": 16,
   "id": "797cd208-60ea-4fe7-a11d-cb0e90d18e4d",
   "metadata": {},
   "outputs": [],
   "source": [
    "def plot_loss(losses):\n",
    "    d_losses = [v for v in losses['D']]\n",
    "    g_losses = [v for v in losses['G']]\n",
    "    plt.figure(figsize=(10, 8))\n",
    "    plt.plot(d_losses, label='Discriminator Loss', c='g')\n",
    "    plt.plot(g_losses, label='Generator Loss', c='b')\n",
    "    plt.xlabel('Epochs')\n",
    "    plt.ylabel('Loss')\n",
    "    plt.legend()\n",
    "    plt.show()\n",
    "\n",
    "def plot_generated(n_ex=10, dim=(1, 10), figsize=(12, 2)):\n",
    "    noise = np.random.normal(0, 1, size=(n_ex, noise_dim))\n",
    "    generated_images = generator.predict(noise)\n",
    "    generated_images = generated_images.reshape(n_ex, 28, 28)\n",
    "    plt.figure(figsize=figsize)\n",
    "    for i in range(generated_images.shape[0]):\n",
    "        plt.subplot(dim[0], dim[1], i+1)\n",
    "        plt.imshow(generated_images[i], cmap='gray_r')\n",
    "        plt.axis('off')\n",
    "    plt.tight_layout()\n",
    "    plt.show()"
   ]
  },
  {
   "cell_type": "code",
   "execution_count": 17,
   "id": "8e6bd505-a16c-4f38-990b-2a0e4e5b6b9f",
   "metadata": {},
   "outputs": [
    {
     "name": "stdout",
     "output_type": "stream",
     "text": [
      "1/1 [==============================] - 0s 21ms/step\n"
     ]
    },
    {
     "data": {
      "image/png": "[encoded data removed]",
      "text/plain": [
       "<Figure size 1200x200 with 10 Axes>"
      ]
     },
     "metadata": {},
     "output_type": "display_data"
    }
   ],
   "source": [
    "plot_generated()"
   ]
  },
  {
   "cell_type": "code",
   "execution_count": null,
   "id": "10a6f437-bb13-49f9-a91b-80bdb8f56b6c",
   "metadata": {},
   "outputs": [],
   "source": []
  }
 ],
 "metadata": {
  "kernelspec": {
   "display_name": "Python 3 (ipykernel)",
   "language": "python",
   "name": "python3"
  },
  "language_info": {
   "codemirror_mode": {
    "name": "ipython",
    "version": 3
   },
   "file_extension": ".py",
   "mimetype": "text/x-python",
   "name": "python",
   "nbconvert_exporter": "python",
   "pygments_lexer": "ipython3",
   "version": "3.10.11"
  }
 },
 "nbformat": 4,
 "nbformat_minor": 5
}
