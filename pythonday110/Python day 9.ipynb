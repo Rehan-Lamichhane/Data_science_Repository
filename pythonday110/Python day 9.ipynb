{
 "cells": [
  {
   "cell_type": "markdown",
   "id": "b2e04b6a",
   "metadata": {},
   "source": [
    "**Inheritance**"
   ]
  },
  {
   "cell_type": "code",
   "execution_count": 1,
   "id": "a24a520f",
   "metadata": {},
   "outputs": [],
   "source": [
    "class Person:\n",
    "    def __init__(self , fname , lname , age ,):\n",
    "        self.fname = fname\n",
    "        self.lname = lname\n",
    "        self.age = age\n",
    "        \n",
    "    def info(self , ):\n",
    "        message = f'Hello I am {self.fname} {self.lname} . I am {self.age} years old'\n",
    "        print (message)"
   ]
  },
  {
   "cell_type": "code",
   "execution_count": 12,
   "id": "b862594a",
   "metadata": {},
   "outputs": [],
   "source": [
    "class Student(Person):\n",
    "    def __init__(self , fname , lname , age , degree , grad_year ):\n",
    "        self.degree = degree\n",
    "        self.grad_year = grad_year\n",
    "        super().__init__(fname , lname , age)#Way 1\n",
    "        #Person(fname , lname , age)#way 2\n",
    "        \n",
    "    def info(self , ):\n",
    "        message = f'''Hello I am {self.fname} {self.lname} . I am {self.age} years old\n",
    "        I have {self.degree}. I graduated on {self.grad_year}\n",
    "        '''\n",
    "        \n",
    "        print(message)"
   ]
  },
  {
   "cell_type": "code",
   "execution_count": 13,
   "id": "ddbbce4b",
   "metadata": {},
   "outputs": [],
   "source": [
    "student_1 = Student('Ghana' , 'Shyam' , 45 , 'MSc' , 2002)"
   ]
  },
  {
   "cell_type": "code",
   "execution_count": 14,
   "id": "fa8028ec",
   "metadata": {},
   "outputs": [
    {
     "data": {
      "text/plain": [
       "'MSc'"
      ]
     },
     "execution_count": 14,
     "metadata": {},
     "output_type": "execute_result"
    }
   ],
   "source": [
    "student_1.degree"
   ]
  },
  {
   "cell_type": "code",
   "execution_count": 15,
   "id": "fa5cfb82",
   "metadata": {},
   "outputs": [
    {
     "data": {
      "text/plain": [
       "'Ghana'"
      ]
     },
     "execution_count": 15,
     "metadata": {},
     "output_type": "execute_result"
    }
   ],
   "source": [
    "student_1.fname"
   ]
  },
  {
   "cell_type": "code",
   "execution_count": 16,
   "id": "251b6e96",
   "metadata": {},
   "outputs": [
    {
     "data": {
      "text/plain": [
       "45"
      ]
     },
     "execution_count": 16,
     "metadata": {},
     "output_type": "execute_result"
    }
   ],
   "source": [
    "student_1.age"
   ]
  },
  {
   "cell_type": "code",
   "execution_count": 17,
   "id": "9ad1d06d",
   "metadata": {},
   "outputs": [
    {
     "name": "stdout",
     "output_type": "stream",
     "text": [
      "Hello I am Ghana Shyam . I am 45 years old\n",
      "        I have MSc. I graduated on 2002\n",
      "        \n"
     ]
    }
   ],
   "source": [
    "student_1.info()"
   ]
  },
  {
   "cell_type": "code",
   "execution_count": 24,
   "id": "e9f2881f",
   "metadata": {},
   "outputs": [],
   "source": [
    "class SimpleCalc():\n",
    "    def __init__(self , a , b):\n",
    "        self.a = a\n",
    "        self.b = b\n",
    "        \n",
    "    def addition(self,):\n",
    "        print(f'{self.a} + {self.b} = {self.a + self.b}')\n",
    "    def subtraction(self,):\n",
    "        print(f'{self.a} - {self.b} = {self.a - self.b}')\n",
    "    def multiply(self,):\n",
    "        print(f'{self.a} x {self.b} = {self.a * self.b}')\n",
    "    def division(self,):\n",
    "        try:\n",
    "            print(f'{self.a} / {self.b} = {self.a / self.b}')\n",
    "        except ZeroDivisionError:\n",
    "            print('Cannot divide by zero')"
   ]
  },
  {
   "cell_type": "code",
   "execution_count": 41,
   "id": "3648fb7d",
   "metadata": {},
   "outputs": [],
   "source": [
    "class ComplexCalc(SimpleCalc):\n",
    "    def __init__(self , a  , b):\n",
    "        super().__init__(a , b)\n",
    "        \n",
    "    def hcf(self , ):\n",
    "        x = self.a\n",
    "        y = self.b\n",
    "        \n",
    "        while True:\n",
    "            rem = x % y\n",
    "            if rem == 0:\n",
    "                print(f'H.C.F of {self.a} and {self.b} is {y}')\n",
    "                break\n",
    "            x = y\n",
    "            y = rem"
   ]
  },
  {
   "cell_type": "code",
   "execution_count": 42,
   "id": "6c6ed6b3",
   "metadata": {},
   "outputs": [],
   "source": [
    "calc = ComplexCalc(8 , 18)"
   ]
  },
  {
   "cell_type": "code",
   "execution_count": 43,
   "id": "158bd041",
   "metadata": {},
   "outputs": [
    {
     "name": "stdout",
     "output_type": "stream",
     "text": [
      "8 + 18 = 26\n"
     ]
    }
   ],
   "source": [
    "calc.addition()"
   ]
  },
  {
   "cell_type": "code",
   "execution_count": 44,
   "id": "d6eda1d0",
   "metadata": {},
   "outputs": [
    {
     "name": "stdout",
     "output_type": "stream",
     "text": [
      "H.C.F of 8 and 18 is 2\n"
     ]
    }
   ],
   "source": [
    "calc.hcf()"
   ]
  },
  {
   "cell_type": "code",
   "execution_count": 103,
   "id": "4014fa8a",
   "metadata": {},
   "outputs": [],
   "source": [
    "class Polygon():\n",
    "    def __init__(self , sides , length):\n",
    "        self.sides = sides\n",
    "        self.length = length\n",
    "        \n",
    "    def perimeter(self,):\n",
    "        return self.sides*self.length\n",
    "    "
   ]
  },
  {
   "cell_type": "code",
   "execution_count": 104,
   "id": "2e3ee8ef",
   "metadata": {},
   "outputs": [],
   "source": [
    "class triangle(Polygon):\n",
    "    def __init__(self , sides , length):\n",
    "        self.name = 'triangle'\n",
    "        self.sides = sides\n",
    "        self.length = length\n",
    "        super().__init__(sides , length)\n",
    "        \n",
    "    def area(self,):\n",
    "        return 0.5*self.length*self.sides\n",
    "    \n",
    "class Hexagon(Polygon):\n",
    "    def __init__(self , length):\n",
    "        self.name ='Hexagon'\n",
    "        self.length = length\n",
    "        super().__init__(6 , length)\n",
    "    def area_of_hexagon(self,):\n",
    "        return 6*self.length\n",
    "    def display_info(self, ):\n",
    "        message = f'''The area of {self.name} is {self}'''"
   ]
  },
  {
   "cell_type": "code",
   "execution_count": 105,
   "id": "4bb60711",
   "metadata": {},
   "outputs": [],
   "source": [
    "peri = Polygon(4 , 5)"
   ]
  },
  {
   "cell_type": "code",
   "execution_count": 107,
   "id": "4629a509",
   "metadata": {},
   "outputs": [
    {
     "data": {
      "text/plain": [
       "20"
      ]
     },
     "execution_count": 107,
     "metadata": {},
     "output_type": "execute_result"
    }
   ],
   "source": [
    "peri.perimeter()"
   ]
  },
  {
   "cell_type": "code",
   "execution_count": 108,
   "id": "bccaf974",
   "metadata": {},
   "outputs": [],
   "source": [
    "tri = triangle(5 , 6)"
   ]
  },
  {
   "cell_type": "code",
   "execution_count": 110,
   "id": "cadab96b",
   "metadata": {},
   "outputs": [
    {
     "data": {
      "text/plain": [
       "30"
      ]
     },
     "execution_count": 110,
     "metadata": {},
     "output_type": "execute_result"
    }
   ],
   "source": [
    "tri.perimeter()"
   ]
  },
  {
   "cell_type": "code",
   "execution_count": 111,
   "id": "19aebe23",
   "metadata": {},
   "outputs": [
    {
     "data": {
      "text/plain": [
       "15.0"
      ]
     },
     "execution_count": 111,
     "metadata": {},
     "output_type": "execute_result"
    }
   ],
   "source": [
    "tri.area()"
   ]
  },
  {
   "cell_type": "code",
   "execution_count": 112,
   "id": "4dc0c452",
   "metadata": {},
   "outputs": [
    {
     "data": {
      "text/plain": [
       "36"
      ]
     },
     "execution_count": 112,
     "metadata": {},
     "output_type": "execute_result"
    }
   ],
   "source": [
    "hexa = Hexagon(6)\n",
    "hexa.area_of_hexagon()"
   ]
  },
  {
   "cell_type": "code",
   "execution_count": 113,
   "id": "ef11652a",
   "metadata": {},
   "outputs": [
    {
     "data": {
      "text/plain": [
       "36"
      ]
     },
     "execution_count": 113,
     "metadata": {},
     "output_type": "execute_result"
    }
   ],
   "source": [
    "hexa.perimeter()"
   ]
  },
  {
   "cell_type": "code",
   "execution_count": 114,
   "id": "19dcbb1e",
   "metadata": {},
   "outputs": [],
   "source": [
    "hexa.display_info()"
   ]
  },
  {
   "cell_type": "code",
   "execution_count": null,
   "id": "6edded6f",
   "metadata": {},
   "outputs": [],
   "source": []
  }
 ],
 "metadata": {
  "kernelspec": {
   "display_name": "Python 3 (ipykernel)",
   "language": "python",
   "name": "python3"
  },
  "language_info": {
   "codemirror_mode": {
    "name": "ipython",
    "version": 3
   },
   "file_extension": ".py",
   "mimetype": "text/x-python",
   "name": "python",
   "nbconvert_exporter": "python",
   "pygments_lexer": "ipython3",
   "version": "3.11.3"
  }
 },
 "nbformat": 4,
 "nbformat_minor": 5
}
