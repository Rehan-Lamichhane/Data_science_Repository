{
 "cells": [
  {
   "cell_type": "code",
   "execution_count": 14,
   "id": "4884f0ef",
   "metadata": {},
   "outputs": [
    {
     "name": "stdout",
     "output_type": "stream",
     "text": [
      "Enter a number: 120\n",
      "Enter a second number: 0\n",
      "Cannot divide by zero!!!\n",
      "Enter a number: 23\n",
      "Enter a second number: 0\n",
      "Cannot divide by zero!!!\n",
      "Enter a number: 67\n",
      "Enter a second number: 8\n",
      "67/8 = 8.375\n"
     ]
    }
   ],
   "source": [
    "#program \n",
    "while True:\n",
    "    num1 = input('Enter a number: ')\n",
    "    num2 = input ('Enter a second number: ')\n",
    "    num1 = int(num1)\n",
    "    num2 = int(num2)\n",
    "    try:\n",
    "        print(f'{num1}/{num2} = {num1 / num2}')\n",
    "        break\n",
    "    except ZeroDivisionError:\n",
    "        print('Cannot divide by zero!!!')\n",
    "        \n",
    "    \n",
    "    "
   ]
  },
  {
   "cell_type": "code",
   "execution_count": 19,
   "id": "9f5b3fd9",
   "metadata": {},
   "outputs": [
    {
     "name": "stdout",
     "output_type": "stream",
     "text": [
      "Enter two numbers: 12 34\n",
      "12 34\n"
     ]
    }
   ],
   "source": [
    "#Accepting two values the same time\n",
    "user_input = input('Enter two numbers: ')\n",
    "\n",
    "num1  ,num2 = user_input.split()\n",
    "print (num1 , num2)"
   ]
  },
  {
   "cell_type": "markdown",
   "id": "07b5efc1",
   "metadata": {},
   "source": []
  },
  {
   "cell_type": "code",
   "execution_count": 24,
   "id": "6b368a6c",
   "metadata": {},
   "outputs": [
    {
     "name": "stdout",
     "output_type": "stream",
     "text": [
      "Enter two numbers: 12 0\n",
      "Enter two numbers: 12 34\n",
      "12/34 = 0.35294117647058826\n"
     ]
    }
   ],
   "source": [
    "\n",
    "while True:\n",
    "    user_input = input('Enter two numbers: ')\n",
    "    num1  ,num2 = user_input.split()\n",
    "    num1 = int(num1)\n",
    "    num2 = int(num2)\n",
    "    if num2 == 0:\n",
    "        print('Cannot divide by zero , Try again!!!')\n",
    "        continue\n",
    "        #restart the loop\n",
    "        \n",
    "    print(f'{num1}/{num2} = {num1 / num2}')\n",
    "    break"
   ]
  },
  {
   "cell_type": "markdown",
   "id": "71b66454",
   "metadata": {},
   "source": [
    "#Fizz-Buzz Problem\n",
    "\n",
    "gnerate numbers from 1 to 20\n",
    "#if the number is divisiable by 3 , print '**fizz**'\n",
    "#if the number is divisiable by 5 , print '**Buzz**'\n",
    "#if the number is divisiable by both , print '**Fizz Buzz**'\n",
    "#else , print the numbers"
   ]
  },
  {
   "cell_type": "code",
   "execution_count": 35,
   "id": "cbc02a09",
   "metadata": {},
   "outputs": [
    {
     "name": "stdout",
     "output_type": "stream",
     "text": [
      "1\n",
      "2\n",
      "Fizz\n",
      "4\n",
      "Buzz\n",
      "Fizz\n",
      "7\n",
      "8\n",
      "Fizz\n",
      "Buzz\n",
      "11\n",
      "Fizz\n",
      "13\n",
      "14\n",
      "Fizz Buzz\n",
      "16\n",
      "17\n",
      "Fizz\n",
      "19\n"
     ]
    }
   ],
   "source": [
    "#Program\n",
    "num = 1\n",
    "while num <= 20:\n",
    "    if(num %3 == 0 and num % 5 == 0):\n",
    "        print(f'Fizz Buzz')\n",
    "    elif(num % 3 == 0):\n",
    "        print(f'Fizz')\n",
    "    elif(num % 5 == 0):\n",
    "        print(f'Buzz')\n",
    "    else:\n",
    "        print(num)\n",
    "    num += 1"
   ]
  },
  {
   "cell_type": "markdown",
   "id": "b335181b",
   "metadata": {},
   "source": [
    "Swap the value of two variable:"
   ]
  },
  {
   "cell_type": "code",
   "execution_count": 37,
   "id": "3af41995",
   "metadata": {},
   "outputs": [
    {
     "name": "stdout",
     "output_type": "stream",
     "text": [
      "Before swaping: num1 = 1 , num2 = 2\n",
      "After swaping: num1 = 2 , num2 = 1\n"
     ]
    }
   ],
   "source": [
    "#Ttraditional way\n",
    "num1 = 1\n",
    "num2 = 2\n",
    "print(f'Before swaping: num1 = {num1} , num2 = {num2}')\n",
    "num3 = 0\n",
    "num3 = num1\n",
    "num1 = num2\n",
    "num2 = num3\n",
    "print(f'After swaping: num1 = {num1} , num2 = {num2}')"
   ]
  },
  {
   "cell_type": "code",
   "execution_count": 39,
   "id": "cae01089",
   "metadata": {},
   "outputs": [
    {
     "name": "stdout",
     "output_type": "stream",
     "text": [
      "hello , hi\n"
     ]
    }
   ],
   "source": [
    "#Python way\n",
    "a = 'hi'\n",
    "b = 'hello'\n",
    "a ,b = b , a\n",
    "print(f'{a} , {b}')\n"
   ]
  },
  {
   "cell_type": "code",
   "execution_count": 58,
   "id": "2e72d1de",
   "metadata": {},
   "outputs": [
    {
     "name": "stdout",
     "output_type": "stream",
     "text": [
      "Enter a number: 5\n",
      "5! = 120\n"
     ]
    }
   ],
   "source": [
    "#find the factrioal \n",
    "num = input('Enter a number: ')\n",
    "num = int(num)\n",
    "fact = 1\n",
    "if (num == 0):\n",
    "    print('1')\n",
    "else:\n",
    "    for i in range(1 , num):\n",
    "        fact = (i+1)*(fact)\n",
    "    print(f'{num}! = {fact}')"
   ]
  },
  {
   "cell_type": "code",
   "execution_count": 66,
   "id": "e8e4d4f8",
   "metadata": {},
   "outputs": [
    {
     "name": "stdout",
     "output_type": "stream",
     "text": [
      "Enter a number: 5\n",
      "15.0\n"
     ]
    }
   ],
   "source": [
    "#Sum of n natural numbers\n",
    "num = input('Enter a number: ')\n",
    "num  = int (num)\n",
    "a = 0\n",
    "a = num*(num+1)/2\n",
    "print(a)"
   ]
  },
  {
   "cell_type": "code",
   "execution_count": 70,
   "id": "210248e3",
   "metadata": {},
   "outputs": [
    {
     "name": "stdout",
     "output_type": "stream",
     "text": [
      "Enter a number: 5\n",
      "The sum of natural number upto 5 is 15\n"
     ]
    }
   ],
   "source": [
    "#Using loop\n",
    "num = input('Enter a number: ')\n",
    "num  = int (num)\n",
    "for i in range(1, num):\n",
    "    num = num + i\n",
    "print(f'The sum of natural number upto {i+1} is {num}')"
   ]
  },
  {
   "cell_type": "code",
   "execution_count": null,
   "id": "20f78eef",
   "metadata": {},
   "outputs": [],
   "source": [
    "#Calculate standard deviation from a list of numbers"
   ]
  },
  {
   "cell_type": "code",
   "execution_count": null,
   "id": "750f6809",
   "metadata": {},
   "outputs": [],
   "source": []
  }
 ],
 "metadata": {
  "kernelspec": {
   "display_name": "Python 3 (ipykernel)",
   "language": "python",
   "name": "python3"
  },
  "language_info": {
   "codemirror_mode": {
    "name": "ipython",
    "version": 3
   },
   "file_extension": ".py",
   "mimetype": "text/x-python",
   "name": "python",
   "nbconvert_exporter": "python",
   "pygments_lexer": "ipython3",
   "version": "3.11.3"
  }
 },
 "nbformat": 4,
 "nbformat_minor": 5
}
