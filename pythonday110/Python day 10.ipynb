{
 "cells": [
  {
   "cell_type": "code",
   "execution_count": 1,
   "id": "27129a4e",
   "metadata": {},
   "outputs": [],
   "source": [
    "class Polygon():\n",
    "    def __init__(self , sides , side_length):\n",
    "        self.sides = sides\n",
    "        self.side_length = side_length\n",
    "        \n",
    "    def perimeter(self,):\n",
    "        return self.sides*self.side_length\n",
    "    "
   ]
  },
  {
   "cell_type": "code",
   "execution_count": 2,
   "id": "6d1fc4ca",
   "metadata": {},
   "outputs": [],
   "source": [
    "from math import sqrt"
   ]
  },
  {
   "cell_type": "code",
   "execution_count": 3,
   "id": "4af3a38d",
   "metadata": {},
   "outputs": [],
   "source": [
    "class triangle(Polygon):\n",
    "    def __init__(self ,length):\n",
    "        self.name = 'triangle'\n",
    "        super().__init__(3 , length)\n",
    "        \n",
    "    def area(self,):\n",
    "        a = sqrt(3)/4*self.side_length**2\n",
    "        return a\n",
    "class Hexagon(Polygon):\n",
    "    def __init__(self , length):\n",
    "        self.name ='Hexagon'\n",
    "        self.length = length\n",
    "        super().__init__(6 , length)\n",
    "    def area_of_hexagon(self,):\n",
    "        a = 3*sqrt(3)*self.side_length**2/2\n",
    "        return a"
   ]
  },
  {
   "cell_type": "code",
   "execution_count": 4,
   "id": "9ff67e1d",
   "metadata": {},
   "outputs": [],
   "source": [
    "hexa = Hexagon(5)"
   ]
  },
  {
   "cell_type": "code",
   "execution_count": 5,
   "id": "10e54298",
   "metadata": {},
   "outputs": [
    {
     "data": {
      "text/plain": [
       "64.9519052838329"
      ]
     },
     "execution_count": 5,
     "metadata": {},
     "output_type": "execute_result"
    }
   ],
   "source": [
    "hexa.area_of_hexagon()"
   ]
  },
  {
   "cell_type": "code",
   "execution_count": 6,
   "id": "14192b0b",
   "metadata": {},
   "outputs": [
    {
     "name": "stdout",
     "output_type": "stream",
     "text": [
      "Python 3.11.3\n"
     ]
    }
   ],
   "source": [
    "!python --version"
   ]
  },
  {
   "cell_type": "markdown",
   "id": "41788d12",
   "metadata": {},
   "source": [
    "**Ramdom In Python**"
   ]
  },
  {
   "cell_type": "code",
   "execution_count": 7,
   "id": "08b4a066",
   "metadata": {},
   "outputs": [],
   "source": [
    "import random"
   ]
  },
  {
   "cell_type": "code",
   "execution_count": 8,
   "id": "6582ba11",
   "metadata": {},
   "outputs": [],
   "source": [
    "random.seed(12)"
   ]
  },
  {
   "cell_type": "code",
   "execution_count": 9,
   "id": "ccfe9092",
   "metadata": {},
   "outputs": [
    {
     "data": {
      "text/plain": [
       "8"
      ]
     },
     "execution_count": 9,
     "metadata": {},
     "output_type": "execute_result"
    }
   ],
   "source": [
    "random.randint(1 , 10) #randint(min , max)"
   ]
  },
  {
   "cell_type": "code",
   "execution_count": 10,
   "id": "bcdd847b",
   "metadata": {},
   "outputs": [
    {
     "data": {
      "text/plain": [
       "[35, 85, 68, 86, 45, 19, 49, 2, 48, 62]"
      ]
     },
     "execution_count": 10,
     "metadata": {},
     "output_type": "execute_result"
    }
   ],
   "source": [
    "[random.randint(1 , 100)for i in range(10)]"
   ]
  },
  {
   "cell_type": "code",
   "execution_count": 11,
   "id": "11561fab",
   "metadata": {},
   "outputs": [],
   "source": [
    "moves = ['up' , 'down' , 'left' , 'right']"
   ]
  },
  {
   "cell_type": "code",
   "execution_count": 12,
   "id": "a85c978a",
   "metadata": {},
   "outputs": [
    {
     "data": {
      "text/plain": [
       "'left'"
      ]
     },
     "execution_count": 12,
     "metadata": {},
     "output_type": "execute_result"
    }
   ],
   "source": [
    "random.choice(moves)"
   ]
  },
  {
   "cell_type": "code",
   "execution_count": 13,
   "id": "6debcb2c",
   "metadata": {},
   "outputs": [
    {
     "data": {
      "text/plain": [
       "['left', 'down', 'right']"
      ]
     },
     "execution_count": 13,
     "metadata": {},
     "output_type": "execute_result"
    }
   ],
   "source": [
    "random.choices(moves , k = 3)"
   ]
  },
  {
   "cell_type": "markdown",
   "id": "ea30951a",
   "metadata": {},
   "source": [
    "**Permutation and combinatoins**"
   ]
  },
  {
   "cell_type": "markdown",
   "id": "e22b6e4e",
   "metadata": {},
   "source": [
    "# Permutation = $\\frac{n!}{n-r}!$\n",
    "# combination = $\\frac{n!}{(n-r)!r!}$"
   ]
  },
  {
   "cell_type": "code",
   "execution_count": 14,
   "id": "4b9d3cef",
   "metadata": {},
   "outputs": [],
   "source": [
    "from itertools import permutations , combinations"
   ]
  },
  {
   "cell_type": "code",
   "execution_count": 15,
   "id": "e9753dbf",
   "metadata": {},
   "outputs": [],
   "source": [
    "names = ['Anuradha Maam' , 'Babu Rao' , 'Raju' , 'Babu Bhaiya' , 'Shyam']"
   ]
  },
  {
   "cell_type": "code",
   "execution_count": 16,
   "id": "87799b8a",
   "metadata": {},
   "outputs": [],
   "source": [
    "permut_list = permutations(names , 3)"
   ]
  },
  {
   "cell_type": "code",
   "execution_count": 17,
   "id": "e6ded698",
   "metadata": {},
   "outputs": [
    {
     "data": {
      "text/plain": [
       "[('Anuradha Maam', 'Babu Rao', 'Raju'),\n",
       " ('Anuradha Maam', 'Babu Rao', 'Babu Bhaiya'),\n",
       " ('Anuradha Maam', 'Babu Rao', 'Shyam'),\n",
       " ('Anuradha Maam', 'Raju', 'Babu Rao'),\n",
       " ('Anuradha Maam', 'Raju', 'Babu Bhaiya'),\n",
       " ('Anuradha Maam', 'Raju', 'Shyam'),\n",
       " ('Anuradha Maam', 'Babu Bhaiya', 'Babu Rao'),\n",
       " ('Anuradha Maam', 'Babu Bhaiya', 'Raju'),\n",
       " ('Anuradha Maam', 'Babu Bhaiya', 'Shyam'),\n",
       " ('Anuradha Maam', 'Shyam', 'Babu Rao'),\n",
       " ('Anuradha Maam', 'Shyam', 'Raju'),\n",
       " ('Anuradha Maam', 'Shyam', 'Babu Bhaiya'),\n",
       " ('Babu Rao', 'Anuradha Maam', 'Raju'),\n",
       " ('Babu Rao', 'Anuradha Maam', 'Babu Bhaiya'),\n",
       " ('Babu Rao', 'Anuradha Maam', 'Shyam'),\n",
       " ('Babu Rao', 'Raju', 'Anuradha Maam'),\n",
       " ('Babu Rao', 'Raju', 'Babu Bhaiya'),\n",
       " ('Babu Rao', 'Raju', 'Shyam'),\n",
       " ('Babu Rao', 'Babu Bhaiya', 'Anuradha Maam'),\n",
       " ('Babu Rao', 'Babu Bhaiya', 'Raju'),\n",
       " ('Babu Rao', 'Babu Bhaiya', 'Shyam'),\n",
       " ('Babu Rao', 'Shyam', 'Anuradha Maam'),\n",
       " ('Babu Rao', 'Shyam', 'Raju'),\n",
       " ('Babu Rao', 'Shyam', 'Babu Bhaiya'),\n",
       " ('Raju', 'Anuradha Maam', 'Babu Rao'),\n",
       " ('Raju', 'Anuradha Maam', 'Babu Bhaiya'),\n",
       " ('Raju', 'Anuradha Maam', 'Shyam'),\n",
       " ('Raju', 'Babu Rao', 'Anuradha Maam'),\n",
       " ('Raju', 'Babu Rao', 'Babu Bhaiya'),\n",
       " ('Raju', 'Babu Rao', 'Shyam'),\n",
       " ('Raju', 'Babu Bhaiya', 'Anuradha Maam'),\n",
       " ('Raju', 'Babu Bhaiya', 'Babu Rao'),\n",
       " ('Raju', 'Babu Bhaiya', 'Shyam'),\n",
       " ('Raju', 'Shyam', 'Anuradha Maam'),\n",
       " ('Raju', 'Shyam', 'Babu Rao'),\n",
       " ('Raju', 'Shyam', 'Babu Bhaiya'),\n",
       " ('Babu Bhaiya', 'Anuradha Maam', 'Babu Rao'),\n",
       " ('Babu Bhaiya', 'Anuradha Maam', 'Raju'),\n",
       " ('Babu Bhaiya', 'Anuradha Maam', 'Shyam'),\n",
       " ('Babu Bhaiya', 'Babu Rao', 'Anuradha Maam'),\n",
       " ('Babu Bhaiya', 'Babu Rao', 'Raju'),\n",
       " ('Babu Bhaiya', 'Babu Rao', 'Shyam'),\n",
       " ('Babu Bhaiya', 'Raju', 'Anuradha Maam'),\n",
       " ('Babu Bhaiya', 'Raju', 'Babu Rao'),\n",
       " ('Babu Bhaiya', 'Raju', 'Shyam'),\n",
       " ('Babu Bhaiya', 'Shyam', 'Anuradha Maam'),\n",
       " ('Babu Bhaiya', 'Shyam', 'Babu Rao'),\n",
       " ('Babu Bhaiya', 'Shyam', 'Raju'),\n",
       " ('Shyam', 'Anuradha Maam', 'Babu Rao'),\n",
       " ('Shyam', 'Anuradha Maam', 'Raju'),\n",
       " ('Shyam', 'Anuradha Maam', 'Babu Bhaiya'),\n",
       " ('Shyam', 'Babu Rao', 'Anuradha Maam'),\n",
       " ('Shyam', 'Babu Rao', 'Raju'),\n",
       " ('Shyam', 'Babu Rao', 'Babu Bhaiya'),\n",
       " ('Shyam', 'Raju', 'Anuradha Maam'),\n",
       " ('Shyam', 'Raju', 'Babu Rao'),\n",
       " ('Shyam', 'Raju', 'Babu Bhaiya'),\n",
       " ('Shyam', 'Babu Bhaiya', 'Anuradha Maam'),\n",
       " ('Shyam', 'Babu Bhaiya', 'Babu Rao'),\n",
       " ('Shyam', 'Babu Bhaiya', 'Raju')]"
      ]
     },
     "execution_count": 17,
     "metadata": {},
     "output_type": "execute_result"
    }
   ],
   "source": [
    "permut_list = list(permut_list)\n",
    "permut_list"
   ]
  },
  {
   "cell_type": "code",
   "execution_count": 18,
   "id": "369a5a51",
   "metadata": {},
   "outputs": [],
   "source": [
    "comb_list = combinations(names ,  3)"
   ]
  },
  {
   "cell_type": "code",
   "execution_count": 19,
   "id": "14f5d753",
   "metadata": {},
   "outputs": [
    {
     "data": {
      "text/plain": [
       "[('Anuradha Maam', 'Babu Rao', 'Raju'),\n",
       " ('Anuradha Maam', 'Babu Rao', 'Babu Bhaiya'),\n",
       " ('Anuradha Maam', 'Babu Rao', 'Shyam'),\n",
       " ('Anuradha Maam', 'Raju', 'Babu Bhaiya'),\n",
       " ('Anuradha Maam', 'Raju', 'Shyam'),\n",
       " ('Anuradha Maam', 'Babu Bhaiya', 'Shyam'),\n",
       " ('Babu Rao', 'Raju', 'Babu Bhaiya'),\n",
       " ('Babu Rao', 'Raju', 'Shyam'),\n",
       " ('Babu Rao', 'Babu Bhaiya', 'Shyam'),\n",
       " ('Raju', 'Babu Bhaiya', 'Shyam')]"
      ]
     },
     "execution_count": 19,
     "metadata": {},
     "output_type": "execute_result"
    }
   ],
   "source": [
    "comb_list = list(comb_list)\n",
    "comb_list"
   ]
  },
  {
   "cell_type": "code",
   "execution_count": 20,
   "id": "3dfdeb4e",
   "metadata": {},
   "outputs": [
    {
     "data": {
      "text/plain": [
       "10"
      ]
     },
     "execution_count": 20,
     "metadata": {},
     "output_type": "execute_result"
    }
   ],
   "source": [
    "len(comb_list)"
   ]
  },
  {
   "cell_type": "code",
   "execution_count": 21,
   "id": "36cf204e",
   "metadata": {},
   "outputs": [
    {
     "data": {
      "text/plain": [
       "60"
      ]
     },
     "execution_count": 21,
     "metadata": {},
     "output_type": "execute_result"
    }
   ],
   "source": [
    "len(permut_list)"
   ]
  },
  {
   "cell_type": "markdown",
   "id": "53ad6cd0",
   "metadata": {},
   "source": [
    "# SQL Practice"
   ]
  },
  {
   "cell_type": "code",
   "execution_count": 22,
   "id": "9a2b42d3",
   "metadata": {},
   "outputs": [],
   "source": [
    "import sqlite3"
   ]
  },
  {
   "cell_type": "code",
   "execution_count": 23,
   "id": "0b86fe17",
   "metadata": {},
   "outputs": [],
   "source": [
    "conn = sqlite3.connect('db.sqlite3')"
   ]
  },
  {
   "cell_type": "code",
   "execution_count": 24,
   "id": "b3fe6f8c",
   "metadata": {},
   "outputs": [],
   "source": [
    "cur = conn.cursor()"
   ]
  },
  {
   "cell_type": "code",
   "execution_count": 25,
   "id": "113ce1b5",
   "metadata": {},
   "outputs": [
    {
     "data": {
      "text/plain": [
       "<sqlite3.Cursor at 0x251c482ebc0>"
      ]
     },
     "execution_count": 25,
     "metadata": {},
     "output_type": "execute_result"
    }
   ],
   "source": [
    "create = \"\"\"\n",
    "CREATE TABLE IF NOT EXISTS USER(\n",
    "    ID INTEGER PRIMARY KEY AUTOINCREMENT,\n",
    "    NAME STRING NOT NULL,\n",
    "    ADDRESS STRING NOT NULL,\n",
    "    AGE INTEGER NULL,\n",
    "    GENDER STRING NULL\n",
    ");\n",
    "\"\"\"\n",
    "\n",
    "\n",
    "\n",
    "\n",
    "\n",
    "cur.execute(create)"
   ]
  },
  {
   "cell_type": "code",
   "execution_count": 26,
   "id": "4691b5ab",
   "metadata": {},
   "outputs": [],
   "source": [
    "read = \"SELECT *FROM USER;\" # SELECTS EVERYTHING FROM USER TABLE\n",
    "data = cur.execute(read)"
   ]
  },
  {
   "cell_type": "code",
   "execution_count": 27,
   "id": "8538d67d",
   "metadata": {},
   "outputs": [
    {
     "data": {
      "text/plain": [
       "[]"
      ]
     },
     "execution_count": 27,
     "metadata": {},
     "output_type": "execute_result"
    }
   ],
   "source": [
    "data.fetchall()"
   ]
  },
  {
   "cell_type": "code",
   "execution_count": 28,
   "id": "fdfb58f5",
   "metadata": {},
   "outputs": [
    {
     "data": {
      "text/plain": [
       "<sqlite3.Cursor at 0x251c482ebc0>"
      ]
     },
     "execution_count": 28,
     "metadata": {},
     "output_type": "execute_result"
    }
   ],
   "source": [
    "update = \"\"\"\n",
    "INSERT INTO USER('NAME' , 'ADDRESS' , 'AGE')\n",
    "VALUES('GHANA SHYAM' , 'BHAKTAPUR' , 38 );\n",
    "\"\"\"\n",
    "\n",
    "cur.execute(update)"
   ]
  },
  {
   "cell_type": "code",
   "execution_count": 29,
   "id": "b798bf93",
   "metadata": {},
   "outputs": [
    {
     "data": {
      "text/plain": [
       "<sqlite3.Cursor at 0x251c482ebc0>"
      ]
     },
     "execution_count": 29,
     "metadata": {},
     "output_type": "execute_result"
    }
   ],
   "source": [
    "update = \"\"\"\n",
    "INSERT INTO USER('NAME' , 'ADDRESS' , 'AGE' , 'GENDER')\n",
    "VALUES('Radha Piyari' , 'BHAKTAPUR' , 45 , 'FEMALE'),\n",
    "('HARI BAHADUR' , 'KATHMANDU' , 55 , 'Male');\n",
    "\"\"\"\n",
    "\n",
    "cur.execute(update)"
   ]
  },
  {
   "cell_type": "code",
   "execution_count": 30,
   "id": "bbdb4415",
   "metadata": {},
   "outputs": [
    {
     "data": {
      "text/plain": [
       "[(1, 'GHANA SHYAM', 'BHAKTAPUR', 38, None),\n",
       " (2, 'Radha Piyari', 'BHAKTAPUR', 45, 'FEMALE'),\n",
       " (3, 'HARI BAHADUR', 'KATHMANDU', 55, 'Male')]"
      ]
     },
     "execution_count": 30,
     "metadata": {},
     "output_type": "execute_result"
    }
   ],
   "source": [
    "read = \"SELECT *FROM USER;\" # SELECTS EVERYTHING FROM USER TABLE\n",
    "data = cur.execute(read)\n",
    "data.fetchall()"
   ]
  },
  {
   "cell_type": "code",
   "execution_count": 31,
   "id": "bfa25004",
   "metadata": {},
   "outputs": [
    {
     "data": {
      "text/plain": [
       "[('HARI BAHADUR', 'KATHMANDU', 55)]"
      ]
     },
     "execution_count": 31,
     "metadata": {},
     "output_type": "execute_result"
    }
   ],
   "source": [
    "read = \"SELECT NAME , ADDRESS , AGE FROM USER WHERE AGE = 55;\" # SELECTS EVERYTHING FROM USER TABLE\n",
    "data = cur.execute(read)\n",
    "data.fetchall()"
   ]
  },
  {
   "cell_type": "code",
   "execution_count": 32,
   "id": "a8493ea6",
   "metadata": {},
   "outputs": [],
   "source": [
    "values = [\n",
    "    ['Rajes Hamal' , 'Saturn' , 18 , 'M'],\n",
    "    ['Bruce Lee' , 'USA' , 40 , 'M'],\n",
    "    ['rehds' , 'sddf' , 45 , 'M']\n",
    "]"
   ]
  },
  {
   "cell_type": "code",
   "execution_count": 33,
   "id": "b7c064b4",
   "metadata": {},
   "outputs": [
    {
     "data": {
      "text/plain": [
       "[['Rajes Hamal', 'Saturn', 18, 'M'],\n",
       " ['Bruce Lee', 'USA', 40, 'M'],\n",
       " ['rehds', 'sddf', 45, 'M']]"
      ]
     },
     "execution_count": 33,
     "metadata": {},
     "output_type": "execute_result"
    }
   ],
   "source": [
    "values"
   ]
  },
  {
   "cell_type": "code",
   "execution_count": 34,
   "id": "8cc0f39e",
   "metadata": {},
   "outputs": [
    {
     "name": "stdout",
     "output_type": "stream",
     "text": [
      "['Rajes Hamal', 'Saturn', 18, 'M']\n",
      "['Bruce Lee', 'USA', 40, 'M']\n",
      "['rehds', 'sddf', 45, 'M']\n"
     ]
    }
   ],
   "source": [
    "for val in values:\n",
    "    print(val)\n",
    "    update = f\"\"\"\n",
    "    INSERT INTO USER('NAME' , 'ADDRESS' , 'AGE' , 'GENDER')\n",
    "    VALUES('{val[0]}', '{val[1]}' , {val[2]} , '{val[3]}');\n",
    "    \"\"\"\n",
    "    #print(update)\n",
    "    cur.execute(update)\n",
    "    "
   ]
  },
  {
   "cell_type": "code",
   "execution_count": 35,
   "id": "d4d46a76",
   "metadata": {},
   "outputs": [
    {
     "data": {
      "text/plain": [
       "[(1, 'GHANA SHYAM', 'BHAKTAPUR', 38, None),\n",
       " (2, 'Radha Piyari', 'BHAKTAPUR', 45, 'FEMALE'),\n",
       " (3, 'HARI BAHADUR', 'KATHMANDU', 55, 'Male'),\n",
       " (4, 'Rajes Hamal', 'Saturn', 18, 'M'),\n",
       " (5, 'Bruce Lee', 'USA', 40, 'M'),\n",
       " (6, 'rehds', 'sddf', 45, 'M')]"
      ]
     },
     "execution_count": 35,
     "metadata": {},
     "output_type": "execute_result"
    }
   ],
   "source": [
    "read = \"SELECT *FROM USER;\" # SELECTS EVERYTHING FROM USER TABLE\n",
    "data = cur.execute(read)\n",
    "data.fetchall()"
   ]
  },
  {
   "cell_type": "code",
   "execution_count": 36,
   "id": "c46f42c4",
   "metadata": {},
   "outputs": [
    {
     "data": {
      "text/plain": [
       "<sqlite3.Cursor at 0x251c482ebc0>"
      ]
     },
     "execution_count": 36,
     "metadata": {},
     "output_type": "execute_result"
    }
   ],
   "source": [
    "delete  =\"DELETE FROM USER WHERE ID = 6;\"\n",
    "cur.execute(delete)"
   ]
  },
  {
   "cell_type": "code",
   "execution_count": 37,
   "id": "51364384",
   "metadata": {},
   "outputs": [
    {
     "data": {
      "text/plain": [
       "[(1, 'GHANA SHYAM', 'BHAKTAPUR', 38, None),\n",
       " (2, 'Radha Piyari', 'BHAKTAPUR', 45, 'FEMALE'),\n",
       " (3, 'HARI BAHADUR', 'KATHMANDU', 55, 'Male'),\n",
       " (4, 'Rajes Hamal', 'Saturn', 18, 'M'),\n",
       " (5, 'Bruce Lee', 'USA', 40, 'M')]"
      ]
     },
     "execution_count": 37,
     "metadata": {},
     "output_type": "execute_result"
    }
   ],
   "source": [
    "read = \"SELECT *FROM USER;\" # SELECTS EVERYTHING FROM USER TABLE\n",
    "data = cur.execute(read)\n",
    "data.fetchall()"
   ]
  },
  {
   "cell_type": "code",
   "execution_count": 38,
   "id": "8b4d7a9d",
   "metadata": {},
   "outputs": [],
   "source": [
    "cur.close()"
   ]
  },
  {
   "cell_type": "markdown",
   "id": "5c78929a",
   "metadata": {},
   "source": [
    "# FILE HANDLING\n",
    "```python\n",
    "file = open('file_name' , mode)\n",
    "```\n",
    "\n",
    "   FILE handling modes:\n",
    "   * **w** : write into files. Also overwrites the contents\n",
    "   * **r** : Read files\n",
    "   * **a** : Append into files, will not overwrite existing data\n",
    "   * **w+** : write and read data , will overwrite existing data\n",
    "   * **r+** : read and write data , will overwrite existing data\n",
    "   * **a+** : Append and read data , will not overwrite existing data"
   ]
  },
  {
   "cell_type": "code",
   "execution_count": 41,
   "id": "947f080b",
   "metadata": {},
   "outputs": [],
   "source": [
    "file = open('file.txt' , 'a+')"
   ]
  },
  {
   "cell_type": "code",
   "execution_count": 43,
   "id": "9b233f52",
   "metadata": {},
   "outputs": [
    {
     "name": "stdout",
     "output_type": "stream",
     "text": [
      "giggity \n",
      "giggity \n",
      "giggity \n",
      "giggity \n",
      "giggity \n",
      "giggity \n",
      "giggity \n",
      "giggity \n",
      "giggity \n",
      "giggity \n",
      "\n"
     ]
    }
   ],
   "source": [
    "message = 'giggity \\n'*10\n",
    "print(message)"
   ]
  },
  {
   "cell_type": "code",
   "execution_count": 44,
   "id": "587c6a30",
   "metadata": {},
   "outputs": [
    {
     "data": {
      "text/plain": [
       "90"
      ]
     },
     "execution_count": 44,
     "metadata": {},
     "output_type": "execute_result"
    }
   ],
   "source": [
    "file.write(message)"
   ]
  },
  {
   "cell_type": "code",
   "execution_count": 45,
   "id": "3da34ad6",
   "metadata": {},
   "outputs": [],
   "source": [
    "file.close()"
   ]
  },
  {
   "cell_type": "code",
   "execution_count": null,
   "id": "81316dfd",
   "metadata": {},
   "outputs": [],
   "source": []
  }
 ],
 "metadata": {
  "kernelspec": {
   "display_name": "Python 3 (ipykernel)",
   "language": "python",
   "name": "python3"
  },
  "language_info": {
   "codemirror_mode": {
    "name": "ipython",
    "version": 3
   },
   "file_extension": ".py",
   "mimetype": "text/x-python",
   "name": "python",
   "nbconvert_exporter": "python",
   "pygments_lexer": "ipython3",
   "version": "3.11.3"
  }
 },
 "nbformat": 4,
 "nbformat_minor": 5
}
