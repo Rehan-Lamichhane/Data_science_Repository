{
 "cells": [
  {
   "cell_type": "markdown",
   "id": "43335903",
   "metadata": {},
   "source": [
    "**Calculate the standard deviation from the given list:**"
   ]
  },
  {
   "cell_type": "code",
   "execution_count": 1,
   "id": "e1065c10",
   "metadata": {},
   "outputs": [
    {
     "name": "stdout",
     "output_type": "stream",
     "text": [
      "Standard deviatio of [12, 23, 30, 20, 25, 28, 19] is 5.627918743883488\n"
     ]
    }
   ],
   "source": [
    "nums = [12 , 23 , 30 , 20 , 25, 28  ,19]\n",
    "sumiation = 0\n",
    "mean = sum(nums)/len(nums)\n",
    "for y in nums:\n",
    "    sumiation += (y-mean)**2\n",
    "std = (sumiation/len(nums))**0.5\n",
    "print(f'Standard deviatio of {nums} is {std}')"
   ]
  },
  {
   "cell_type": "markdown",
   "id": "fbce5e33",
   "metadata": {},
   "source": [
    "**Count the number of each vowels from the given string:**"
   ]
  },
  {
   "cell_type": "code",
   "execution_count": 17,
   "id": "fbe5f5d6",
   "metadata": {},
   "outputs": [
    {
     "name": "stdout",
     "output_type": "stream",
     "text": [
      "a\n",
      " \n",
      "q\n",
      "u\n",
      "i\n",
      "c\n",
      "k\n",
      " \n",
      "b\n",
      "r\n",
      "o\n",
      "w\n",
      "n\n",
      " \n",
      "f\n",
      "o\n",
      "x\n",
      "n\n",
      " \n",
      "j\n",
      "u\n",
      "m\n",
      "p\n",
      "e\n",
      "d\n",
      " \n",
      "o\n",
      "v\n",
      "e\n",
      "r\n",
      " \n",
      "a\n",
      "l\n",
      "i\n",
      "t\n",
      "t\n",
      "l\n",
      "e\n",
      " \n",
      "l\n",
      "a\n",
      "z\n",
      "y\n",
      " \n",
      "d\n",
      "o\n",
      "g\n",
      ":\n",
      "{'a': 3, 'e': 3, 'i': 2, 'o': 4, 'u': 2}\n"
     ]
    }
   ],
   "source": [
    "sentence = 'A quick brown foxn jumped over alittle lazy dog:'\n",
    "sentence = sentence.lower()\n",
    "counts = {'a' : 0,\n",
    "    'e' : 0,\n",
    "    'i' : 0,\n",
    "    'o' : 0,\n",
    "    'u' : 0,\n",
    "}\n",
    "for each_char in sentence:\n",
    "    print(each_char)\n",
    "    if each_char in counts.keys():\n",
    "        counts[each_char] += 1\n",
    "print(counts)\n",
    "   "
   ]
  },
  {
   "cell_type": "code",
   "execution_count": 16,
   "id": "a87622dc",
   "metadata": {},
   "outputs": [
    {
     "name": "stdout",
     "output_type": "stream",
     "text": [
      "{'a': 3, 'e': 3, 'i': 2, 'o': 4, 'u': 2}\n"
     ]
    }
   ],
   "source": [
    "#Alternative way:\n",
    "counts = {'a' : 0,\n",
    "    'e' : 0,\n",
    "    'i' : 0,\n",
    "    'o' : 0,\n",
    "    'u' : 0,\n",
    "}\n",
    "\n",
    "sentence = sentence.lower()\n",
    "for vowels in counts.keys():\n",
    "    counts[vowels] = sentence.count(vowels)\n",
    "print(counts)"
   ]
  },
  {
   "cell_type": "markdown",
   "id": "e31033c7",
   "metadata": {},
   "source": [
    "**Count the number of each character from the given string:**"
   ]
  },
  {
   "cell_type": "code",
   "execution_count": 22,
   "id": "bcff26d6",
   "metadata": {},
   "outputs": [
    {
     "name": "stdout",
     "output_type": "stream",
     "text": [
      "Enter a string: qwertyuiop\n"
     ]
    },
    {
     "data": {
      "text/plain": [
       "Counter({'q': 1,\n",
       "         'w': 1,\n",
       "         'e': 1,\n",
       "         'r': 1,\n",
       "         't': 1,\n",
       "         'y': 1,\n",
       "         'u': 1,\n",
       "         'i': 1,\n",
       "         'o': 1,\n",
       "         'p': 1})"
      ]
     },
     "execution_count": 22,
     "metadata": {},
     "output_type": "execute_result"
    }
   ],
   "source": [
    "from collections import Counter\n",
    "user_input = input('Enter a string: ')\n",
    "user_input = user_input.lower()\n",
    "Counter(user_input)\n"
   ]
  },
  {
   "cell_type": "markdown",
   "id": "80462180",
   "metadata": {},
   "source": [
    "**Creat a list where its value is :\n",
    "[0 , 1 , 4 , 9 , 16 , 25]**"
   ]
  },
  {
   "cell_type": "code",
   "execution_count": 24,
   "id": "fc29ea89",
   "metadata": {},
   "outputs": [
    {
     "name": "stdout",
     "output_type": "stream",
     "text": [
      "[0, 1, 4, 9, 16, 25]\n"
     ]
    }
   ],
   "source": [
    "#Traditional way:\n",
    "l = []\n",
    "for i in range(6):\n",
    "    i = i*i\n",
    "    l.append(i)\n",
    "print(l)"
   ]
  },
  {
   "cell_type": "code",
   "execution_count": 25,
   "id": "a65591cf",
   "metadata": {},
   "outputs": [
    {
     "data": {
      "text/plain": [
       "[0, 1, 4, 9, 16, 25]"
      ]
     },
     "execution_count": 25,
     "metadata": {},
     "output_type": "execute_result"
    }
   ],
   "source": [
    "#Python way:\n",
    "[i*i for i in range(6)]"
   ]
  },
  {
   "cell_type": "markdown",
   "id": "2f57e670",
   "metadata": {},
   "source": [
    "**Function**\n",
    "**Syntax:**\n",
    "```python\n",
    "def function_name(arg1 , arg2 , .......):\n",
    "    codes...\n",
    "    ...\n",
    "    ..\n",
    "    .\n",
    "    return val1 , val2 , ....\n",
    "```"
   ]
  },
  {
   "cell_type": "code",
   "execution_count": null,
   "id": "937e4411",
   "metadata": {},
   "outputs": [],
   "source": []
  }
 ],
 "metadata": {
  "kernelspec": {
   "display_name": "Python 3 (ipykernel)",
   "language": "python",
   "name": "python3"
  },
  "language_info": {
   "codemirror_mode": {
    "name": "ipython",
    "version": 3
   },
   "file_extension": ".py",
   "mimetype": "text/x-python",
   "name": "python",
   "nbconvert_exporter": "python",
   "pygments_lexer": "ipython3",
   "version": "3.11.3"
  }
 },
 "nbformat": 4,
 "nbformat_minor": 5
}
