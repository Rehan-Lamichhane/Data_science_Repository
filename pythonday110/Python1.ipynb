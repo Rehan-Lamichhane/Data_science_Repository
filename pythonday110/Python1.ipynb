{
 "cells": [
  {
   "cell_type": "code",
   "execution_count": 46,
   "id": "c8c0cfe7",
   "metadata": {},
   "outputs": [
    {
     "name": "stdout",
     "output_type": "stream",
     "text": [
      "Enter A NUMBER or string: 1234567890987654321\n",
      "This is palindrome:\n"
     ]
    }
   ],
   "source": [
    " a=input('Enter A NUMBER or string: ')\n",
    "b = a[::-1]\n",
    "b\n",
    "if (a == b):\n",
    "    print('This is palindrome:')\n",
    "else:\n",
    "    print('This is not palindrome:')\n",
    "\n"
   ]
  },
  {
   "cell_type": "code",
   "execution_count": null,
   "id": "2fc87e12",
   "metadata": {},
   "outputs": [],
   "source": []
  },
  {
   "cell_type": "markdown",
   "id": "8b44b24c",
   "metadata": {},
   "source": [
    "Program to find the division of student according to the the percentage\n"
   ]
  },
  {
   "cell_type": "code",
   "execution_count": 9,
   "id": "f00f7449",
   "metadata": {
    "scrolled": true
   },
   "outputs": [
    {
     "name": "stdout",
     "output_type": "stream",
     "text": [
      "Enter a percentage of the student: 60\n",
      "60.0 is second division\n"
     ]
    }
   ],
   "source": [
    "user_input = input ('Enter a percentage of the student: ')\n",
    "user_input = float(user_input)\n",
    "if(user_input >100):\n",
    "    print(f'Out of range:')\n",
    "elif(user_input >= 80):\n",
    "    print(f'{user_input} is distinction!!!')\n",
    "elif(user_input >=60):\n",
    "    print(f'{user_input} is first division')\n",
    "elif(user_input >=50):\n",
    "    print(f'{user_input} is second division')\n",
    "elif(user_input >=40):\n",
    "    print(f'{user_input} is third division')\n",
    "else:\n",
    "    print(f'{user_input} Fail!!!')\n"
   ]
  },
  {
   "cell_type": "markdown",
   "id": "445a5ae7",
   "metadata": {},
   "source": [
    "#Loop"
   ]
  },
  {
   "cell_type": "raw",
   "id": "5d11863e",
   "metadata": {},
   "source": [
    "#While loop\n",
    "```python\n",
    "while condition:\n",
    "    code_statements\n",
    "```"
   ]
  },
  {
   "cell_type": "code",
   "execution_count": 17,
   "id": "72e42b42",
   "metadata": {},
   "outputs": [
    {
     "name": "stdout",
     "output_type": "stream",
     "text": [
      "0\n",
      "1\n",
      "2\n",
      "3\n",
      "4\n"
     ]
    }
   ],
   "source": [
    "#ExMPLE OF WHILE LOOP\n",
    "i  = 0\n",
    "while i<5:\n",
    "    print (f'{i}')\n",
    "    i = i + 1\n"
   ]
  },
  {
   "cell_type": "code",
   "execution_count": 22,
   "id": "b438f323",
   "metadata": {},
   "outputs": [
    {
     "name": "stdout",
     "output_type": "stream",
     "text": [
      "1\n",
      "2\n",
      "4\n",
      "5\n",
      "7\n",
      "8\n",
      "10\n"
     ]
    }
   ],
   "source": [
    "#program\n",
    "a = 1\n",
    "while(a <= 10):\n",
    "    if(a % 3 != 0):\n",
    "        print(f'{a}')\n",
    "    a += 1"
   ]
  },
  {
   "cell_type": "code",
   "execution_count": null,
   "id": "bcc97209",
   "metadata": {},
   "outputs": [],
   "source": []
  },
  {
   "cell_type": "code",
   "execution_count": 24,
   "id": "80a82071",
   "metadata": {},
   "outputs": [
    {
     "name": "stdout",
     "output_type": "stream",
     "text": [
      "1\n",
      "2\n",
      "4\n",
      "5\n",
      "7\n",
      "8\n",
      "10\n"
     ]
    }
   ],
   "source": [
    "#Alternative way:\n",
    "a = 1\n",
    "while(a <= 10):\n",
    "    if(a % 3 == 0):\n",
    "        a += 1\n",
    "        continue\n",
    "    print(a)\n",
    "    a += 1"
   ]
  },
  {
   "cell_type": "code",
   "execution_count": 27,
   "id": "2a75f3ee",
   "metadata": {},
   "outputs": [
    {
     "name": "stdout",
     "output_type": "stream",
     "text": [
      "H\n",
      "e\n",
      "l\n",
      "l\n",
      "o\n"
     ]
    }
   ],
   "source": [
    "message = 'Hello'\n",
    "for each_char in message:\n",
    "    print(each_char)"
   ]
  },
  {
   "cell_type": "code",
   "execution_count": 29,
   "id": "2848c227",
   "metadata": {},
   "outputs": [
    {
     "name": "stdout",
     "output_type": "stream",
     "text": [
      "a\n",
      "e\n",
      "i\n",
      "o\n",
      "u\n"
     ]
    }
   ],
   "source": [
    "l = ['a' , 'e' , 'i' , 'o' , 'u']\n",
    "for vowel in l:\n",
    "    print(vowel)"
   ]
  },
  {
   "cell_type": "code",
   "execution_count": 31,
   "id": "17913508",
   "metadata": {},
   "outputs": [
    {
     "name": "stdout",
     "output_type": "stream",
     "text": [
      "2\n",
      "4\n",
      "6\n",
      "8\n",
      "10\n",
      "12\n",
      "14\n",
      "16\n",
      "18\n",
      "20\n"
     ]
    }
   ],
   "source": [
    "#print first 10 even numbers\n",
    "even = 0\n",
    "while (even <20):\n",
    "    even += 2\n",
    "    print(even)\n",
    "    "
   ]
  },
  {
   "cell_type": "code",
   "execution_count": 32,
   "id": "8bcf532a",
   "metadata": {},
   "outputs": [
    {
     "name": "stdout",
     "output_type": "stream",
     "text": [
      "2\n",
      "4\n",
      "6\n",
      "8\n",
      "10\n"
     ]
    }
   ],
   "source": [
    "a = 1\n",
    "while(a <= 10):\n",
    "    if(a % 2 == 0):\n",
    "        print(f'{a}')\n",
    "    a += 1"
   ]
  },
  {
   "cell_type": "code",
   "execution_count": 33,
   "id": "2b45d6fb",
   "metadata": {},
   "outputs": [
    {
     "name": "stdout",
     "output_type": "stream",
     "text": [
      "2\n",
      "4\n",
      "6\n",
      "8\n",
      "10\n",
      "12\n",
      "14\n",
      "16\n",
      "18\n",
      "20\n"
     ]
    }
   ],
   "source": [
    "#range(start , stop , step)\n",
    "for num in range(2 , 22 , 2):\n",
    "    print(num)"
   ]
  },
  {
   "cell_type": "code",
   "execution_count": 34,
   "id": "7496f67f",
   "metadata": {},
   "outputs": [
    {
     "data": {
      "text/plain": [
       "[0, 1, 2, 3, 4]"
      ]
     },
     "execution_count": 34,
     "metadata": {},
     "output_type": "execute_result"
    }
   ],
   "source": [
    "list(range(5))"
   ]
  },
  {
   "cell_type": "markdown",
   "id": "6c20d34c",
   "metadata": {},
   "source": [
    "```\n",
    "#Pattern\n",
    "1\n",
    "12\n",
    "123\n",
    "1234\n",
    "12345\n",
    "```"
   ]
  },
  {
   "cell_type": "code",
   "execution_count": 1,
   "id": "66247b83",
   "metadata": {},
   "outputs": [
    {
     "name": "stdout",
     "output_type": "stream",
     "text": [
      "1\n",
      "2\n",
      "3\n",
      "4\n",
      "5\n"
     ]
    }
   ],
   "source": [
    "num = 1\n",
    "num1 = 1\n",
    "while(num <=5):\n",
    "    while(num1 <= num):\n",
    "        print(num1)\n",
    "        num1 += 1\n",
    "    num += 1\n",
    "        "
   ]
  },
  {
   "cell_type": "code",
   "execution_count": 42,
   "id": "0306c60d",
   "metadata": {},
   "outputs": [
    {
     "name": "stdout",
     "output_type": "stream",
     "text": [
      "\n",
      "1 \n",
      "1 2 \n",
      "1 2 3 \n",
      "1 2 3 4 \n",
      "1 2 3 4 5 \n"
     ]
    }
   ],
   "source": [
    "row = 6\n",
    "for i in range(row):\n",
    "    #print(i+1)\n",
    "    for j in range(1 , i+1):\n",
    "        print(j , end = ' ')\n",
    "    print('')"
   ]
  },
  {
   "cell_type": "markdown",
   "id": "5cf597c8",
   "metadata": {},
   "source": [
    "**Print the pattern below using loop**\n",
    "```\n",
    "#\n",
    "##\n",
    "###\n",
    "####\n",
    "#####\n",
    "```"
   ]
  },
  {
   "cell_type": "code",
   "execution_count": null,
   "id": "40ce2fbb",
   "metadata": {},
   "outputs": [],
   "source": []
  },
  {
   "cell_type": "code",
   "execution_count": 45,
   "id": "a1071345",
   "metadata": {},
   "outputs": [
    {
     "name": "stdout",
     "output_type": "stream",
     "text": [
      "#\n",
      "##\n",
      "###\n",
      "####\n",
      "#####\n"
     ]
    }
   ],
   "source": [
    "for i in range(5):\n",
    "    pat = '#' * (i+1)\n",
    "    print(pat)"
   ]
  },
  {
   "cell_type": "code",
   "execution_count": 1,
   "id": "a5932649",
   "metadata": {},
   "outputs": [
    {
     "data": {
      "text/plain": [
       "range(0, 5)"
      ]
     },
     "execution_count": 1,
     "metadata": {},
     "output_type": "execute_result"
    }
   ],
   "source": [
    "#range(start , stop , step)\n",
    "range(5)"
   ]
  },
  {
   "cell_type": "code",
   "execution_count": 2,
   "id": "3ea82a12",
   "metadata": {},
   "outputs": [
    {
     "data": {
      "text/plain": [
       "[0, 1, 2, 3, 4]"
      ]
     },
     "execution_count": 2,
     "metadata": {},
     "output_type": "execute_result"
    }
   ],
   "source": [
    "list(range(5))"
   ]
  },
  {
   "cell_type": "code",
   "execution_count": 4,
   "id": "bdeb67ee",
   "metadata": {},
   "outputs": [
    {
     "name": "stdout",
     "output_type": "stream",
     "text": [
      "0\n",
      "1\n",
      "2\n",
      "3\n",
      "4\n"
     ]
    }
   ],
   "source": [
    "for x in range(5):\n",
    "    print(x)"
   ]
  },
  {
   "cell_type": "code",
   "execution_count": 5,
   "id": "bbd09544",
   "metadata": {},
   "outputs": [
    {
     "name": "stdout",
     "output_type": "stream",
     "text": [
      "a\n",
      "e\n",
      "i\n",
      "o\n",
      "u\n"
     ]
    }
   ],
   "source": [
    "l = ['a' , 'e', 'i' , 'o' , 'u']\n",
    "i = 0\n",
    "while i <len(l):\n",
    "    print (l[i])\n",
    "    i += 1"
   ]
  },
  {
   "cell_type": "code",
   "execution_count": 7,
   "id": "fb97aa21",
   "metadata": {},
   "outputs": [
    {
     "name": "stdout",
     "output_type": "stream",
     "text": [
      "x is tracking  a\n",
      "x is tracking  e\n",
      "x is tracking  i\n",
      "x is tracking  o\n",
      "x is tracking  u\n"
     ]
    }
   ],
   "source": [
    "for x in l:\n",
    "    print (f'x is tracking  {x}')"
   ]
  },
  {
   "cell_type": "code",
   "execution_count": 8,
   "id": "39836fb9",
   "metadata": {},
   "outputs": [
    {
     "data": {
      "text/plain": [
       "['a', 'e', 'i', 'o', 'u']"
      ]
     },
     "execution_count": 8,
     "metadata": {},
     "output_type": "execute_result"
    }
   ],
   "source": [
    "l"
   ]
  },
  {
   "cell_type": "code",
   "execution_count": 9,
   "id": "a87a39b4",
   "metadata": {},
   "outputs": [],
   "source": [
    "l1 = [1, 2, 3, 4, 5]"
   ]
  },
  {
   "cell_type": "code",
   "execution_count": 10,
   "id": "5e8cb9a1",
   "metadata": {},
   "outputs": [
    {
     "name": "stdout",
     "output_type": "stream",
     "text": [
      "x : a , y : 1\n",
      "x : e , y : 2\n",
      "x : i , y : 3\n",
      "x : o , y : 4\n",
      "x : u , y : 5\n"
     ]
    }
   ],
   "source": [
    "for x , y in zip(l , l1):\n",
    "    print(f'x : {x} , y : {y}')"
   ]
  },
  {
   "cell_type": "code",
   "execution_count": 11,
   "id": "d8bbc2d6",
   "metadata": {},
   "outputs": [],
   "source": [
    "l2 = ['a' , 'b' , 'c']"
   ]
  },
  {
   "cell_type": "code",
   "execution_count": 12,
   "id": "2875c12b",
   "metadata": {},
   "outputs": [
    {
     "name": "stdout",
     "output_type": "stream",
     "text": [
      "x : 1 , y : a\n",
      "x : 2 , y : b\n",
      "x : 3 , y : c\n"
     ]
    }
   ],
   "source": [
    "for x , y in zip(l1 , l2):\n",
    "    print(f'x : {x} , y : {y}')"
   ]
  },
  {
   "cell_type": "code",
   "execution_count": null,
   "id": "7cb42c54",
   "metadata": {},
   "outputs": [],
   "source": []
  }
 ],
 "metadata": {
  "kernelspec": {
   "display_name": "Python 3 (ipykernel)",
   "language": "python",
   "name": "python3"
  },
  "language_info": {
   "codemirror_mode": {
    "name": "ipython",
    "version": 3
   },
   "file_extension": ".py",
   "mimetype": "text/x-python",
   "name": "python",
   "nbconvert_exporter": "python",
   "pygments_lexer": "ipython3",
   "version": "3.11.3"
  }
 },
 "nbformat": 4,
 "nbformat_minor": 5
}
