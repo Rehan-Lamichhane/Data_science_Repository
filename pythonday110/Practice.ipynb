{
 "cells": [
  {
   "cell_type": "markdown",
   "id": "779e42a9",
   "metadata": {},
   "source": [
    "```\n",
    "    **PRACTICE**\n",
    "    Print the following pattern\n",
    "    1\n",
    "    1 2\n",
    "    1 2 3\n",
    "    1 2 3 4\n",
    "    1 2 3 4 5 \n",
    "\n",
    "```"
   ]
  },
  {
   "cell_type": "code",
   "execution_count": 27,
   "id": "c534b087",
   "metadata": {},
   "outputs": [
    {
     "name": "stdout",
     "output_type": "stream",
     "text": [
      "\n",
      "1 \n",
      "1 2 \n",
      "1 2 3 \n",
      "1 2 3 4 \n",
      "1 2 3 4 5 \n"
     ]
    }
   ],
   "source": [
    "for num in range(6):\n",
    "    #num = num + 1\n",
    "    #print (num)\n",
    "    for num1 in range(1 , num+1):\n",
    "        print (num1 , end = ' ')\n",
    "    print('')\n",
    "    \n",
    "    "
   ]
  },
  {
   "cell_type": "markdown",
   "id": "7eaed0ca",
   "metadata": {},
   "source": [
    "**Print the following Pattern**\n",
    "```\n",
    "1\n",
    "2 2\n",
    "3 3 3\n",
    "4 4 4 4\n",
    "5 5 5 5 5\n",
    "\n",
    "```"
   ]
  },
  {
   "cell_type": "code",
   "execution_count": 34,
   "id": "ec4ef4f0",
   "metadata": {},
   "outputs": [
    {
     "name": "stdout",
     "output_type": "stream",
     "text": [
      "\n",
      "1 \n",
      "2 2 \n",
      "3 3 3 \n",
      "4 4 4 4 \n",
      "5 5 5 5 5 \n"
     ]
    }
   ],
   "source": [
    "for i in range(6):\n",
    "    #print (i)\n",
    "    for j in range (i ):\n",
    "        print(i , end = ' ')\n",
    "    print('')"
   ]
  },
  {
   "cell_type": "markdown",
   "id": "bf6901ad",
   "metadata": {},
   "source": [
    "**Pattern**\n",
    "```\n",
    "1 1 1 1 1 \n",
    "2 2 2 2 \n",
    "3 3 3 \n",
    "4 4 \n",
    "5\n",
    "```"
   ]
  },
  {
   "cell_type": "code",
   "execution_count": 39,
   "id": "74aa3ee4",
   "metadata": {},
   "outputs": [
    {
     "name": "stdout",
     "output_type": "stream",
     "text": [
      "1 1 1 1 1 \n",
      "2 2 2 2 \n",
      "3 3 3 \n",
      "4 4 \n",
      "5 \n"
     ]
    }
   ],
   "source": [
    "rows = 5\n",
    "b = 0\n",
    "# reverse for loop from 5 to 0\n",
    "for i in range(rows, 0, -1):\n",
    "   # print (i)\n",
    "    b += 1\n",
    "    #print(b)\n",
    "    for j in range(1, i + 1):\n",
    "        print(b, end=' ')\n",
    "    print('')"
   ]
  },
  {
   "cell_type": "markdown",
   "id": "0acbbc3d",
   "metadata": {},
   "source": [
    "**Pattern**\n",
    "```\n",
    "5 5 5 5 5 \n",
    "5 5 5 5 \n",
    "5 5 5 \n",
    "5 5 \n",
    "5\n",
    "```"
   ]
  },
  {
   "cell_type": "code",
   "execution_count": 40,
   "id": "15806862",
   "metadata": {},
   "outputs": [
    {
     "name": "stdout",
     "output_type": "stream",
     "text": [
      "5 5 5 5 5 \n",
      "5 5 5 5 \n",
      "5 5 5 \n",
      "5 5 \n",
      "5 \n"
     ]
    }
   ],
   "source": [
    "rows = 5\n",
    "num = rows\n",
    "# reverse for loop\n",
    "for i in range(rows, 0, -1):\n",
    "    for j in range(0, i):\n",
    "        print(num, end=' ')\n",
    "    print(\"\")"
   ]
  },
  {
   "cell_type": "markdown",
   "id": "7f25155d",
   "metadata": {},
   "source": [
    "**Calculate the standard deviation of the given list:**"
   ]
  },
  {
   "cell_type": "code",
   "execution_count": 2,
   "id": "db1a5fcf",
   "metadata": {},
   "outputs": [
    {
     "name": "stdout",
     "output_type": "stream",
     "text": [
      "15.616230872610288\n"
     ]
    }
   ],
   "source": [
    "import statistics\n",
    "l=[7,5,4,9,12,45]\n",
    "x = statistics.stdev(l)\n",
    "print(x)"
   ]
  },
  {
   "cell_type": "code",
   "execution_count": 4,
   "id": "5ef0ad7d",
   "metadata": {},
   "outputs": [
    {
     "data": {
      "text/plain": [
       "5"
      ]
     },
     "execution_count": 4,
     "metadata": {},
     "output_type": "execute_result"
    }
   ],
   "source": [
    "dict1 = {\n",
    "    'a' : 0,\n",
    "    'e' : 0,\n",
    "    'i' : 0,\n",
    "    'o' : 0,\n",
    "    'u' : 0,\n",
    "}\n",
    "count = 0\n",
    "dict1.keys()\n",
    "for i in dict1.keys():\n",
    "    count +=1\n",
    "count\n"
   ]
  },
  {
   "cell_type": "code",
   "execution_count": 12,
   "id": "68d87c2d",
   "metadata": {},
   "outputs": [
    {
     "name": "stdout",
     "output_type": "stream",
     "text": [
      "13\n"
     ]
    }
   ],
   "source": [
    "message = 'A quick brown fox jumped over alittle lazy dog'\n",
    "count=0\n",
    "for i in message:\n",
    "    #print(i)\n",
    "    if(i == 'a' or i == 'e' or i=='i' or i == 'o' or i=='u'):\n",
    "        count +=1\n",
    "print(count)"
   ]
  },
  {
   "cell_type": "markdown",
   "id": "40670d7b",
   "metadata": {},
   "source": [
    "# SQL PRACTICE"
   ]
  },
  {
   "cell_type": "code",
   "execution_count": 6,
   "id": "128f372e",
   "metadata": {},
   "outputs": [],
   "source": [
    "import sqlite3\n",
    "\n",
    "conn = sqlite3.connect(\"Mydb.sqlite3\")\n",
    "\n",
    "mycursor = conn.cursor()\n",
    "\n",
    "table = \"\"\"\n",
    "CREATE TABLE USER(\n",
    "    ID INTEGER PRIMARY KEY AUTOINCREMENT,\n",
    "    FNAME STRING NOT NULL,\n",
    "    MIDDLE_NAME STRING NULL,\n",
    "    LNAME STRING NOT NULL,\n",
    "    ADDRESS STRING NOT NULL,\n",
    "    CONTACT_NUMBER INTEGER NOT NULL,\n",
    "    GMAIL STRING NOT NULL\n",
    ");\n",
    "\"\"\"\n",
    "\n",
    "asdf = mycursor.execute(table)"
   ]
  },
  {
   "cell_type": "code",
   "execution_count": 7,
   "id": "b77fb416",
   "metadata": {},
   "outputs": [],
   "source": [
    "read = \"SELECT *FROM USER\""
   ]
  },
  {
   "cell_type": "code",
   "execution_count": 8,
   "id": "4accb4ab",
   "metadata": {},
   "outputs": [],
   "source": [
    "data  = mycursor.execute(read)"
   ]
  },
  {
   "cell_type": "code",
   "execution_count": 10,
   "id": "d1552ebb",
   "metadata": {},
   "outputs": [
    {
     "data": {
      "text/plain": [
       "[]"
      ]
     },
     "execution_count": 10,
     "metadata": {},
     "output_type": "execute_result"
    }
   ],
   "source": [
    "data.fetchall()"
   ]
  },
  {
   "cell_type": "code",
   "execution_count": 1,
   "id": "e123a6d8",
   "metadata": {},
   "outputs": [],
   "source": [
    "import numpy as np\n",
    "import matplotlib.pyplot as plt"
   ]
  },
  {
   "cell_type": "code",
   "execution_count": 3,
   "id": "b860e007",
   "metadata": {},
   "outputs": [
    {
     "data": {
      "text/plain": [
       "array([98.30108196, 26.28985391, 62.81168048, 70.83693931, 80.25637819,\n",
       "       36.94686473, 68.68455063, 30.38354379, 34.91046473, 54.46088408,\n",
       "        9.48554332, 76.60908574, 30.39506837, 33.40357827, 76.95824162,\n",
       "        9.63196278, 15.84736497, 68.88739977, 99.42570018, 98.23346795,\n",
       "       69.70353943, 95.6095224 , 63.98677329, 98.80240901, 19.33881503,\n",
       "       58.17882684,  4.56809696, 23.96560094,  2.98586962, 80.7156353 ,\n",
       "       82.95428329, 12.25594825, 67.05516217])"
      ]
     },
     "execution_count": 3,
     "metadata": {},
     "output_type": "execute_result"
    }
   ],
   "source": [
    "norm = np.random.uniform(1 , 100 , 33)\n",
    "norm"
   ]
  },
  {
   "cell_type": "code",
   "execution_count": 4,
   "id": "d03dd818",
   "metadata": {},
   "outputs": [
    {
     "data": {
      "text/plain": [
       "array([175.6690392 , 177.52286261, 161.68045947, 122.370683  ,\n",
       "       167.78275074, 109.79333719, 175.96869474, 196.89038769,\n",
       "       175.33737096, 180.79838615, 114.68980611, 173.46740937,\n",
       "       100.34359021, 143.26350475, 140.44893377, 145.96783998,\n",
       "       101.21143249, 182.30770171, 154.96945072, 133.97074037,\n",
       "       164.92249636, 168.11062935, 195.9505436 , 163.87878684,\n",
       "       171.88663064, 180.24596343, 151.79083395, 194.9610336 ,\n",
       "       186.51425263, 167.31024391, 195.95315028, 135.94657468,\n",
       "       187.35854639])"
      ]
     },
     "execution_count": 4,
     "metadata": {},
     "output_type": "execute_result"
    }
   ],
   "source": [
    "norm_1 = np.random.uniform(100 , 200 , 33)\n",
    "norm_1"
   ]
  },
  {
   "cell_type": "code",
   "execution_count": 22,
   "id": "d14b3269",
   "metadata": {},
   "outputs": [
    {
     "data": {
      "text/plain": [
       "<matplotlib.legend.Legend at 0x25d236a5ed0>"
      ]
     },
     "execution_count": 22,
     "metadata": {},
     "output_type": "execute_result"
    },
    {
     "data": {
      "image/png": "[encoded data removed]",
      "text/plain": [
       "<Figure size 640x480 with 1 Axes>"
      ]
     },
     "metadata": {},
     "output_type": "display_data"
    }
   ],
   "source": [
    "plt.plot(norm , '+g-.' , label = 'Norm')\n",
    "plt.plot(norm_1 , '+r-.' , label = 'Norm_1')\n",
    "plt.xlabel = 'norm'\n",
    "plt.ylabel = 'norm_1'\n",
    "plt.legend(loc = 'best' , shadow = True)"
   ]
  },
  {
   "cell_type": "code",
   "execution_count": null,
   "id": "b568bafd",
   "metadata": {},
   "outputs": [],
   "source": []
  }
 ],
 "metadata": {
  "kernelspec": {
   "display_name": "Python 3 (ipykernel)",
   "language": "python",
   "name": "python3"
  },
  "language_info": {
   "codemirror_mode": {
    "name": "ipython",
    "version": 3
   },
   "file_extension": ".py",
   "mimetype": "text/x-python",
   "name": "python",
   "nbconvert_exporter": "python",
   "pygments_lexer": "ipython3",
   "version": "3.11.3"
  }
 },
 "nbformat": 4,
 "nbformat_minor": 5
}
