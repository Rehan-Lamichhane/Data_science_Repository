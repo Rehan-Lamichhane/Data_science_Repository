{
 "cells": [
  {
   "cell_type": "markdown",
   "id": "3cfeb1cb",
   "metadata": {},
   "source": [
    "**Class and object**\n",
    "```python\n",
    "class ClassName:\n",
    "    def class_functions(identifier , arg1 , arg2 , ........):\n",
    "        codes\n",
    "        \n",
    "```"
   ]
  },
  {
   "cell_type": "code",
   "execution_count": 1,
   "id": "55269989",
   "metadata": {},
   "outputs": [],
   "source": [
    "class HelloWorld:\n",
    "    def send_grettings(self , name):\n",
    "        print(f'Hello to you {name}')\n",
    "        \n",
    "    def send_goodbye(self , name):\n",
    "        print(f'Goodbye to you {name}')\n",
    "        \n",
    "    def function_without_self():\n",
    "        print(f'Function without self')"
   ]
  },
  {
   "cell_type": "code",
   "execution_count": 2,
   "id": "61b50964",
   "metadata": {},
   "outputs": [],
   "source": [
    "hello_world_object = HelloWorld()\n",
    "#A copy of helloworld classs is stored in hello_world_object Variable\n",
    "#Hello_world_object variable is an objectof helloworld class"
   ]
  },
  {
   "cell_type": "code",
   "execution_count": 3,
   "id": "d99dd80d",
   "metadata": {},
   "outputs": [
    {
     "name": "stdout",
     "output_type": "stream",
     "text": [
      "Hello to you Hari Bahadur\n"
     ]
    }
   ],
   "source": [
    "hello_world_object.send_grettings('Hari Bahadur')"
   ]
  },
  {
   "cell_type": "code",
   "execution_count": 4,
   "id": "069e4008",
   "metadata": {},
   "outputs": [
    {
     "name": "stdout",
     "output_type": "stream",
     "text": [
      "Goodbye to you Hari Bahadur\n"
     ]
    }
   ],
   "source": [
    "hello_world_object.send_goodbye('Hari Bahadur')"
   ]
  },
  {
   "cell_type": "code",
   "execution_count": 7,
   "id": "5f5a703c",
   "metadata": {},
   "outputs": [],
   "source": [
    "#hello_world_object.function_without_self()"
   ]
  },
  {
   "cell_type": "code",
   "execution_count": 8,
   "id": "8a741e41",
   "metadata": {},
   "outputs": [],
   "source": [
    "#HelloWorld.function_without_self()"
   ]
  },
  {
   "cell_type": "code",
   "execution_count": 29,
   "id": "85d0791b",
   "metadata": {},
   "outputs": [],
   "source": [
    "class Vehicles:\n",
    "    def __init__(self , wheels , brand , vehicle_type , seats , engine , fule):\n",
    "        self.wheels = wheels\n",
    "        self.brand = brand\n",
    "        self.seats = seats\n",
    "        self.v_type = vehicle_type\n",
    "        self.engine = engine\n",
    "        self.indhan = fule\n",
    "        \n",
    "        \n",
    "    def display_info(self , ):\n",
    "        message = f'''\n",
    "        This is a {self.v_type} from {self.brand}.\n",
    "        This has {self.wheels} wheels and {self.seats} seats.\n",
    "        This has a {self.engine} engine.\n",
    "        This uses {self.indhan} as fule.\n",
    "        '''\n",
    "        \n",
    "        print(message)"
   ]
  },
  {
   "cell_type": "code",
   "execution_count": 30,
   "id": "2d18e2d0",
   "metadata": {},
   "outputs": [],
   "source": [
    "vech1 = Vehicles(wheels = 4 , brand = 'Lotus' , vehicle_type='Sports car'  , seats=2 , engine='V6' , fule = 'Petrol')"
   ]
  },
  {
   "cell_type": "code",
   "execution_count": 31,
   "id": "ec8978bd",
   "metadata": {},
   "outputs": [
    {
     "data": {
      "text/plain": [
       "'V6'"
      ]
     },
     "execution_count": 31,
     "metadata": {},
     "output_type": "execute_result"
    }
   ],
   "source": [
    "vech1.engine"
   ]
  },
  {
   "cell_type": "code",
   "execution_count": 32,
   "id": "b7d668d9",
   "metadata": {},
   "outputs": [
    {
     "data": {
      "text/plain": [
       "'Sports car'"
      ]
     },
     "execution_count": 32,
     "metadata": {},
     "output_type": "execute_result"
    }
   ],
   "source": [
    "vech1.v_type"
   ]
  },
  {
   "cell_type": "code",
   "execution_count": null,
   "id": "46dcaffc",
   "metadata": {},
   "outputs": [],
   "source": []
  },
  {
   "cell_type": "code",
   "execution_count": 33,
   "id": "e6d5e7c9",
   "metadata": {},
   "outputs": [
    {
     "data": {
      "text/plain": [
       "'Petrol'"
      ]
     },
     "execution_count": 33,
     "metadata": {},
     "output_type": "execute_result"
    }
   ],
   "source": [
    "vech1.indhan"
   ]
  },
  {
   "cell_type": "code",
   "execution_count": 34,
   "id": "42776a61",
   "metadata": {},
   "outputs": [
    {
     "name": "stdout",
     "output_type": "stream",
     "text": [
      "\n",
      "        This is a Sports car from Lotus.\n",
      "        This has 4 wheels and 2 seats.\n",
      "        This has a V6 engine.\n",
      "        This uses Petrol as fule.\n",
      "        \n"
     ]
    }
   ],
   "source": [
    "vech1.display_info()"
   ]
  },
  {
   "cell_type": "code",
   "execution_count": 35,
   "id": "16562d07",
   "metadata": {},
   "outputs": [],
   "source": [
    "vech2 = Vehicles(wheels=6 , brand='Ford' , vehicle_type='Pickup' , seats=5 , engine='V8' , fule = 'Petrol')"
   ]
  },
  {
   "cell_type": "code",
   "execution_count": 36,
   "id": "d41d284c",
   "metadata": {},
   "outputs": [
    {
     "name": "stdout",
     "output_type": "stream",
     "text": [
      "\n",
      "        This is a Pickup from Ford.\n",
      "        This has 6 wheels and 5 seats.\n",
      "        This has a V8 engine.\n",
      "        This uses Petrol as fule.\n",
      "        \n"
     ]
    }
   ],
   "source": [
    "vech2.display_info()"
   ]
  },
  {
   "cell_type": "code",
   "execution_count": 61,
   "id": "2dd943c8",
   "metadata": {},
   "outputs": [],
   "source": [
    "class Person:\n",
    "    def __init__(self , name , age ,gender,  status , profession , child , address):\n",
    "        self.name = name\n",
    "        self.age = age\n",
    "        self.status = status\n",
    "        self.profession = profession\n",
    "        self.child = child\n",
    "        self.address= address\n",
    "        self.gender = gender\n",
    "        \n",
    "        \n",
    "    def display_info(self , ):\n",
    "            messages = f'''\n",
    "            I am {self.name} from {self.address}.\n",
    "            I am {self.age} years old and {self.gender}\n",
    "            I have {self.child} child and {self.status} .\n",
    "            My profession is {self.profession}\n",
    "            '''\n",
    "        \n",
    "            print(messages)"
   ]
  },
  {
   "cell_type": "code",
   "execution_count": 62,
   "id": "db386542",
   "metadata": {},
   "outputs": [],
   "source": [
    "asd = Person(name = 'Rehan' , age =  19 ,  gender='Male' , status='Single' ,profession='None' , child= 0 ,address='Tinkune')"
   ]
  },
  {
   "cell_type": "code",
   "execution_count": 63,
   "id": "656e7e3f",
   "metadata": {},
   "outputs": [
    {
     "data": {
      "text/plain": [
       "'Rehan'"
      ]
     },
     "execution_count": 63,
     "metadata": {},
     "output_type": "execute_result"
    }
   ],
   "source": [
    "asd.name"
   ]
  },
  {
   "cell_type": "code",
   "execution_count": 64,
   "id": "51f7c136",
   "metadata": {},
   "outputs": [
    {
     "data": {
      "text/plain": [
       "0"
      ]
     },
     "execution_count": 64,
     "metadata": {},
     "output_type": "execute_result"
    }
   ],
   "source": [
    "asd.child\n"
   ]
  },
  {
   "cell_type": "code",
   "execution_count": 65,
   "id": "dd869d84",
   "metadata": {},
   "outputs": [
    {
     "data": {
      "text/plain": [
       "'Tinkune'"
      ]
     },
     "execution_count": 65,
     "metadata": {},
     "output_type": "execute_result"
    }
   ],
   "source": [
    "asd.address\n"
   ]
  },
  {
   "cell_type": "code",
   "execution_count": 67,
   "id": "bd9347b2",
   "metadata": {},
   "outputs": [
    {
     "name": "stdout",
     "output_type": "stream",
     "text": [
      "\n",
      "            I am Rehan from Tinkune.\n",
      "            I am 19 years old and Male\n",
      "            I have 0 child and Single .\n",
      "            My profession is None\n",
      "            \n"
     ]
    }
   ],
   "source": [
    "asd.display_info()"
   ]
  },
  {
   "cell_type": "code",
   "execution_count": 8,
   "id": "aad0d1b5",
   "metadata": {},
   "outputs": [],
   "source": [
    "class classA:\n",
    "    def __init__(self , ):\n",
    "        self.var1 =  456 # representing public variable\n",
    "        self._var2 = 987654 #representing protected vriable\n",
    "        self.__var3 = 546 #representing private variable\n",
    "        "
   ]
  },
  {
   "cell_type": "code",
   "execution_count": 9,
   "id": "200cafd6",
   "metadata": {},
   "outputs": [],
   "source": [
    "class_a = classA()"
   ]
  },
  {
   "cell_type": "code",
   "execution_count": 10,
   "id": "64902e16",
   "metadata": {},
   "outputs": [
    {
     "data": {
      "text/plain": [
       "456"
      ]
     },
     "execution_count": 10,
     "metadata": {},
     "output_type": "execute_result"
    }
   ],
   "source": [
    "class_a.var1"
   ]
  },
  {
   "cell_type": "code",
   "execution_count": 11,
   "id": "3aae120f",
   "metadata": {},
   "outputs": [
    {
     "data": {
      "text/plain": [
       "987654"
      ]
     },
     "execution_count": 11,
     "metadata": {},
     "output_type": "execute_result"
    }
   ],
   "source": [
    "class_a._var2"
   ]
  },
  {
   "cell_type": "code",
   "execution_count": 12,
   "id": "78f6c12a",
   "metadata": {},
   "outputs": [
    {
     "data": {
      "text/plain": [
       "546"
      ]
     },
     "execution_count": 12,
     "metadata": {},
     "output_type": "execute_result"
    }
   ],
   "source": [
    "class_a._classA__var3"
   ]
  },
  {
   "cell_type": "code",
   "execution_count": null,
   "id": "52fd0830",
   "metadata": {},
   "outputs": [],
   "source": []
  }
 ],
 "metadata": {
  "kernelspec": {
   "display_name": "Python 3 (ipykernel)",
   "language": "python",
   "name": "python3"
  },
  "language_info": {
   "codemirror_mode": {
    "name": "ipython",
    "version": 3
   },
   "file_extension": ".py",
   "mimetype": "text/x-python",
   "name": "python",
   "nbconvert_exporter": "python",
   "pygments_lexer": "ipython3",
   "version": "3.11.3"
  }
 },
 "nbformat": 4,
 "nbformat_minor": 5
}
