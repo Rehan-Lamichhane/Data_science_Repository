{
 "cells": [
  {
   "cell_type": "markdown",
   "id": "d82ed721",
   "metadata": {},
   "source": [
    "**Function**"
   ]
  },
  {
   "cell_type": "code",
   "execution_count": 5,
   "id": "8e0668cb",
   "metadata": {},
   "outputs": [
    {
     "name": "stdout",
     "output_type": "stream",
     "text": [
      "Before swaping the value: 12 , 13\n",
      "After swaping the value: 13 , 12\n"
     ]
    }
   ],
   "source": [
    "def swap(x , y):\n",
    "    return y , x\n",
    "\n",
    "a = 12\n",
    "b = 13\n",
    "print(f'Before swaping the value: {a} , {b}')\n",
    "a,b = swap(a , b)\n",
    "print(f'After swaping the value: {a} , {b}')\n"
   ]
  },
  {
   "cell_type": "code",
   "execution_count": 6,
   "id": "6dae0206",
   "metadata": {},
   "outputs": [],
   "source": [
    "def display_info(name , age , children , status):\n",
    "    message = f'{name} has {children} childern, is {age} years old and {status}'\n",
    "    print(message)"
   ]
  },
  {
   "cell_type": "code",
   "execution_count": 7,
   "id": "7839eebe",
   "metadata": {},
   "outputs": [
    {
     "name": "stdout",
     "output_type": "stream",
     "text": [
      "Hari Badahur has 2 childern, is 50years old and married\n"
     ]
    }
   ],
   "source": [
    "display_info('Hari Badahur' , 50 , 2 , 'married')\n",
    "#Order matters if not specified"
   ]
  },
  {
   "cell_type": "code",
   "execution_count": 11,
   "id": "94a392fb",
   "metadata": {},
   "outputs": [
    {
     "name": "stdout",
     "output_type": "stream",
     "text": [
      "Hari Badahur has 0 childern, is 10 years old and Alive\n"
     ]
    }
   ],
   "source": [
    "def display_info(name , age , children  = 0, status = 'Alive'):\n",
    "    message = f'{name} has {children} childern, is {age} years old and {status}'\n",
    "    print(message)\n",
    "\n",
    "display_info('Hari Badahur' , 10)"
   ]
  },
  {
   "cell_type": "code",
   "execution_count": 12,
   "id": "689566f1",
   "metadata": {},
   "outputs": [
    {
     "name": "stdout",
     "output_type": "stream",
     "text": [
      "Laxmi Parsad Devkota has 4 childern, is 100 years old and Dead\n"
     ]
    }
   ],
   "source": [
    "display_info('Laxmi Parsad Devkota' , 100 , 4 , 'Dead')"
   ]
  },
  {
   "cell_type": "code",
   "execution_count": 15,
   "id": "f0e33c20",
   "metadata": {},
   "outputs": [],
   "source": [
    "def add(a : int, b :int):#type hinting\n",
    "    print(f'{a} + {b} = {a + b}')"
   ]
  },
  {
   "cell_type": "code",
   "execution_count": 16,
   "id": "f313ec79",
   "metadata": {},
   "outputs": [
    {
     "name": "stdout",
     "output_type": "stream",
     "text": [
      "5 + 6 = 11\n"
     ]
    }
   ],
   "source": [
    "add(5  ,6)"
   ]
  },
  {
   "cell_type": "code",
   "execution_count": 18,
   "id": "440351bd",
   "metadata": {},
   "outputs": [
    {
     "name": "stdout",
     "output_type": "stream",
     "text": [
      "hi + hello = hihello\n"
     ]
    }
   ],
   "source": [
    "add('hi' , 'hello')"
   ]
  },
  {
   "cell_type": "code",
   "execution_count": 19,
   "id": "d9ed39f8",
   "metadata": {},
   "outputs": [
    {
     "data": {
      "text/plain": [
       "True"
      ]
     },
     "execution_count": 19,
     "metadata": {},
     "output_type": "execute_result"
    }
   ],
   "source": [
    "type(88) is int"
   ]
  },
  {
   "cell_type": "code",
   "execution_count": 20,
   "id": "5c44cc71",
   "metadata": {},
   "outputs": [],
   "source": [
    "def add (a : int , b : int):#type hinting\n",
    "    if (type(a) is int) and (type(b) is int):#\n",
    "        return a + b\n",
    "    raise TypeError('Expected input datatype int but got another datatype')"
   ]
  },
  {
   "cell_type": "code",
   "execution_count": 21,
   "id": "54b7e973",
   "metadata": {},
   "outputs": [
    {
     "data": {
      "text/plain": [
       "11"
      ]
     },
     "execution_count": 21,
     "metadata": {},
     "output_type": "execute_result"
    }
   ],
   "source": [
    "add(5 , 6)"
   ]
  },
  {
   "cell_type": "code",
   "execution_count": 22,
   "id": "4bfff910",
   "metadata": {},
   "outputs": [
    {
     "ename": "TypeError",
     "evalue": "Expected input datatype int but got another datatype",
     "output_type": "error",
     "traceback": [
      "\u001b[1;31m---------------------------------------------------------------------------\u001b[0m",
      "\u001b[1;31mTypeError\u001b[0m                                 Traceback (most recent call last)",
      "Cell \u001b[1;32mIn[22], line 1\u001b[0m\n\u001b[1;32m----> 1\u001b[0m add(\u001b[38;5;124m'\u001b[39m\u001b[38;5;124mhi\u001b[39m\u001b[38;5;124m'\u001b[39m , \u001b[38;5;124m'\u001b[39m\u001b[38;5;124mhello\u001b[39m\u001b[38;5;124m'\u001b[39m)\n",
      "Cell \u001b[1;32mIn[20], line 4\u001b[0m, in \u001b[0;36madd\u001b[1;34m(a, b)\u001b[0m\n\u001b[0;32m      2\u001b[0m \u001b[38;5;28;01mif\u001b[39;00m (\u001b[38;5;28mtype\u001b[39m(a) \u001b[38;5;129;01mis\u001b[39;00m \u001b[38;5;28mint\u001b[39m) \u001b[38;5;129;01mand\u001b[39;00m (\u001b[38;5;28mtype\u001b[39m(b) \u001b[38;5;129;01mis\u001b[39;00m \u001b[38;5;28mint\u001b[39m):\u001b[38;5;66;03m#\u001b[39;00m\n\u001b[0;32m      3\u001b[0m     \u001b[38;5;28;01mreturn\u001b[39;00m a \u001b[38;5;241m+\u001b[39m b\n\u001b[1;32m----> 4\u001b[0m \u001b[38;5;28;01mraise\u001b[39;00m \u001b[38;5;167;01mTypeError\u001b[39;00m(\u001b[38;5;124m'\u001b[39m\u001b[38;5;124mExpected input datatype int but got another datatype\u001b[39m\u001b[38;5;124m'\u001b[39m)\n",
      "\u001b[1;31mTypeError\u001b[0m: Expected input datatype int but got another datatype"
     ]
    }
   ],
   "source": [
    "add('hi' , 'hello')"
   ]
  },
  {
   "cell_type": "code",
   "execution_count": 23,
   "id": "b81f731a",
   "metadata": {},
   "outputs": [
    {
     "ename": "TypeError",
     "evalue": "Expected input datatype int but got another datatype",
     "output_type": "error",
     "traceback": [
      "\u001b[1;31m---------------------------------------------------------------------------\u001b[0m",
      "\u001b[1;31mTypeError\u001b[0m                                 Traceback (most recent call last)",
      "Cell \u001b[1;32mIn[23], line 1\u001b[0m\n\u001b[1;32m----> 1\u001b[0m add(\u001b[38;5;241m4\u001b[39m , \u001b[38;5;124m'\u001b[39m\u001b[38;5;124mhi\u001b[39m\u001b[38;5;124m'\u001b[39m)\n",
      "Cell \u001b[1;32mIn[20], line 4\u001b[0m, in \u001b[0;36madd\u001b[1;34m(a, b)\u001b[0m\n\u001b[0;32m      2\u001b[0m \u001b[38;5;28;01mif\u001b[39;00m (\u001b[38;5;28mtype\u001b[39m(a) \u001b[38;5;129;01mis\u001b[39;00m \u001b[38;5;28mint\u001b[39m) \u001b[38;5;129;01mand\u001b[39;00m (\u001b[38;5;28mtype\u001b[39m(b) \u001b[38;5;129;01mis\u001b[39;00m \u001b[38;5;28mint\u001b[39m):\u001b[38;5;66;03m#\u001b[39;00m\n\u001b[0;32m      3\u001b[0m     \u001b[38;5;28;01mreturn\u001b[39;00m a \u001b[38;5;241m+\u001b[39m b\n\u001b[1;32m----> 4\u001b[0m \u001b[38;5;28;01mraise\u001b[39;00m \u001b[38;5;167;01mTypeError\u001b[39;00m(\u001b[38;5;124m'\u001b[39m\u001b[38;5;124mExpected input datatype int but got another datatype\u001b[39m\u001b[38;5;124m'\u001b[39m)\n",
      "\u001b[1;31mTypeError\u001b[0m: Expected input datatype int but got another datatype"
     ]
    }
   ],
   "source": [
    "add(4 , 'hi')"
   ]
  },
  {
   "cell_type": "code",
   "execution_count": 24,
   "id": "5b3ec4cc",
   "metadata": {},
   "outputs": [],
   "source": [
    "def divide(a , b):\n",
    "    if b==0:\n",
    "        raise ZeroDivisionError('Denominator must not be zero: ')\n",
    "    return a / b"
   ]
  },
  {
   "cell_type": "code",
   "execution_count": 29,
   "id": "10337883",
   "metadata": {},
   "outputs": [
    {
     "data": {
      "text/plain": [
       "1.0"
      ]
     },
     "execution_count": 29,
     "metadata": {},
     "output_type": "execute_result"
    }
   ],
   "source": [
    "divide(2 , 2)"
   ]
  },
  {
   "cell_type": "markdown",
   "id": "8fd63edf",
   "metadata": {},
   "source": [
    "**Lamda Function**\n",
    "```python\n",
    "func_name = lambda arguments: calculations\n",
    "```"
   ]
  },
  {
   "cell_type": "code",
   "execution_count": 30,
   "id": "e24dabb4",
   "metadata": {},
   "outputs": [],
   "source": [
    "#def double_num(x):\n",
    " #   return x * 2\n",
    "    \n",
    "double_num = lambda x : x * 2"
   ]
  },
  {
   "cell_type": "code",
   "execution_count": 31,
   "id": "c67f5b18",
   "metadata": {},
   "outputs": [
    {
     "data": {
      "text/plain": [
       "16"
      ]
     },
     "execution_count": 31,
     "metadata": {},
     "output_type": "execute_result"
    }
   ],
   "source": [
    "double_num(8)"
   ]
  },
  {
   "cell_type": "code",
   "execution_count": 32,
   "id": "329e160d",
   "metadata": {},
   "outputs": [],
   "source": [
    "#Using function calculate the area of four walls (lambda)\n",
    "area = lambda l , b , h : 2*h*(l + b)"
   ]
  },
  {
   "cell_type": "code",
   "execution_count": 36,
   "id": "3707c169",
   "metadata": {},
   "outputs": [
    {
     "data": {
      "text/plain": [
       "70"
      ]
     },
     "execution_count": 36,
     "metadata": {},
     "output_type": "execute_result"
    }
   ],
   "source": [
    "area(2,5,5)"
   ]
  },
  {
   "cell_type": "code",
   "execution_count": 40,
   "id": "c9b7c568",
   "metadata": {},
   "outputs": [],
   "source": [
    "area_peri =lambda r:(3.14*r**2 , 2*3.14*r)"
   ]
  },
  {
   "cell_type": "code",
   "execution_count": 41,
   "id": "060b3589",
   "metadata": {},
   "outputs": [
    {
     "data": {
      "text/plain": [
       "(153.86, 43.96)"
      ]
     },
     "execution_count": 41,
     "metadata": {},
     "output_type": "execute_result"
    }
   ],
   "source": [
    "area_peri(7)"
   ]
  },
  {
   "cell_type": "code",
   "execution_count": 43,
   "id": "8ea7136c",
   "metadata": {},
   "outputs": [],
   "source": [
    "def some_empty_function(arg1 , agr2 , ):\n",
    "    pass"
   ]
  },
  {
   "cell_type": "code",
   "execution_count": 45,
   "id": "97c7d494",
   "metadata": {},
   "outputs": [],
   "source": [
    "if 2 > 3:\n",
    "    pass"
   ]
  },
  {
   "cell_type": "code",
   "execution_count": 49,
   "id": "21c86837",
   "metadata": {},
   "outputs": [],
   "source": [
    "def parent_function():\n",
    "    def child_function1():\n",
    "        pass\n",
    "    def child_function2():\n",
    "        print('I am child function 2')\n",
    "    def child_function3():\n",
    "        print('I am child function 3')\n",
    "        \n",
    "        \n",
    "    child_function1()\n",
    "    child_function2()\n",
    "    child_function3()"
   ]
  },
  {
   "cell_type": "code",
   "execution_count": 50,
   "id": "de063eb0",
   "metadata": {},
   "outputs": [
    {
     "name": "stdout",
     "output_type": "stream",
     "text": [
      "I am child function 2\n",
      "I am child function 3\n"
     ]
    }
   ],
   "source": [
    "parent_function()"
   ]
  },
  {
   "cell_type": "markdown",
   "id": "08567f70",
   "metadata": {},
   "source": [
    "**Compute the factrioal of n digits**\n"
   ]
  },
  {
   "cell_type": "code",
   "execution_count": 70,
   "id": "eb504722",
   "metadata": {},
   "outputs": [],
   "source": [
    "def factrioal(a):\n",
    "    if(a==0):\n",
    "        return 1\n",
    "    fac = 1\n",
    "    for i in range(1 , a+1):\n",
    "        fac *= i\n",
    "    return fac"
   ]
  },
  {
   "cell_type": "code",
   "execution_count": 71,
   "id": "11479bd3",
   "metadata": {},
   "outputs": [
    {
     "data": {
      "text/plain": [
       "120"
      ]
     },
     "execution_count": 71,
     "metadata": {},
     "output_type": "execute_result"
    }
   ],
   "source": [
    "print(f'The facfactrioal(5)"
   ]
  },
  {
   "cell_type": "code",
   "execution_count": 63,
   "id": "bbb8abd9",
   "metadata": {},
   "outputs": [
    {
     "data": {
      "text/plain": [
       "6"
      ]
     },
     "execution_count": 63,
     "metadata": {},
     "output_type": "execute_result"
    }
   ],
   "source": [
    "factrioal(3)"
   ]
  },
  {
   "cell_type": "code",
   "execution_count": 64,
   "id": "325182da",
   "metadata": {},
   "outputs": [
    {
     "data": {
      "text/plain": [
       "1"
      ]
     },
     "execution_count": 64,
     "metadata": {},
     "output_type": "execute_result"
    }
   ],
   "source": [
    "factrioal(0)"
   ]
  },
  {
   "cell_type": "code",
   "execution_count": 69,
   "id": "83b6a72a",
   "metadata": {},
   "outputs": [
    {
     "data": {
      "text/plain": [
       "2432902008176640000"
      ]
     },
     "execution_count": 69,
     "metadata": {},
     "output_type": "execute_result"
    }
   ],
   "source": [
    "factrioal(20)"
   ]
  },
  {
   "cell_type": "code",
   "execution_count": null,
   "id": "b29e769b",
   "metadata": {},
   "outputs": [],
   "source": []
  }
 ],
 "metadata": {
  "kernelspec": {
   "display_name": "Python 3 (ipykernel)",
   "language": "python",
   "name": "python3"
  },
  "language_info": {
   "codemirror_mode": {
    "name": "ipython",
    "version": 3
   },
   "file_extension": ".py",
   "mimetype": "text/x-python",
   "name": "python",
   "nbconvert_exporter": "python",
   "pygments_lexer": "ipython3",
   "version": "3.11.3"
  }
 },
 "nbformat": 4,
 "nbformat_minor": 5
}
