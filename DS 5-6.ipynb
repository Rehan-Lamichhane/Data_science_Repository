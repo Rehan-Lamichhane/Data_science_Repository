{
  "cells": [
    {
      "cell_type": "markdown",
      "metadata": {
        "id": "rGwiRCtOFozu"
      },
      "source": [
        "## Reinforcement Learning\n",
        "## Tic-Tac-Toe"
      ]
    },
    {
      "cell_type": "code",
      "execution_count": null,
      "metadata": {
        "id": "bQsO-pOpFoz0"
      },
      "outputs": [],
      "source": [
        "import random"
      ]
    },
    {
      "cell_type": "code",
      "execution_count": null,
      "metadata": {
        "id": "cR6sWhIjFoz2"
      },
      "outputs": [],
      "source": [
        "class TicTacToe:\n",
        "\n",
        "    def __init__(self, player1, player2):\n",
        "        self.player_1 = player1\n",
        "        self.player_2 = player2\n",
        "        self.board = [\" \"] * 9\n",
        "        self.player_1_turn = random.choice([True, False])\n",
        "\n",
        "    def check_full(self):\n",
        "        emptys = [x for x in self.board if x == ' ']\n",
        "        return len(emptys) == 0\n",
        "\n",
        "    def print_board(self):\n",
        "        b = self.board\n",
        "        board = f\"\"\"\n",
        "           {b[0]} | {b[1]} | {b[2]}\n",
        "        -----------------\n",
        "           {b[3]} | {b[4]} | {b[5]}\n",
        "        -----------------\n",
        "           {b[6]} | {b[7]} | {b[8]}\n",
        "\n",
        "        \"\"\"\n",
        "        print(board)\n",
        "\n",
        "    def check_winner(self, char):\n",
        "\n",
        "        b = self.board\n",
        "        winner = False\n",
        "\n",
        "        conditions = [\n",
        "            (0,1,2),\n",
        "            (3,4,5),\n",
        "            (6,7,8),\n",
        "            (0,3,6),\n",
        "            (1,4,7),\n",
        "            (2,5,8),\n",
        "            (0,4,8),\n",
        "            (2,4,6)\n",
        "        ]\n",
        "\n",
        "        for i1, i2,i3 in conditions:\n",
        "            if char == b[i1] == b[i2] == b[i3]:\n",
        "                winner = True\n",
        "                break\n",
        "\n",
        "        return winner\n",
        "\n",
        "    def play(self):\n",
        "\n",
        "        self.player_1.new_game()\n",
        "        self.player_2.new_game()\n",
        "\n",
        "        while True:\n",
        "\n",
        "            if self.player_1_turn:\n",
        "                player = self.player_1\n",
        "                other_player = self.player_2\n",
        "            else:\n",
        "                player = self.player_2\n",
        "                other_player = self.player_1\n",
        "\n",
        "            char = player.char\n",
        "\n",
        "            #ask for move\n",
        "            if player.type == 'human':\n",
        "                print(f\"{player.name}'s Turn\")\n",
        "                self.print_board()\n",
        "\n",
        "            move = player.make_move(self.board)\n",
        "\n",
        "            #check valid\n",
        "            if move < 9 and move >= 0:\n",
        "                #put char\n",
        "                self.board[move] = char\n",
        "            else:\n",
        "                print('Invalid Move')\n",
        "                break\n",
        "\n",
        "            #check winner\n",
        "            if self.check_winner(char):\n",
        "                player.winner()\n",
        "                player.reward(5, self.board)\n",
        "                other_player.reward(-5, self.board)\n",
        "                break\n",
        "\n",
        "            #check full(draw)\n",
        "            if self.check_full():\n",
        "                if player.type == 'human':\n",
        "                    print(\"Game ended as draw\")\n",
        "                player.reward(1, self.board)\n",
        "                other_player.reward(1, self.board)\n",
        "                break\n",
        "\n",
        "            player.reward(-0.25, self.board)\n",
        "\n",
        "            self.player_1_turn = not self.player_1_turn\n"
      ]
    },
    {
      "cell_type": "code",
      "execution_count": null,
      "metadata": {
        "id": "jHI-piApFoz3"
      },
      "outputs": [],
      "source": [
        "class Player:\n",
        "\n",
        "    def __init__(self, name, char):\n",
        "        self.name = name\n",
        "        self.char = char\n",
        "        self.type = 'human'\n",
        "\n",
        "    def make_move(self, board):\n",
        "        ans = input(\"Enter your move: \")\n",
        "        return int(ans)\n",
        "\n",
        "    def new_game(self):\n",
        "        print(f\"{self.name} is {self.char}\")\n",
        "\n",
        "    def winner(self):\n",
        "        print(f\"{self.name} is winner\")\n",
        "\n",
        "    def reward(self, value, board):\n",
        "        print(f\"{self.name} gets reward of {value}\")\n",
        "\n",
        "    def available_moves(self, board):\n",
        "        return [x for x in range(9) if board[x] == ' ']\n",
        "\n"
      ]
    },
    {
      "cell_type": "code",
      "execution_count": null,
      "metadata": {
        "id": "3sCZFetFFoz4"
      },
      "outputs": [],
      "source": [
        "class AI(Player):\n",
        "    def __init__(self, name, char, epsilon, gamma, alpha):\n",
        "        self.name = name\n",
        "        self.char = char\n",
        "        self.type = 'AI'\n",
        "        self.epsilon = epsilon #Epsilon-greedy\n",
        "        self.gamma = gamma #Discount Factor\n",
        "        self.alpha = alpha #Learning Rate\n",
        "        self.q_table = {}\n",
        "\n",
        "    def new_game(self):\n",
        "        self.prev_board = ()*9\n",
        "        self.prev_action = None\n",
        "\n",
        "    def winner(self):\n",
        "        pass\n",
        "\n",
        "    def get_Q(self, state, action):\n",
        "        if self.q_table.get((state, action)) == None:\n",
        "            self.q_table[(state, action)] = 5\n",
        "        return self.q_table[(state, action)]\n",
        "\n",
        "    def make_move(self, board):\n",
        "        #save old state\n",
        "        self.prev_board = tuple(board)\n",
        "\n",
        "        available_action =  self.available_moves(board)\n",
        "\n",
        "        #Select Random Action\n",
        "        if random.random() < self.epsilon:\n",
        "            action_taken = random.choice(available_action)\n",
        "            self.prev_action = action_taken\n",
        "            return action_taken\n",
        "\n",
        "        #Select action with max Q-Value\n",
        "        q_values = []\n",
        "        for action in available_action:\n",
        "            q_values.append(self.get_Q(self.prev_board , action))\n",
        "\n",
        "        max_q_val = max(q_values)\n",
        "        index = q_values.index(max_q_val)\n",
        "\n",
        "        action_taken = available_action[index]\n",
        "        self.prev_action = action_taken\n",
        "        return action_taken\n",
        "\n",
        "\n",
        "    def reward(self, value, board):\n",
        "        if self.prev_action:\n",
        "            self.q_learn(self.prev_board, self.prev_action, value, tuple(board))\n",
        "\n",
        "    def q_learn(self, state, action, reward, new_state):\n",
        "\n",
        "        prev_q_val = self.get_Q(state, action)\n",
        "        available_action = self.available_moves(state)\n",
        "        max_q = max([self.get_Q(new_state, action) for action in  available_action])\n",
        "\n",
        "        self.q_table[(state, action)] = prev_q_val + self.alpha * ( reward + self.gamma * (max_q) - prev_q_val)"
      ]
    },
    {
      "cell_type": "code",
      "execution_count": null,
      "metadata": {
        "id": "7fzFYt3fFoz5"
      },
      "outputs": [],
      "source": [
        "player1 = AI('P-One', 'X', epsilon=0.3, gamma=0.9, alpha=0.1)\n",
        "player2 = AI('P-two', 'O', epsilon=0.3, gamma=0.9, alpha=0.1)"
      ]
    },
    {
      "cell_type": "code",
      "execution_count": null,
      "metadata": {
        "id": "YdB_JmKvFoz6"
      },
      "outputs": [],
      "source": [
        "#training takes time\n",
        "for i in range(5000):\n",
        "    game = TicTacToe(player1, player2)\n",
        "    game.play()"
      ]
    },
    {
      "cell_type": "code",
      "execution_count": null,
      "metadata": {
        "id": "OzT5rukFFoz7"
      },
      "outputs": [],
      "source": [
        "player2.epsilon = 0.0"
      ]
    },
    {
      "cell_type": "code",
      "execution_count": null,
      "metadata": {
        "id": "S92YKQo0Foz7"
      },
      "outputs": [],
      "source": [
        "player1 = Player('You', 'X')"
      ]
    },
    {
      "cell_type": "code",
      "execution_count": null,
      "metadata": {
        "colab": {
          "base_uri": "https://localhost:8080/"
        },
        "id": "iJdk_CyiFoz8",
        "outputId": "4bbcce4e-1c96-4af7-a0b9-6b6e619920a0"
      },
      "outputs": [
        {
          "output_type": "stream",
          "name": "stdout",
          "text": [
            "You is X\n",
            "You's Turn\n",
            "\n",
            "             |   |  \n",
            "        -----------------\n",
            "             |   |  \n",
            "        -----------------\n",
            "             |   |  \n",
            "        \n",
            "        \n",
            "Enter your move: 4\n",
            "You gets reward of -0.25\n",
            "You's Turn\n",
            "\n",
            "           O |   |  \n",
            "        -----------------\n",
            "             | X |  \n",
            "        -----------------\n",
            "             |   |  \n",
            "        \n",
            "        \n",
            "Enter your move: 3\n",
            "You gets reward of -0.25\n",
            "You's Turn\n",
            "\n",
            "           O |   |  \n",
            "        -----------------\n",
            "           X | X |  \n",
            "        -----------------\n",
            "             |   | O\n",
            "        \n",
            "        \n",
            "Enter your move: 6\n",
            "You gets reward of -0.25\n",
            "You's Turn\n",
            "\n",
            "           O |   | O\n",
            "        -----------------\n",
            "           X | X |  \n",
            "        -----------------\n",
            "           X |   | O\n",
            "        \n",
            "        \n",
            "Enter your move: 1\n",
            "You gets reward of -0.25\n",
            "You gets reward of -5\n"
          ]
        }
      ],
      "source": [
        "game = TicTacToe(player1, player2)\n",
        "game.play()"
      ]
    },
    {
      "cell_type": "code",
      "execution_count": null,
      "metadata": {
        "id": "aDr_YWhJFoz9"
      },
      "outputs": [],
      "source": []
    }
  ],
  "metadata": {
    "kernelspec": {
      "display_name": "Python 3",
      "language": "python",
      "name": "python3"
    },
    "language_info": {
      "codemirror_mode": {
        "name": "ipython",
        "version": 3
      },
      "file_extension": ".py",
      "mimetype": "text/x-python",
      "name": "python",
      "nbconvert_exporter": "python",
      "pygments_lexer": "ipython3",
      "version": "3.6.8"
    },
    "latex_envs": {
      "LaTeX_envs_menu_present": true,
      "autoclose": false,
      "autocomplete": true,
      "bibliofile": "biblio.bib",
      "cite_by": "apalike",
      "current_citInitial": 1,
      "eqLabelWithNumbers": true,
      "eqNumInitial": 1,
      "hotkeys": {
        "equation": "Ctrl-E",
        "itemize": "Ctrl-I"
      },
      "labels_anchors": false,
      "latex_user_defs": false,
      "report_style_numbering": false,
      "user_envs_cfg": false
    },
    "varInspector": {
      "cols": {
        "lenName": 16,
        "lenType": 16,
        "lenVar": 40
      },
      "kernels_config": {
        "python": {
          "delete_cmd_postfix": "",
          "delete_cmd_prefix": "del ",
          "library": "var_list.py",
          "varRefreshCmd": "print(var_dic_list())"
        },
        "r": {
          "delete_cmd_postfix": ") ",
          "delete_cmd_prefix": "rm(",
          "library": "var_list.r",
          "varRefreshCmd": "cat(var_dic_list()) "
        }
      },
      "types_to_exclude": [
        "module",
        "function",
        "builtin_function_or_method",
        "instance",
        "_Feature"
      ],
      "window_display": false
    },
    "colab": {
      "provenance": []
    }
  },
  "nbformat": 4,
  "nbformat_minor": 0
}